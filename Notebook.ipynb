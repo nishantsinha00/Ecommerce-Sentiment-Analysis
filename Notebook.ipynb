{
 "cells": [
  {
   "cell_type": "code",
   "execution_count": 2,
   "metadata": {},
   "outputs": [
    {
     "name": "stdout",
     "output_type": "stream",
     "text": [
      "All libraries loaded.\n"
     ]
    }
   ],
   "source": [
    "import sys\n",
    "import numpy as np\n",
    "import pandas as pd \n",
    "import seaborn as sns\n",
    "import matplotlib.pyplot as plt\n",
    "import re \n",
    "import nltk\n",
    "from nltk.corpus import stopwords,wordnet\n",
    "from nltk.stem.porter import PorterStemmer\n",
    "from nltk.stem import WordNetLemmatizer,SnowballStemmer\n",
    "from nltk import word_tokenize,sent_tokenize,pos_tag\n",
    "from nltk.tokenize import RegexpTokenizer\n",
    "from sklearn.feature_extraction.text import TfidfVectorizer,CountVectorizer\n",
    "from sklearn.naive_bayes import MultinomialNB\n",
    "from sklearn.model_selection import train_test_split,GridSearchCV,RandomizedSearchCV,StratifiedKFold,cross_val_score\n",
    "from sklearn.preprocessing import LabelEncoder\n",
    "from sklearn.metrics import accuracy_score,confusion_matrix,classification_report\n",
    "from imblearn.under_sampling import RandomUnderSampler,TomekLinks,NearMiss\n",
    "from imblearn.over_sampling import RandomOverSampler,SMOTE\n",
    "from sklearn.dummy import DummyClassifier\n",
    "import tensorflow as tf\n",
    "from sklearn.pipeline import Pipeline\n",
    "from sklearn.ensemble import RandomForestClassifier\n",
    "from xgboost import XGBClassifier\n",
    "from gensim.models import Word2Vec\n",
    "from gensim.models.keyedvectors import KeyedVectors\n",
    "from tensorflow.keras.preprocessing import sequence\n",
    "from tensorflow.keras import utils\n",
    "from tensorflow.keras.models import Sequential\n",
    "from tensorflow.keras.layers import Dropout,Dense,Activation,Lambda,LSTM,SimpleRNN,GRU,Embedding,Conv1D\n",
    "from tensorflow.keras.preprocessing.text import Tokenizer\n",
    "from collections import defaultdict\n",
    "from tensorflow.keras import backend as K\n",
    "from tensorflow.keras.callbacks import EarlyStopping\n",
    "\n",
    "import warnings\n",
    "warnings.filterwarnings('ignore')\n",
    "warnings.filterwarnings('ignore',category=DeprecationWarning)\n",
    "print('All libraries loaded.')"
   ]
  },
  {
   "cell_type": "code",
   "execution_count": 3,
   "metadata": {},
   "outputs": [],
   "source": [
    "train_df = pd.read_csv(r'Ecommerce\\train_data.csv')\n",
    "test_df = pd.read_csv(r'Ecommerce\\test_data_hidden.csv')"
   ]
  },
  {
   "cell_type": "code",
   "execution_count": 4,
   "metadata": {},
   "outputs": [
    {
     "name": "stdout",
     "output_type": "stream",
     "text": [
      "Shape of training data: (4000, 8)\n",
      "Shape of testing data: (1000, 8)\n"
     ]
    }
   ],
   "source": [
    "print('Shape of training data:',train_df.shape)\n",
    "print('Shape of testing data:',test_df.shape)"
   ]
  },
  {
   "cell_type": "code",
   "execution_count": 5,
   "metadata": {},
   "outputs": [
    {
     "data": {
      "text/html": [
       "<div>\n",
       "<style scoped>\n",
       "    .dataframe tbody tr th:only-of-type {\n",
       "        vertical-align: middle;\n",
       "    }\n",
       "\n",
       "    .dataframe tbody tr th {\n",
       "        vertical-align: top;\n",
       "    }\n",
       "\n",
       "    .dataframe thead th {\n",
       "        text-align: right;\n",
       "    }\n",
       "</style>\n",
       "<table border=\"1\" class=\"dataframe\">\n",
       "  <thead>\n",
       "    <tr style=\"text-align: right;\">\n",
       "      <th></th>\n",
       "      <th>name</th>\n",
       "      <th>brand</th>\n",
       "      <th>categories</th>\n",
       "      <th>primaryCategories</th>\n",
       "      <th>reviews.date</th>\n",
       "      <th>reviews.text</th>\n",
       "      <th>reviews.title</th>\n",
       "      <th>sentiment</th>\n",
       "    </tr>\n",
       "  </thead>\n",
       "  <tbody>\n",
       "    <tr>\n",
       "      <th>0</th>\n",
       "      <td>All-New Fire HD 8 Tablet, 8\" HD Display, Wi-Fi...</td>\n",
       "      <td>Amazon</td>\n",
       "      <td>Electronics,iPad &amp; Tablets,All Tablets,Fire Ta...</td>\n",
       "      <td>Electronics</td>\n",
       "      <td>2016-12-26T00:00:00.000Z</td>\n",
       "      <td>Purchased on Black FridayPros - Great Price (e...</td>\n",
       "      <td>Powerful tablet</td>\n",
       "      <td>Positive</td>\n",
       "    </tr>\n",
       "    <tr>\n",
       "      <th>1</th>\n",
       "      <td>Amazon - Echo Plus w/ Built-In Hub - Silver</td>\n",
       "      <td>Amazon</td>\n",
       "      <td>Amazon Echo,Smart Home,Networking,Home &amp; Tools...</td>\n",
       "      <td>Electronics,Hardware</td>\n",
       "      <td>2018-01-17T00:00:00.000Z</td>\n",
       "      <td>I purchased two Amazon in Echo Plus and two do...</td>\n",
       "      <td>Amazon Echo Plus AWESOME</td>\n",
       "      <td>Positive</td>\n",
       "    </tr>\n",
       "    <tr>\n",
       "      <th>2</th>\n",
       "      <td>Amazon Echo Show Alexa-enabled Bluetooth Speak...</td>\n",
       "      <td>Amazon</td>\n",
       "      <td>Amazon Echo,Virtual Assistant Speakers,Electro...</td>\n",
       "      <td>Electronics,Hardware</td>\n",
       "      <td>2017-12-20T00:00:00.000Z</td>\n",
       "      <td>Just an average Alexa option. Does show a few ...</td>\n",
       "      <td>Average</td>\n",
       "      <td>Neutral</td>\n",
       "    </tr>\n",
       "    <tr>\n",
       "      <th>3</th>\n",
       "      <td>Fire HD 10 Tablet, 10.1 HD Display, Wi-Fi, 16 ...</td>\n",
       "      <td>Amazon</td>\n",
       "      <td>eBook Readers,Fire Tablets,Electronics Feature...</td>\n",
       "      <td>Office Supplies,Electronics</td>\n",
       "      <td>2017-08-04T00:00:00.000Z</td>\n",
       "      <td>very good product. Exactly what I wanted, and ...</td>\n",
       "      <td>Greattttttt</td>\n",
       "      <td>Positive</td>\n",
       "    </tr>\n",
       "    <tr>\n",
       "      <th>4</th>\n",
       "      <td>Brand New Amazon Kindle Fire 16gb 7\" Ips Displ...</td>\n",
       "      <td>Amazon</td>\n",
       "      <td>Computers/Tablets &amp; Networking,Tablets &amp; eBook...</td>\n",
       "      <td>Electronics</td>\n",
       "      <td>2017-01-23T00:00:00.000Z</td>\n",
       "      <td>This is the 3rd one I've purchased. I've bough...</td>\n",
       "      <td>Very durable!</td>\n",
       "      <td>Positive</td>\n",
       "    </tr>\n",
       "  </tbody>\n",
       "</table>\n",
       "</div>"
      ],
      "text/plain": [
       "                                                name   brand  \\\n",
       "0  All-New Fire HD 8 Tablet, 8\" HD Display, Wi-Fi...  Amazon   \n",
       "1        Amazon - Echo Plus w/ Built-In Hub - Silver  Amazon   \n",
       "2  Amazon Echo Show Alexa-enabled Bluetooth Speak...  Amazon   \n",
       "3  Fire HD 10 Tablet, 10.1 HD Display, Wi-Fi, 16 ...  Amazon   \n",
       "4  Brand New Amazon Kindle Fire 16gb 7\" Ips Displ...  Amazon   \n",
       "\n",
       "                                          categories  \\\n",
       "0  Electronics,iPad & Tablets,All Tablets,Fire Ta...   \n",
       "1  Amazon Echo,Smart Home,Networking,Home & Tools...   \n",
       "2  Amazon Echo,Virtual Assistant Speakers,Electro...   \n",
       "3  eBook Readers,Fire Tablets,Electronics Feature...   \n",
       "4  Computers/Tablets & Networking,Tablets & eBook...   \n",
       "\n",
       "             primaryCategories              reviews.date  \\\n",
       "0                  Electronics  2016-12-26T00:00:00.000Z   \n",
       "1         Electronics,Hardware  2018-01-17T00:00:00.000Z   \n",
       "2         Electronics,Hardware  2017-12-20T00:00:00.000Z   \n",
       "3  Office Supplies,Electronics  2017-08-04T00:00:00.000Z   \n",
       "4                  Electronics  2017-01-23T00:00:00.000Z   \n",
       "\n",
       "                                        reviews.text  \\\n",
       "0  Purchased on Black FridayPros - Great Price (e...   \n",
       "1  I purchased two Amazon in Echo Plus and two do...   \n",
       "2  Just an average Alexa option. Does show a few ...   \n",
       "3  very good product. Exactly what I wanted, and ...   \n",
       "4  This is the 3rd one I've purchased. I've bough...   \n",
       "\n",
       "              reviews.title sentiment  \n",
       "0           Powerful tablet  Positive  \n",
       "1  Amazon Echo Plus AWESOME  Positive  \n",
       "2                   Average   Neutral  \n",
       "3               Greattttttt  Positive  \n",
       "4             Very durable!  Positive  "
      ]
     },
     "execution_count": 5,
     "metadata": {},
     "output_type": "execute_result"
    }
   ],
   "source": [
    "train_df.head()"
   ]
  },
  {
   "cell_type": "code",
   "execution_count": 6,
   "metadata": {},
   "outputs": [
    {
     "data": {
      "text/html": [
       "<div>\n",
       "<style scoped>\n",
       "    .dataframe tbody tr th:only-of-type {\n",
       "        vertical-align: middle;\n",
       "    }\n",
       "\n",
       "    .dataframe tbody tr th {\n",
       "        vertical-align: top;\n",
       "    }\n",
       "\n",
       "    .dataframe thead th {\n",
       "        text-align: right;\n",
       "    }\n",
       "</style>\n",
       "<table border=\"1\" class=\"dataframe\">\n",
       "  <thead>\n",
       "    <tr style=\"text-align: right;\">\n",
       "      <th></th>\n",
       "      <th>reviews.text</th>\n",
       "      <th>reviews.title</th>\n",
       "      <th>sentiment</th>\n",
       "    </tr>\n",
       "  </thead>\n",
       "  <tbody>\n",
       "    <tr>\n",
       "      <th>0</th>\n",
       "      <td>Purchased on Black FridayPros - Great Price (e...</td>\n",
       "      <td>Powerful tablet</td>\n",
       "      <td>Positive</td>\n",
       "    </tr>\n",
       "    <tr>\n",
       "      <th>1</th>\n",
       "      <td>I purchased two Amazon in Echo Plus and two do...</td>\n",
       "      <td>Amazon Echo Plus AWESOME</td>\n",
       "      <td>Positive</td>\n",
       "    </tr>\n",
       "    <tr>\n",
       "      <th>3</th>\n",
       "      <td>very good product. Exactly what I wanted, and ...</td>\n",
       "      <td>Greattttttt</td>\n",
       "      <td>Positive</td>\n",
       "    </tr>\n",
       "    <tr>\n",
       "      <th>4</th>\n",
       "      <td>This is the 3rd one I've purchased. I've bough...</td>\n",
       "      <td>Very durable!</td>\n",
       "      <td>Positive</td>\n",
       "    </tr>\n",
       "    <tr>\n",
       "      <th>5</th>\n",
       "      <td>This is a great product. Light weight. I wish ...</td>\n",
       "      <td>You will love it</td>\n",
       "      <td>Positive</td>\n",
       "    </tr>\n",
       "  </tbody>\n",
       "</table>\n",
       "</div>"
      ],
      "text/plain": [
       "                                        reviews.text  \\\n",
       "0  Purchased on Black FridayPros - Great Price (e...   \n",
       "1  I purchased two Amazon in Echo Plus and two do...   \n",
       "3  very good product. Exactly what I wanted, and ...   \n",
       "4  This is the 3rd one I've purchased. I've bough...   \n",
       "5  This is a great product. Light weight. I wish ...   \n",
       "\n",
       "              reviews.title sentiment  \n",
       "0           Powerful tablet  Positive  \n",
       "1  Amazon Echo Plus AWESOME  Positive  \n",
       "3               Greattttttt  Positive  \n",
       "4             Very durable!  Positive  \n",
       "5          You will love it  Positive  "
      ]
     },
     "execution_count": 6,
     "metadata": {},
     "output_type": "execute_result"
    }
   ],
   "source": [
    "train_df.loc[train_df['sentiment']=='Positive','reviews.text':][:5]"
   ]
  },
  {
   "cell_type": "code",
   "execution_count": 7,
   "metadata": {},
   "outputs": [
    {
     "data": {
      "text/html": [
       "<div>\n",
       "<style scoped>\n",
       "    .dataframe tbody tr th:only-of-type {\n",
       "        vertical-align: middle;\n",
       "    }\n",
       "\n",
       "    .dataframe tbody tr th {\n",
       "        vertical-align: top;\n",
       "    }\n",
       "\n",
       "    .dataframe thead th {\n",
       "        text-align: right;\n",
       "    }\n",
       "</style>\n",
       "<table border=\"1\" class=\"dataframe\">\n",
       "  <thead>\n",
       "    <tr style=\"text-align: right;\">\n",
       "      <th></th>\n",
       "      <th>reviews.text</th>\n",
       "      <th>reviews.title</th>\n",
       "      <th>sentiment</th>\n",
       "    </tr>\n",
       "  </thead>\n",
       "  <tbody>\n",
       "    <tr>\n",
       "      <th>2</th>\n",
       "      <td>Just an average Alexa option. Does show a few ...</td>\n",
       "      <td>Average</td>\n",
       "      <td>Neutral</td>\n",
       "    </tr>\n",
       "    <tr>\n",
       "      <th>6</th>\n",
       "      <td>My 7-year old daughter saved up to by this. He...</td>\n",
       "      <td>OK For Entry Level Tablet</td>\n",
       "      <td>Neutral</td>\n",
       "    </tr>\n",
       "    <tr>\n",
       "      <th>17</th>\n",
       "      <td>Not as good as before the old kindle, just sea...</td>\n",
       "      <td>Not as good as before</td>\n",
       "      <td>Neutral</td>\n",
       "    </tr>\n",
       "    <tr>\n",
       "      <th>59</th>\n",
       "      <td>There is nothing spectacular about this item b...</td>\n",
       "      <td>Does what it says, missing one key feature</td>\n",
       "      <td>Neutral</td>\n",
       "    </tr>\n",
       "    <tr>\n",
       "      <th>95</th>\n",
       "      <td>It's unfair for me to rate this product cause ...</td>\n",
       "      <td>Haven't set it up yet</td>\n",
       "      <td>Neutral</td>\n",
       "    </tr>\n",
       "  </tbody>\n",
       "</table>\n",
       "</div>"
      ],
      "text/plain": [
       "                                         reviews.text  \\\n",
       "2   Just an average Alexa option. Does show a few ...   \n",
       "6   My 7-year old daughter saved up to by this. He...   \n",
       "17  Not as good as before the old kindle, just sea...   \n",
       "59  There is nothing spectacular about this item b...   \n",
       "95  It's unfair for me to rate this product cause ...   \n",
       "\n",
       "                                 reviews.title sentiment  \n",
       "2                                      Average   Neutral  \n",
       "6                    OK For Entry Level Tablet   Neutral  \n",
       "17                       Not as good as before   Neutral  \n",
       "59  Does what it says, missing one key feature   Neutral  \n",
       "95                       Haven't set it up yet   Neutral  "
      ]
     },
     "execution_count": 7,
     "metadata": {},
     "output_type": "execute_result"
    }
   ],
   "source": [
    "train_df.loc[train_df['sentiment']=='Neutral','reviews.text':][:5]"
   ]
  },
  {
   "cell_type": "code",
   "execution_count": 8,
   "metadata": {},
   "outputs": [
    {
     "data": {
      "text/html": [
       "<div>\n",
       "<style scoped>\n",
       "    .dataframe tbody tr th:only-of-type {\n",
       "        vertical-align: middle;\n",
       "    }\n",
       "\n",
       "    .dataframe tbody tr th {\n",
       "        vertical-align: top;\n",
       "    }\n",
       "\n",
       "    .dataframe thead th {\n",
       "        text-align: right;\n",
       "    }\n",
       "</style>\n",
       "<table border=\"1\" class=\"dataframe\">\n",
       "  <thead>\n",
       "    <tr style=\"text-align: right;\">\n",
       "      <th></th>\n",
       "      <th>reviews.text</th>\n",
       "      <th>reviews.title</th>\n",
       "      <th>sentiment</th>\n",
       "    </tr>\n",
       "  </thead>\n",
       "  <tbody>\n",
       "    <tr>\n",
       "      <th>9</th>\n",
       "      <td>was cheap, can not run chrome stuff, returned ...</td>\n",
       "      <td>was cheap, can not run chrome stuff, returned</td>\n",
       "      <td>Negative</td>\n",
       "    </tr>\n",
       "    <tr>\n",
       "      <th>97</th>\n",
       "      <td>Worthless, except as a regular echo and a poor...</td>\n",
       "      <td>Useless screen so why pay for it?</td>\n",
       "      <td>Negative</td>\n",
       "    </tr>\n",
       "    <tr>\n",
       "      <th>104</th>\n",
       "      <td>Too bad Amazon turned this tablet into a big a...</td>\n",
       "      <td>Amazon Fire 7 Tablet</td>\n",
       "      <td>Negative</td>\n",
       "    </tr>\n",
       "    <tr>\n",
       "      <th>121</th>\n",
       "      <td>I bought this Kindle for my 7 year old grand-d...</td>\n",
       "      <td>Kid's Kindle</td>\n",
       "      <td>Negative</td>\n",
       "    </tr>\n",
       "    <tr>\n",
       "      <th>150</th>\n",
       "      <td>I am reading positive reviews and wish I could...</td>\n",
       "      <td>Have never purchased a more frustrating Device</td>\n",
       "      <td>Negative</td>\n",
       "    </tr>\n",
       "  </tbody>\n",
       "</table>\n",
       "</div>"
      ],
      "text/plain": [
       "                                          reviews.text  \\\n",
       "9    was cheap, can not run chrome stuff, returned ...   \n",
       "97   Worthless, except as a regular echo and a poor...   \n",
       "104  Too bad Amazon turned this tablet into a big a...   \n",
       "121  I bought this Kindle for my 7 year old grand-d...   \n",
       "150  I am reading positive reviews and wish I could...   \n",
       "\n",
       "                                      reviews.title sentiment  \n",
       "9     was cheap, can not run chrome stuff, returned  Negative  \n",
       "97                Useless screen so why pay for it?  Negative  \n",
       "104                            Amazon Fire 7 Tablet  Negative  \n",
       "121                                    Kid's Kindle  Negative  \n",
       "150  Have never purchased a more frustrating Device  Negative  "
      ]
     },
     "execution_count": 8,
     "metadata": {},
     "output_type": "execute_result"
    }
   ],
   "source": [
    "train_df.loc[train_df['sentiment']=='Negative','reviews.text':][:5]"
   ]
  },
  {
   "cell_type": "code",
   "execution_count": 9,
   "metadata": {},
   "outputs": [
    {
     "data": {
      "text/plain": [
       "Positive    3749\n",
       "Neutral      158\n",
       "Negative      93\n",
       "Name: sentiment, dtype: int64"
      ]
     },
     "execution_count": 9,
     "metadata": {},
     "output_type": "execute_result"
    }
   ],
   "source": [
    "train_df.sentiment.value_counts()"
   ]
  },
  {
   "cell_type": "code",
   "execution_count": 10,
   "metadata": {},
   "outputs": [
    {
     "data": {
      "image/png": "[encoded data removed]",
      "text/plain": [
       "<Figure size 720x576 with 2 Axes>"
      ]
     },
     "metadata": {
      "needs_background": "light"
     },
     "output_type": "display_data"
    }
   ],
   "source": [
    "plt.figure(figsize=(10,8))\n",
    "plt.subplot(1,2,1)\n",
    "plt.title('Count of Classes on Training data')\n",
    "sns.countplot(x='sentiment',data=train_df)\n",
    "plt.subplot(1,2,2)\n",
    "plt.title('Count of Classes on Testing data')\n",
    "sns.countplot(x='sentiment',data=test_df)\n",
    "plt.show()"
   ]
  },
  {
   "cell_type": "markdown",
   "metadata": {},
   "source": [
    "It is evident that this is a clear case of class imbalance"
   ]
  },
  {
   "cell_type": "code",
   "execution_count": 11,
   "metadata": {},
   "outputs": [],
   "source": [
    "stopwords = set(stopwords.words('english'))\n",
    "wordnet_lem = WordNetLemmatizer()\n",
    "tokenizer = RegexpTokenizer(r'[a-z]+')\n",
    "\n",
    "def text_preprocess(doc):\n",
    "    doc = doc.lower()\n",
    "    words = tokenizer.tokenize(doc)\n",
    "    words = [word for word in words if word not in stopwords]\n",
    "    for pos in [wordnet.NOUN,wordnet.VERB,wordnet.ADJ,wordnet.ADV]:\n",
    "        words = [wordnet_lem.lemmatize(x,pos) for x in words]\n",
    "    return ' '.join(words)"
   ]
  },
  {
   "cell_type": "code",
   "execution_count": 12,
   "metadata": {},
   "outputs": [
    {
     "data": {
      "text/html": [
       "<div>\n",
       "<style scoped>\n",
       "    .dataframe tbody tr th:only-of-type {\n",
       "        vertical-align: middle;\n",
       "    }\n",
       "\n",
       "    .dataframe tbody tr th {\n",
       "        vertical-align: top;\n",
       "    }\n",
       "\n",
       "    .dataframe thead th {\n",
       "        text-align: right;\n",
       "    }\n",
       "</style>\n",
       "<table border=\"1\" class=\"dataframe\">\n",
       "  <thead>\n",
       "    <tr style=\"text-align: right;\">\n",
       "      <th></th>\n",
       "      <th>sentiment</th>\n",
       "      <th>reviews.text</th>\n",
       "    </tr>\n",
       "  </thead>\n",
       "  <tbody>\n",
       "    <tr>\n",
       "      <th>0</th>\n",
       "      <td>Positive</td>\n",
       "      <td>Purchased on Black FridayPros - Great Price (e...</td>\n",
       "    </tr>\n",
       "    <tr>\n",
       "      <th>1</th>\n",
       "      <td>Positive</td>\n",
       "      <td>I purchased two Amazon in Echo Plus and two do...</td>\n",
       "    </tr>\n",
       "    <tr>\n",
       "      <th>2</th>\n",
       "      <td>Neutral</td>\n",
       "      <td>Just an average Alexa option. Does show a few ...</td>\n",
       "    </tr>\n",
       "    <tr>\n",
       "      <th>3</th>\n",
       "      <td>Positive</td>\n",
       "      <td>very good product. Exactly what I wanted, and ...</td>\n",
       "    </tr>\n",
       "    <tr>\n",
       "      <th>4</th>\n",
       "      <td>Positive</td>\n",
       "      <td>This is the 3rd one I've purchased. I've bough...</td>\n",
       "    </tr>\n",
       "  </tbody>\n",
       "</table>\n",
       "</div>"
      ],
      "text/plain": [
       "  sentiment                                       reviews.text\n",
       "0  Positive  Purchased on Black FridayPros - Great Price (e...\n",
       "1  Positive  I purchased two Amazon in Echo Plus and two do...\n",
       "2   Neutral  Just an average Alexa option. Does show a few ...\n",
       "3  Positive  very good product. Exactly what I wanted, and ...\n",
       "4  Positive  This is the 3rd one I've purchased. I've bough..."
      ]
     },
     "execution_count": 12,
     "metadata": {},
     "output_type": "execute_result"
    }
   ],
   "source": [
    "train_data = train_df[['sentiment','reviews.text']]\n",
    "test_data = test_df[['sentiment','reviews.text']]\n",
    "train_data.head()"
   ]
  },
  {
   "cell_type": "code",
   "execution_count": 13,
   "metadata": {},
   "outputs": [
    {
     "data": {
      "text/html": [
       "<div>\n",
       "<style scoped>\n",
       "    .dataframe tbody tr th:only-of-type {\n",
       "        vertical-align: middle;\n",
       "    }\n",
       "\n",
       "    .dataframe tbody tr th {\n",
       "        vertical-align: top;\n",
       "    }\n",
       "\n",
       "    .dataframe thead th {\n",
       "        text-align: right;\n",
       "    }\n",
       "</style>\n",
       "<table border=\"1\" class=\"dataframe\">\n",
       "  <thead>\n",
       "    <tr style=\"text-align: right;\">\n",
       "      <th></th>\n",
       "      <th>sentiment</th>\n",
       "      <th>reviews.text</th>\n",
       "      <th>preprocessed_reviews</th>\n",
       "    </tr>\n",
       "  </thead>\n",
       "  <tbody>\n",
       "    <tr>\n",
       "      <th>0</th>\n",
       "      <td>Positive</td>\n",
       "      <td>Purchased on Black FridayPros - Great Price (e...</td>\n",
       "      <td>purchase black fridaypros great price even sal...</td>\n",
       "    </tr>\n",
       "    <tr>\n",
       "      <th>1</th>\n",
       "      <td>Positive</td>\n",
       "      <td>I purchased two Amazon in Echo Plus and two do...</td>\n",
       "      <td>purchase two amazon echo plus two dot plus fou...</td>\n",
       "    </tr>\n",
       "    <tr>\n",
       "      <th>2</th>\n",
       "      <td>Neutral</td>\n",
       "      <td>Just an average Alexa option. Does show a few ...</td>\n",
       "      <td>average alexa option show thing screen still l...</td>\n",
       "    </tr>\n",
       "    <tr>\n",
       "      <th>3</th>\n",
       "      <td>Positive</td>\n",
       "      <td>very good product. Exactly what I wanted, and ...</td>\n",
       "      <td>good product exactly want good price</td>\n",
       "    </tr>\n",
       "    <tr>\n",
       "      <th>4</th>\n",
       "      <td>Positive</td>\n",
       "      <td>This is the 3rd one I've purchased. I've bough...</td>\n",
       "      <td>rd one purchase buy one niece case compare one...</td>\n",
       "    </tr>\n",
       "  </tbody>\n",
       "</table>\n",
       "</div>"
      ],
      "text/plain": [
       "  sentiment                                       reviews.text  \\\n",
       "0  Positive  Purchased on Black FridayPros - Great Price (e...   \n",
       "1  Positive  I purchased two Amazon in Echo Plus and two do...   \n",
       "2   Neutral  Just an average Alexa option. Does show a few ...   \n",
       "3  Positive  very good product. Exactly what I wanted, and ...   \n",
       "4  Positive  This is the 3rd one I've purchased. I've bough...   \n",
       "\n",
       "                                preprocessed_reviews  \n",
       "0  purchase black fridaypros great price even sal...  \n",
       "1  purchase two amazon echo plus two dot plus fou...  \n",
       "2  average alexa option show thing screen still l...  \n",
       "3               good product exactly want good price  \n",
       "4  rd one purchase buy one niece case compare one...  "
      ]
     },
     "execution_count": 13,
     "metadata": {},
     "output_type": "execute_result"
    }
   ],
   "source": [
    "train_data['preprocessed_reviews'] = train_data['reviews.text'].apply(text_preprocess)\n",
    "test_data['preprocessed_reviews'] = test_data['reviews.text'].apply(text_preprocess)\n",
    "train_data.head()"
   ]
  },
  {
   "cell_type": "code",
   "execution_count": 14,
   "metadata": {},
   "outputs": [
    {
     "data": {
      "text/html": [
       "<div>\n",
       "<style scoped>\n",
       "    .dataframe tbody tr th:only-of-type {\n",
       "        vertical-align: middle;\n",
       "    }\n",
       "\n",
       "    .dataframe tbody tr th {\n",
       "        vertical-align: top;\n",
       "    }\n",
       "\n",
       "    .dataframe thead th {\n",
       "        text-align: right;\n",
       "    }\n",
       "</style>\n",
       "<table border=\"1\" class=\"dataframe\">\n",
       "  <thead>\n",
       "    <tr style=\"text-align: right;\">\n",
       "      <th></th>\n",
       "      <th>sentiment</th>\n",
       "      <th>preprocessed_reviews</th>\n",
       "    </tr>\n",
       "  </thead>\n",
       "  <tbody>\n",
       "    <tr>\n",
       "      <th>0</th>\n",
       "      <td>Positive</td>\n",
       "      <td>purchase black fridaypros great price even sal...</td>\n",
       "    </tr>\n",
       "    <tr>\n",
       "      <th>1</th>\n",
       "      <td>Positive</td>\n",
       "      <td>purchase two amazon echo plus two dot plus fou...</td>\n",
       "    </tr>\n",
       "    <tr>\n",
       "      <th>2</th>\n",
       "      <td>Neutral</td>\n",
       "      <td>average alexa option show thing screen still l...</td>\n",
       "    </tr>\n",
       "    <tr>\n",
       "      <th>3</th>\n",
       "      <td>Positive</td>\n",
       "      <td>good product exactly want good price</td>\n",
       "    </tr>\n",
       "    <tr>\n",
       "      <th>4</th>\n",
       "      <td>Positive</td>\n",
       "      <td>rd one purchase buy one niece case compare one...</td>\n",
       "    </tr>\n",
       "  </tbody>\n",
       "</table>\n",
       "</div>"
      ],
      "text/plain": [
       "  sentiment                               preprocessed_reviews\n",
       "0  Positive  purchase black fridaypros great price even sal...\n",
       "1  Positive  purchase two amazon echo plus two dot plus fou...\n",
       "2   Neutral  average alexa option show thing screen still l...\n",
       "3  Positive               good product exactly want good price\n",
       "4  Positive  rd one purchase buy one niece case compare one..."
      ]
     },
     "execution_count": 14,
     "metadata": {},
     "output_type": "execute_result"
    }
   ],
   "source": [
    "train_data = train_data[['sentiment','preprocessed_reviews']]\n",
    "test_data = test_data[['sentiment','preprocessed_reviews']]\n",
    "\n",
    "train_data.head()"
   ]
  },
  {
   "cell_type": "code",
   "execution_count": 15,
   "metadata": {},
   "outputs": [
    {
     "data": {
      "text/plain": [
       "3397"
      ]
     },
     "execution_count": 15,
     "metadata": {},
     "output_type": "execute_result"
    }
   ],
   "source": [
    "count_vec = CountVectorizer()\n",
    "bow = count_vec.fit(train_data['preprocessed_reviews'])\n",
    "len(bow.vocabulary_)"
   ]
  },
  {
   "cell_type": "code",
   "execution_count": 16,
   "metadata": {},
   "outputs": [
    {
     "data": {
      "text/plain": [
       "<4000x3397 sparse matrix of type '<class 'numpy.int64'>'\n",
       "\twith 54104 stored elements in Compressed Sparse Row format>"
      ]
     },
     "execution_count": 16,
     "metadata": {},
     "output_type": "execute_result"
    }
   ],
   "source": [
    "reviews_bow = bow.transform(train_data['preprocessed_reviews'])\n",
    "reviews_bow"
   ]
  },
  {
   "cell_type": "code",
   "execution_count": 17,
   "metadata": {},
   "outputs": [],
   "source": [
    "cv = TfidfVectorizer()\n",
    "tfidf_final = cv.fit_transform(train_data['preprocessed_reviews']).toarray()"
   ]
  },
  {
   "cell_type": "code",
   "execution_count": 18,
   "metadata": {},
   "outputs": [
    {
     "data": {
      "text/plain": [
       "(4000, 3397)"
      ]
     },
     "execution_count": 18,
     "metadata": {},
     "output_type": "execute_result"
    }
   ],
   "source": [
    "tfidf_final.shape"
   ]
  },
  {
   "cell_type": "code",
   "execution_count": 19,
   "metadata": {},
   "outputs": [
    {
     "name": "stdout",
     "output_type": "stream",
     "text": [
      "Average validation accuracy: 0.93725\n"
     ]
    }
   ],
   "source": [
    "kfold = StratifiedKFold(n_splits=5)\n",
    "model_nb = MultinomialNB()\n",
    "scores = cross_val_score(estimator=model_nb,X=tfidf_final,y=train_data['sentiment'],cv=kfold)\n",
    "avg_val_score = scores.mean()\n",
    "print('Average validation accuracy:',avg_val_score)"
   ]
  },
  {
   "cell_type": "code",
   "execution_count": 20,
   "metadata": {},
   "outputs": [
    {
     "data": {
      "text/plain": [
       "array(['Positive'], dtype='<U8')"
      ]
     },
     "execution_count": 20,
     "metadata": {},
     "output_type": "execute_result"
    }
   ],
   "source": [
    "test = 'it was very bad and nothing is good'\n",
    "model_nb.fit(tfidf_final,train_data['sentiment'])\n",
    "a1 = text_preprocess(test)\n",
    "a2 = cv.transform(list(a1))\n",
    "prediction = model_nb.predict(a2[0])\n",
    "prediction"
   ]
  },
  {
   "cell_type": "markdown",
   "metadata": {},
   "source": [
    "The model has predicted all classes as positive due to class imbalance problem.\n",
    "To solve this problem we will be performing some over-sampling techniques."
   ]
  },
  {
   "cell_type": "code",
   "execution_count": 21,
   "metadata": {},
   "outputs": [],
   "source": [
    "X = train_data[['preprocessed_reviews']]\n",
    "y = train_data['sentiment']"
   ]
  },
  {
   "cell_type": "code",
   "execution_count": 22,
   "metadata": {},
   "outputs": [
    {
     "data": {
      "image/png": "[encoded data removed]",
      "text/plain": [
       "<Figure size 720x576 with 1 Axes>"
      ]
     },
     "metadata": {
      "needs_background": "light"
     },
     "output_type": "display_data"
    }
   ],
   "source": [
    "plt.figure(figsize=(10,8))\n",
    "ros = RandomOverSampler(random_state=42)\n",
    "x_ros,y_ros = ros.fit_resample(X,y)\n",
    "sns.countplot(x=y_ros)\n",
    "plt.title(\"Random Over Sampling\")\n",
    "plt.xlabel(\"Classes\")\n",
    "plt.show()"
   ]
  },
  {
   "cell_type": "code",
   "execution_count": 23,
   "metadata": {},
   "outputs": [
    {
     "name": "stdout",
     "output_type": "stream",
     "text": [
      "Shape of new training data: (11247, 1)\n"
     ]
    }
   ],
   "source": [
    "print('Shape of new training data:',x_ros.shape)"
   ]
  },
  {
   "cell_type": "code",
   "execution_count": 24,
   "metadata": {},
   "outputs": [
    {
     "data": {
      "text/plain": [
       "dict_items([('Positive', 3749), ('Neutral', 3749), ('Negative', 3749)])"
      ]
     },
     "execution_count": 24,
     "metadata": {},
     "output_type": "execute_result"
    }
   ],
   "source": [
    "from collections import Counter\n",
    "Counter(y_ros).items()"
   ]
  },
  {
   "cell_type": "code",
   "execution_count": 25,
   "metadata": {},
   "outputs": [
    {
     "data": {
      "text/html": [
       "<div>\n",
       "<style scoped>\n",
       "    .dataframe tbody tr th:only-of-type {\n",
       "        vertical-align: middle;\n",
       "    }\n",
       "\n",
       "    .dataframe tbody tr th {\n",
       "        vertical-align: top;\n",
       "    }\n",
       "\n",
       "    .dataframe thead th {\n",
       "        text-align: right;\n",
       "    }\n",
       "</style>\n",
       "<table border=\"1\" class=\"dataframe\">\n",
       "  <thead>\n",
       "    <tr style=\"text-align: right;\">\n",
       "      <th></th>\n",
       "      <th>preprocessed_reviews</th>\n",
       "      <th>sentiment</th>\n",
       "    </tr>\n",
       "  </thead>\n",
       "  <tbody>\n",
       "    <tr>\n",
       "      <th>0</th>\n",
       "      <td>purchase black fridaypros great price even sal...</td>\n",
       "      <td>Positive</td>\n",
       "    </tr>\n",
       "    <tr>\n",
       "      <th>1</th>\n",
       "      <td>purchase two amazon echo plus two dot plus fou...</td>\n",
       "      <td>Positive</td>\n",
       "    </tr>\n",
       "    <tr>\n",
       "      <th>2</th>\n",
       "      <td>average alexa option show thing screen still l...</td>\n",
       "      <td>Neutral</td>\n",
       "    </tr>\n",
       "    <tr>\n",
       "      <th>3</th>\n",
       "      <td>good product exactly want good price</td>\n",
       "      <td>Positive</td>\n",
       "    </tr>\n",
       "    <tr>\n",
       "      <th>4</th>\n",
       "      <td>rd one purchase buy one niece case compare one...</td>\n",
       "      <td>Positive</td>\n",
       "    </tr>\n",
       "  </tbody>\n",
       "</table>\n",
       "</div>"
      ],
      "text/plain": [
       "                                preprocessed_reviews sentiment\n",
       "0  purchase black fridaypros great price even sal...  Positive\n",
       "1  purchase two amazon echo plus two dot plus fou...  Positive\n",
       "2  average alexa option show thing screen still l...   Neutral\n",
       "3               good product exactly want good price  Positive\n",
       "4  rd one purchase buy one niece case compare one...  Positive"
      ]
     },
     "execution_count": 25,
     "metadata": {},
     "output_type": "execute_result"
    }
   ],
   "source": [
    "train_df = pd.concat((x_ros['preprocessed_reviews'],y_ros),ignore_index=True,axis=1)\n",
    "train_df.columns = ['preprocessed_reviews','sentiment']\n",
    "train_df.head()"
   ]
  },
  {
   "cell_type": "code",
   "execution_count": 26,
   "metadata": {},
   "outputs": [
    {
     "data": {
      "text/html": [
       "<div>\n",
       "<style scoped>\n",
       "    .dataframe tbody tr th:only-of-type {\n",
       "        vertical-align: middle;\n",
       "    }\n",
       "\n",
       "    .dataframe tbody tr th {\n",
       "        vertical-align: top;\n",
       "    }\n",
       "\n",
       "    .dataframe thead th {\n",
       "        text-align: right;\n",
       "    }\n",
       "</style>\n",
       "<table border=\"1\" class=\"dataframe\">\n",
       "  <thead>\n",
       "    <tr style=\"text-align: right;\">\n",
       "      <th></th>\n",
       "      <th>preprocessed_reviews</th>\n",
       "      <th>sentiment</th>\n",
       "    </tr>\n",
       "  </thead>\n",
       "  <tbody>\n",
       "    <tr>\n",
       "      <th>8805</th>\n",
       "      <td>tablet great book audible book music thing ama...</td>\n",
       "      <td>Neutral</td>\n",
       "    </tr>\n",
       "    <tr>\n",
       "      <th>9736</th>\n",
       "      <td>work fine wifi otherwise little slow kid enjoy...</td>\n",
       "      <td>Neutral</td>\n",
       "    </tr>\n",
       "    <tr>\n",
       "      <th>125</th>\n",
       "      <td>item work expect great product</td>\n",
       "      <td>Positive</td>\n",
       "    </tr>\n",
       "    <tr>\n",
       "      <th>10143</th>\n",
       "      <td>nothing spectacular item also nothing majorly ...</td>\n",
       "      <td>Neutral</td>\n",
       "    </tr>\n",
       "    <tr>\n",
       "      <th>10937</th>\n",
       "      <td>dollar great option although black friday spec...</td>\n",
       "      <td>Neutral</td>\n",
       "    </tr>\n",
       "  </tbody>\n",
       "</table>\n",
       "</div>"
      ],
      "text/plain": [
       "                                    preprocessed_reviews sentiment\n",
       "8805   tablet great book audible book music thing ama...   Neutral\n",
       "9736   work fine wifi otherwise little slow kid enjoy...   Neutral\n",
       "125                       item work expect great product  Positive\n",
       "10143  nothing spectacular item also nothing majorly ...   Neutral\n",
       "10937  dollar great option although black friday spec...   Neutral"
      ]
     },
     "execution_count": 26,
     "metadata": {},
     "output_type": "execute_result"
    }
   ],
   "source": [
    "train_df_final = train_df.sample(frac=0.1,random_state=0)\n",
    "train_df_final.dropna(inplace=True)\n",
    "train_df_final.head()"
   ]
  },
  {
   "cell_type": "code",
   "execution_count": 27,
   "metadata": {},
   "outputs": [
    {
     "name": "stdout",
     "output_type": "stream",
     "text": [
      "Shape of training and validation data: ((1012,), (113,))\n"
     ]
    }
   ],
   "source": [
    "x_train,x_val,y_train,y_val = train_test_split(train_df_final['preprocessed_reviews'],train_df_final.sentiment,test_size=0.1,random_state=0)\n",
    "print('Shape of training and validation data:',(x_train.shape,x_val.shape))"
   ]
  },
  {
   "cell_type": "markdown",
   "metadata": {},
   "source": [
    "CountVectorizer + MultinomialNB "
   ]
  },
  {
   "cell_type": "code",
   "execution_count": 28,
   "metadata": {},
   "outputs": [
    {
     "name": "stdout",
     "output_type": "stream",
     "text": [
      "Number of features: 1505\n",
      "Some of the features are: ['associate' 'kid' 'bt' 'display' 'learn']\n"
     ]
    },
    {
     "data": {
      "text/plain": [
       "MultinomialNB()"
      ]
     },
     "execution_count": 28,
     "metadata": {},
     "output_type": "execute_result"
    }
   ],
   "source": [
    "cv = CountVectorizer()\n",
    "x_train_vec = cv.fit_transform(x_train)\n",
    "feature_names = cv.get_feature_names()\n",
    "print('Number of features:',len(feature_names))\n",
    "print('Some of the features are:',np.random.choice(feature_names,size=5))\n",
    "\n",
    "mnb = MultinomialNB()\n",
    "mnb.fit(x_train_vec,y_train)"
   ]
  },
  {
   "cell_type": "code",
   "execution_count": 29,
   "metadata": {},
   "outputs": [],
   "source": [
    "def plot_conf_matrix(y_val,predictions):\n",
    "    conf_matrix = confusion_matrix(y_val,predictions)\n",
    "    sns.heatmap(conf_matrix, cmap=\"Blues\",annot=True)\n",
    "    plt.title(\"Confusion matrix.\")\n",
    "    plt.xlabel('Predicted Class')\n",
    "    plt.ylabel('True Class')\n",
    "    plt.show()\n",
    "\n",
    "def model_eval(y_val,predictions):\n",
    "    print('Accuracy on validation data: {:.4f}'.format(accuracy_score(y_val,predictions)))\n",
    "    print('Classification report:\\n',classification_report(y_val,predictions))\n",
    "    plot_conf_matrix(y_val,predictions)\n",
    "    "
   ]
  },
  {
   "cell_type": "code",
   "execution_count": 30,
   "metadata": {},
   "outputs": [
    {
     "name": "stdout",
     "output_type": "stream",
     "text": [
      "Accuracy on validation data: 0.8673\n",
      "Classification report:\n",
      "               precision    recall  f1-score   support\n",
      "\n",
      "    Negative       0.93      0.95      0.94        39\n",
      "     Neutral       0.86      0.79      0.83        39\n",
      "    Positive       0.81      0.86      0.83        35\n",
      "\n",
      "    accuracy                           0.87       113\n",
      "   macro avg       0.87      0.87      0.87       113\n",
      "weighted avg       0.87      0.87      0.87       113\n",
      "\n"
     ]
    },
    {
     "data": {
      "image/png": "[encoded data removed]",
      "text/plain": [
       "<Figure size 432x288 with 2 Axes>"
      ]
     },
     "metadata": {
      "needs_background": "light"
     },
     "output_type": "display_data"
    }
   ],
   "source": [
    "pred = mnb.predict(cv.transform(x_val))\n",
    "model_eval(y_val,pred)"
   ]
  },
  {
   "cell_type": "markdown",
   "metadata": {},
   "source": [
    "Tfidf + LogisticRegression"
   ]
  },
  {
   "cell_type": "code",
   "execution_count": 31,
   "metadata": {},
   "outputs": [
    {
     "name": "stdout",
     "output_type": "stream",
     "text": [
      "Number of features: 694\n",
      "Some of the features are: ['weather' 'car' 'safe' 'every' 'bestbuy']\n"
     ]
    },
    {
     "data": {
      "text/plain": [
       "LogisticRegression()"
      ]
     },
     "execution_count": 31,
     "metadata": {},
     "output_type": "execute_result"
    }
   ],
   "source": [
    "from sklearn.linear_model import LogisticRegression\n",
    "tfidf = TfidfVectorizer(min_df=5)\n",
    "x_train_tfidf = tfidf.fit_transform(x_train)\n",
    "feature_names = tfidf.get_feature_names()\n",
    "print('Number of features:',len(feature_names))\n",
    "print('Some of the features are:',np.random.choice(feature_names,size=5))\n",
    "\n",
    "lr = LogisticRegression()\n",
    "lr.fit(x_train_tfidf,y_train)"
   ]
  },
  {
   "cell_type": "code",
   "execution_count": 32,
   "metadata": {},
   "outputs": [
    {
     "name": "stdout",
     "output_type": "stream",
     "text": [
      "\n",
      "Top 10 features with smallest coefficients for negative class:['love' 'great' 'easy' 'read' 'play' 'ok' 'price' 'alexa' 'well' 'enjoy']\n",
      "\n",
      "Top 10 features with largest coefficients for negative class:['program' 'try' 'poor' 'minute' 'terrible' 'generation' 'useless' 'th'\n",
      " 'update' 'bad']\n"
     ]
    }
   ],
   "source": [
    "sorted_coef_i = lr.coef_[0].argsort().astype(int)\n",
    "features_array = np.array(feature_names)\n",
    "print('\\nTop 10 features with smallest coefficients for negative class:{}'.format(features_array[sorted_coef_i[:10]]))\n",
    "print('\\nTop 10 features with largest coefficients for negative class:{}'.format(features_array[sorted_coef_i[-11:-1]]))"
   ]
  },
  {
   "cell_type": "code",
   "execution_count": 33,
   "metadata": {},
   "outputs": [
    {
     "name": "stdout",
     "output_type": "stream",
     "text": [
      "Accuracy on validation data: 0.8673\n",
      "Classification report:\n",
      "               precision    recall  f1-score   support\n",
      "\n",
      "    Negative       0.93      0.95      0.94        39\n",
      "     Neutral       0.86      0.82      0.84        39\n",
      "    Positive       0.81      0.83      0.82        35\n",
      "\n",
      "    accuracy                           0.87       113\n",
      "   macro avg       0.87      0.87      0.87       113\n",
      "weighted avg       0.87      0.87      0.87       113\n",
      "\n"
     ]
    },
    {
     "data": {
      "image/png": "[encoded data removed]",
      "text/plain": [
       "<Figure size 432x288 with 2 Axes>"
      ]
     },
     "metadata": {
      "needs_background": "light"
     },
     "output_type": "display_data"
    }
   ],
   "source": [
    "pred = lr.predict(tfidf.transform(x_val))\n",
    "model_eval(y_val,pred)"
   ]
  },
  {
   "cell_type": "markdown",
   "metadata": {},
   "source": [
    "TfidfVectorizer with Linear SVM by using SGD"
   ]
  },
  {
   "cell_type": "code",
   "execution_count": 34,
   "metadata": {},
   "outputs": [
    {
     "name": "stdout",
     "output_type": "stream",
     "text": [
      "Number of features: 694\n",
      "Some of the features are: ['present' 'avid' 'price' 'tot' 'think']\n"
     ]
    },
    {
     "data": {
      "text/plain": [
       "SGDClassifier()"
      ]
     },
     "execution_count": 34,
     "metadata": {},
     "output_type": "execute_result"
    }
   ],
   "source": [
    "from sklearn.linear_model import SGDClassifier\n",
    "x_train_tfidf = tfidf.fit_transform(x_train)\n",
    "feature_names = tfidf.get_feature_names()\n",
    "print('Number of features:',len(feature_names))\n",
    "print('Some of the features are:',np.random.choice(feature_names,size=5))\n",
    "\n",
    "sgd_clf = SGDClassifier(loss='hinge',penalty='l2')\n",
    "sgd_clf.fit(x_train_tfidf,y_train)"
   ]
  },
  {
   "cell_type": "code",
   "execution_count": 35,
   "metadata": {},
   "outputs": [
    {
     "name": "stdout",
     "output_type": "stream",
     "text": [
      "\n",
      "Top 10 features with smallest coefficients for negative class:['overall' 'play' 'control' 'love' 'great' 'easy' 'sometimes' 'unit'\n",
      " 'well' 'look']\n",
      "\n",
      "Top 10 features with largest coefficients for negative class:['friendly' 'customer' 'terrible' 'useless' 'never' 'th' 'update' 'bad'\n",
      " 'exchange' 'minute']\n"
     ]
    }
   ],
   "source": [
    "sorted_coef_i = sgd_clf.coef_[0].argsort()\n",
    "features_array = np.array(feature_names)\n",
    "print('\\nTop 10 features with smallest coefficients for negative class:{}'.format(features_array[sorted_coef_i[:10]]))\n",
    "print('\\nTop 10 features with largest coefficients for negative class:{}'.format(features_array[sorted_coef_i[-11:-1]]))"
   ]
  },
  {
   "cell_type": "code",
   "execution_count": 36,
   "metadata": {},
   "outputs": [
    {
     "name": "stdout",
     "output_type": "stream",
     "text": [
      "Accuracy on validation data: 0.8407\n",
      "Classification report:\n",
      "               precision    recall  f1-score   support\n",
      "\n",
      "    Negative       0.93      0.95      0.94        39\n",
      "     Neutral       0.79      0.85      0.81        39\n",
      "    Positive       0.81      0.71      0.76        35\n",
      "\n",
      "    accuracy                           0.84       113\n",
      "   macro avg       0.84      0.84      0.84       113\n",
      "weighted avg       0.84      0.84      0.84       113\n",
      "\n"
     ]
    },
    {
     "data": {
      "image/png": "[encoded data removed]",
      "text/plain": [
       "<Figure size 432x288 with 2 Axes>"
      ]
     },
     "metadata": {
      "needs_background": "light"
     },
     "output_type": "display_data"
    }
   ],
   "source": [
    "pred = sgd_clf.predict(tfidf.transform(x_val))\n",
    "model_eval(y_val,pred)"
   ]
  },
  {
   "cell_type": "markdown",
   "metadata": {},
   "source": [
    "Using XgBoost with tfidf"
   ]
  },
  {
   "cell_type": "code",
   "execution_count": 37,
   "metadata": {},
   "outputs": [
    {
     "name": "stdout",
     "output_type": "stream",
     "text": [
      "Number of features: 694\n",
      "Some of the features are: ['week' 'october' 'recharge' 'kid' 'plus']\n",
      "[14:01:10] WARNING: ..\\src\\learner.cc:1095: Starting in XGBoost 1.3.0, the default evaluation metric used with the objective 'multi:softprob' was changed from 'merror' to 'mlogloss'. Explicitly set eval_metric if you'd like to restore the old behavior.\n"
     ]
    },
    {
     "data": {
      "text/plain": [
       "XGBClassifier(base_score=0.5, booster='gbtree', colsample_bylevel=1,\n",
       "              colsample_bynode=1, colsample_bytree=1, gamma=0, gpu_id=-1,\n",
       "              importance_type='gain', interaction_constraints='',\n",
       "              learning_rate=0.300000012, max_delta_step=0, max_depth=6,\n",
       "              min_child_weight=1, missing=nan, monotone_constraints='()',\n",
       "              n_estimators=100, n_jobs=8, num_parallel_tree=1,\n",
       "              objective='multi:softprob', random_state=0, reg_alpha=0,\n",
       "              reg_lambda=1, scale_pos_weight=None, subsample=1,\n",
       "              tree_method='exact', validate_parameters=1, verbosity=None)"
      ]
     },
     "execution_count": 37,
     "metadata": {},
     "output_type": "execute_result"
    }
   ],
   "source": [
    "x_train_tfidf = tfidf.fit_transform(x_train)\n",
    "feature_names = tfidf.get_feature_names()\n",
    "print('Number of features:',len(feature_names))\n",
    "print('Some of the features are:',np.random.choice(feature_names,size=5))\n",
    "\n",
    "xgb = XGBClassifier()\n",
    "xgb.fit(x_train_tfidf,y_train)"
   ]
  },
  {
   "cell_type": "code",
   "execution_count": 38,
   "metadata": {},
   "outputs": [
    {
     "name": "stdout",
     "output_type": "stream",
     "text": [
      "\n",
      "Top 10 features with smallest importance:['yr' 'ride' 'kitchen' 'right' 'ring' 'run' 'safe' 'junk' 'sake' 'sale']\n",
      "\n",
      "Top 10 features with largest importance:['seem' 'design' 'useless' 'long' 'change' 'dot' 'ok' 'love' 'hour'\n",
      " 'paper']\n"
     ]
    }
   ],
   "source": [
    "sorted_coef_i = xgb.feature_importances_.argsort()\n",
    "features_array = np.array(feature_names)\n",
    "print('\\nTop 10 features with smallest importance:{}'.format(features_array[sorted_coef_i[:10]]))\n",
    "print('\\nTop 10 features with largest importance:{}'.format(features_array[sorted_coef_i[-11:-1]]))"
   ]
  },
  {
   "cell_type": "code",
   "execution_count": 39,
   "metadata": {},
   "outputs": [
    {
     "name": "stdout",
     "output_type": "stream",
     "text": [
      "Accuracy on validation data: 0.9027\n",
      "Classification report:\n",
      "               precision    recall  f1-score   support\n",
      "\n",
      "    Negative       0.97      0.95      0.96        39\n",
      "     Neutral       0.92      0.87      0.89        39\n",
      "    Positive       0.82      0.89      0.85        35\n",
      "\n",
      "    accuracy                           0.90       113\n",
      "   macro avg       0.90      0.90      0.90       113\n",
      "weighted avg       0.91      0.90      0.90       113\n",
      "\n"
     ]
    },
    {
     "data": {
      "image/png": "[encoded data removed]",
      "text/plain": [
       "<Figure size 432x288 with 2 Axes>"
      ]
     },
     "metadata": {
      "needs_background": "light"
     },
     "output_type": "display_data"
    }
   ],
   "source": [
    "pred = xgb.predict(tfidf.transform(x_val))\n",
    "model_eval(y_val,pred)"
   ]
  },
  {
   "cell_type": "markdown",
   "metadata": {},
   "source": [
    "Pipeline+GridSearch"
   ]
  },
  {
   "cell_type": "code",
   "execution_count": 189,
   "metadata": {},
   "outputs": [
    {
     "name": "stdout",
     "output_type": "stream",
     "text": [
      "[01:41:38] WARNING: ..\\src\\learner.cc:1095: Starting in XGBoost 1.3.0, the default evaluation metric used with the objective 'multi:softprob' was changed from 'merror' to 'mlogloss'. Explicitly set eval_metric if you'd like to restore the old behavior.\n"
     ]
    },
    {
     "data": {
      "text/plain": [
       "GridSearchCV(estimator=Pipeline(steps=[('tfidf', TfidfVectorizer()),\n",
       "                                       ('xgb',\n",
       "                                        XGBClassifier(base_score=None,\n",
       "                                                      booster=None,\n",
       "                                                      colsample_bylevel=None,\n",
       "                                                      colsample_bynode=None,\n",
       "                                                      colsample_bytree=None,\n",
       "                                                      gamma=None, gpu_id=None,\n",
       "                                                      importance_type='gain',\n",
       "                                                      interaction_constraints=None,\n",
       "                                                      learning_rate=None,\n",
       "                                                      max_delta_step=None,\n",
       "                                                      max_depth=None,\n",
       "                                                      min_child_weight=None,\n",
       "                                                      missing=nan,\n",
       "                                                      mon...\n",
       "                                                      reg_alpha=None,\n",
       "                                                      reg_lambda=None,\n",
       "                                                      scale_pos_weight=None,\n",
       "                                                      subsample=None,\n",
       "                                                      tree_method=None,\n",
       "                                                      validate_parameters=None,\n",
       "                                                      verbosity=None))]),\n",
       "             n_jobs=-1,\n",
       "             param_grid={'tfidf__max_features': [1000, None],\n",
       "                         'tfidf__min_df': [1, 3, 5],\n",
       "                         'tfidf__ngram_range': [(1, 1), (1, 2)],\n",
       "                         'xgb__learning_rate': [0.01, 0.03, 0.1],\n",
       "                         'xgb__max_depth': [2, 5, 10],\n",
       "                         'xgb__n_estimators': [50, 100, 200]},\n",
       "             scoring='accuracy')"
      ]
     },
     "execution_count": 189,
     "metadata": {},
     "output_type": "execute_result"
    }
   ],
   "source": [
    "estimators =  [('tfidf',TfidfVectorizer()),('xgb',XGBClassifier())]\n",
    "pipeline = Pipeline(estimators)\n",
    "\n",
    "params = {'xgb__n_estimators':[50,100,200],\n",
    "          'xgb__max_depth':[2,5,10],\n",
    "          'xgb__learning_rate':[0.01,0.03,0.1],\n",
    "          'tfidf__min_df':[1,3,5],\n",
    "          'tfidf__max_features':[1000,None],\n",
    "          'tfidf__ngram_range':[(1,1),(1,2)]}\n",
    "\n",
    "grid = GridSearchCV(estimator=pipeline,param_grid=params,n_jobs=-1,scoring='accuracy')\n",
    "grid.fit(x_train,y_train)"
   ]
  },
  {
   "cell_type": "code",
   "execution_count": 193,
   "metadata": {},
   "outputs": [
    {
     "name": "stdout",
     "output_type": "stream",
     "text": [
      "Best parameters: {'tfidf__max_features': None, 'tfidf__min_df': 3, 'tfidf__ngram_range': (1, 2), 'xgb__learning_rate': 0.1, 'xgb__max_depth': 10, 'xgb__n_estimators': 200}\n"
     ]
    }
   ],
   "source": [
    "print('Best parameters:',grid.best_params_)"
   ]
  },
  {
   "cell_type": "code",
   "execution_count": 196,
   "metadata": {},
   "outputs": [
    {
     "name": "stdout",
     "output_type": "stream",
     "text": [
      "Accuracy on validation data: 0.8850\n",
      "Classification report:\n",
      "               precision    recall  f1-score   support\n",
      "\n",
      "    Negative       0.97      0.95      0.96        39\n",
      "     Neutral       0.89      0.85      0.87        39\n",
      "    Positive       0.79      0.86      0.82        35\n",
      "\n",
      "    accuracy                           0.88       113\n",
      "   macro avg       0.89      0.88      0.88       113\n",
      "weighted avg       0.89      0.88      0.89       113\n",
      "\n"
     ]
    },
    {
     "data": {
      "image/png": "[encoded data removed]",
      "text/plain": [
       "<Figure size 432x288 with 2 Axes>"
      ]
     },
     "metadata": {
      "needs_background": "light"
     },
     "output_type": "display_data"
    }
   ],
   "source": [
    "pred = grid.predict(x_val)\n",
    "model_eval(y_val,pred)"
   ]
  },
  {
   "cell_type": "markdown",
   "metadata": {},
   "source": [
    "Word2Vec+RandomForest"
   ]
  },
  {
   "cell_type": "code",
   "execution_count": 97,
   "metadata": {},
   "outputs": [
    {
     "name": "stdout",
     "output_type": "stream",
     "text": [
      "No. of words in vocabulary list:706\n",
      "\n",
      "First 10 words in vocabulary list['tablet', 'use', 'buy', 'good', 'great', 'work', 'amazon', 'get', 'one', 'kindle']\n",
      "\n"
     ]
    }
   ],
   "source": [
    "def sentence_parser(reviews):\n",
    "    a = []\n",
    "    for sent in reviews:\n",
    "        a.append(word_tokenize(sent))\n",
    "    return a\n",
    "\n",
    "sentences = sentence_parser(x_train)\n",
    "# Setting paraameters\n",
    "num_features = 300\n",
    "min_word_count = 5\n",
    "num_workers = 4\n",
    "context = 10\n",
    "downsampling = 1e-3\n",
    "\n",
    "model_w2v = Word2Vec(sentences,\n",
    "                     workers=num_workers,\n",
    "                     vector_size=num_features,\n",
    "                     min_count=min_word_count,\n",
    "                     window=context,\n",
    "                     sample=downsampling)\n",
    "model_w2v.init_sims(replace=True)\n",
    "model_w2v.save('w2v_model')\n",
    "\n",
    "print('No. of words in vocabulary list:{}\\n'.format(len(model_w2v.wv.index_to_key)))\n",
    "print('First 10 words in vocabulary list{}\\n'.format(model_w2v.wv.index_to_key[:10]))"
   ]
  },
  {
   "cell_type": "code",
   "execution_count": 105,
   "metadata": {},
   "outputs": [],
   "source": [
    "def create_feature_vec(review,num_features,model):\n",
    "    feature_vec = np.zeros(shape=(num_features,),dtype='float32')\n",
    "    nwords = 0\n",
    "    n_words = 0\n",
    "    word_set = set(model.wv.index_to_key)\n",
    "    zero_vec = True\n",
    "    for word in review:\n",
    "        if word in word_set:\n",
    "            n_words = n_words + 1\n",
    "            feature_vec = feature_vec + model.wv[word]\n",
    "            zero_vec = False\n",
    "    if zero_vec==False:\n",
    "        zero_vec = feature_vec/n_words\n",
    "    return feature_vec\n",
    "\n",
    "def get_avg_feature_vec(reviews,model,num_features):\n",
    "    i = 0\n",
    "    avg_featuresVec = np.zeros(shape=(len(reviews),num_features),dtype='float32')\n",
    "    for review in reviews:\n",
    "        avg_featuresVec[i] = create_feature_vec(review,num_features,model)\n",
    "        i = i + 1\n",
    "    return avg_featuresVec"
   ]
  },
  {
   "cell_type": "code",
   "execution_count": 106,
   "metadata": {},
   "outputs": [
    {
     "name": "stdout",
     "output_type": "stream",
     "text": [
      "Training set: 1012 feature vectors with 300 dimensions\n",
      "Validation set: 113 feature vectors with 300 dimensions\n"
     ]
    }
   ],
   "source": [
    "train_vector = get_avg_feature_vec(x_train,model_w2v,num_features)\n",
    "print('Training set: %d feature vectors with %d dimensions'%train_vector.shape)\n",
    "\n",
    "val_vector = get_avg_feature_vec(x_val,model_w2v,num_features)\n",
    "print('Validation set: %d feature vectors with %d dimensions'%val_vector.shape)"
   ]
  },
  {
   "cell_type": "code",
   "execution_count": 107,
   "metadata": {},
   "outputs": [
    {
     "name": "stdout",
     "output_type": "stream",
     "text": [
      "Accuracy on validation data: 0.5841\n",
      "Classification report:\n",
      "               precision    recall  f1-score   support\n",
      "\n",
      "    Negative       0.69      0.69      0.69        39\n",
      "     Neutral       0.54      0.67      0.60        39\n",
      "    Positive       0.50      0.37      0.43        35\n",
      "\n",
      "    accuracy                           0.58       113\n",
      "   macro avg       0.58      0.58      0.57       113\n",
      "weighted avg       0.58      0.58      0.58       113\n",
      "\n"
     ]
    },
    {
     "data": {
      "image/png": "[encoded data removed]",
      "text/plain": [
       "<Figure size 432x288 with 2 Axes>"
      ]
     },
     "metadata": {
      "needs_background": "light"
     },
     "output_type": "display_data"
    }
   ],
   "source": [
    "rf = RandomForestClassifier(n_estimators=100)\n",
    "rf.fit(train_vector,y_train)\n",
    "pred = rf.predict(val_vector)\n",
    "model_eval(y_val,pred)"
   ]
  },
  {
   "cell_type": "markdown",
   "metadata": {},
   "source": [
    "Using deep learning techniques"
   ]
  },
  {
   "cell_type": "code",
   "execution_count": 114,
   "metadata": {},
   "outputs": [
    {
     "name": "stdout",
     "output_type": "stream",
     "text": [
      "x_train shape: (1012, 100)\n",
      "x_val shape: (113, 100)\n",
      "y_train shape: (1012, 3)\n",
      "y_val shape: (113, 3)\n"
     ]
    }
   ],
   "source": [
    "top_words = 20000\n",
    "maxlen = 100\n",
    "batch_size = 20\n",
    "nb_classes = 3\n",
    "nb_epoch = 12\n",
    "\n",
    "tokenizer = Tokenizer(num_words=top_words)\n",
    "tokenizer.fit_on_texts(x_train)\n",
    "\n",
    "sequences_train = tokenizer.texts_to_sequences(x_train)\n",
    "sequences_val = tokenizer.texts_to_sequences(x_val)\n",
    "\n",
    "x_train_seq = sequence.pad_sequences(sequences_train,maxlen=maxlen)\n",
    "x_val_seq = sequence.pad_sequences(sequences_val,maxlen=maxlen)\n",
    "\n",
    "le = LabelEncoder()\n",
    "y_train_seq = utils.to_categorical(le.fit_transform(y_train),nb_classes)\n",
    "y_val_seq = utils.to_categorical(le.transform(y_val),nb_classes)\n",
    "\n",
    "print('x_train shape:',x_train_seq.shape)\n",
    "print('x_val shape:',x_val_seq.shape)\n",
    "print('y_train shape:',y_train_seq.shape)\n",
    "print('y_val shape:',y_val_seq.shape)"
   ]
  },
  {
   "cell_type": "code",
   "execution_count": 116,
   "metadata": {},
   "outputs": [
    {
     "name": "stdout",
     "output_type": "stream",
     "text": [
      "Model: \"sequential_1\"\n",
      "_________________________________________________________________\n",
      "Layer (type)                 Output Shape              Param #   \n",
      "=================================================================\n",
      "embedding_1 (Embedding)      (None, None, 128)         2560000   \n",
      "_________________________________________________________________\n",
      "dropout_1 (Dropout)          (None, None, 128)         0         \n",
      "_________________________________________________________________\n",
      "lstm_1 (LSTM)                (None, 128)               131584    \n",
      "_________________________________________________________________\n",
      "dense_1 (Dense)              (None, 3)                 387       \n",
      "=================================================================\n",
      "Total params: 2,691,971\n",
      "Trainable params: 2,691,971\n",
      "Non-trainable params: 0\n",
      "_________________________________________________________________\n"
     ]
    }
   ],
   "source": [
    "model_1 = Sequential()\n",
    "model_1.add(Embedding(top_words,128))\n",
    "model_1.add(Dropout(0.4))\n",
    "model_1.add(LSTM(128))\n",
    "model_1.add(Dense(nb_classes,activation='softmax'))\n",
    "model_1.summary()"
   ]
  },
  {
   "cell_type": "code",
   "execution_count": 117,
   "metadata": {},
   "outputs": [
    {
     "name": "stdout",
     "output_type": "stream",
     "text": [
      "Epoch 1/12\n",
      "51/51 [==============================] - 10s 129ms/step - loss: 1.0345 - accuracy: 0.5138 - val_loss: 0.7900 - val_accuracy: 0.7522\n",
      "Epoch 2/12\n",
      "51/51 [==============================] - 5s 95ms/step - loss: 0.5173 - accuracy: 0.8192 - val_loss: 0.4044 - val_accuracy: 0.8407\n",
      "Epoch 3/12\n",
      "51/51 [==============================] - 5s 96ms/step - loss: 0.2105 - accuracy: 0.9318 - val_loss: 0.4450 - val_accuracy: 0.8584\n",
      "Epoch 4/12\n",
      "51/51 [==============================] - 5s 105ms/step - loss: 0.1539 - accuracy: 0.9595 - val_loss: 0.3861 - val_accuracy: 0.8673\n",
      "Epoch 5/12\n",
      "51/51 [==============================] - 5s 99ms/step - loss: 0.0593 - accuracy: 0.9881 - val_loss: 0.3844 - val_accuracy: 0.8938\n",
      "Epoch 6/12\n",
      "51/51 [==============================] - 6s 114ms/step - loss: 0.0423 - accuracy: 0.9872 - val_loss: 0.4455 - val_accuracy: 0.8850\n",
      "Epoch 7/12\n",
      "51/51 [==============================] - 5s 103ms/step - loss: 0.0151 - accuracy: 0.9990 - val_loss: 0.4582 - val_accuracy: 0.8938\n",
      "Epoch 8/12\n",
      "51/51 [==============================] - 6s 108ms/step - loss: 0.0081 - accuracy: 1.0000 - val_loss: 0.4965 - val_accuracy: 0.8850\n",
      "Epoch 9/12\n",
      "51/51 [==============================] - 5s 96ms/step - loss: 0.0154 - accuracy: 0.9960 - val_loss: 0.5644 - val_accuracy: 0.8673\n",
      "Epoch 10/12\n",
      "51/51 [==============================] - 5s 94ms/step - loss: 0.0099 - accuracy: 0.9990 - val_loss: 0.5320 - val_accuracy: 0.8938\n",
      "Epoch 11/12\n",
      "51/51 [==============================] - 5s 98ms/step - loss: 0.0035 - accuracy: 1.0000 - val_loss: 0.5388 - val_accuracy: 0.8938\n",
      "Epoch 12/12\n",
      "51/51 [==============================] - 5s 94ms/step - loss: 0.0034 - accuracy: 1.0000 - val_loss: 0.5663 - val_accuracy: 0.8938\n"
     ]
    }
   ],
   "source": [
    "model_1.compile(optimizer='adam',loss='categorical_crossentropy',metrics=['accuracy'])\n",
    "history = model_1.fit(x_train_seq,y_train_seq,\n",
    "            batch_size=batch_size,\n",
    "            validation_data=(x_val_seq,y_val_seq),\n",
    "            epochs=nb_epoch)"
   ]
  },
  {
   "cell_type": "code",
   "execution_count": 118,
   "metadata": {},
   "outputs": [],
   "source": [
    "def model_training(history):\n",
    "  plt.figure(figsize=(20,8))\n",
    "  plt.subplot(1,2,1)\n",
    "  plt.plot(history.history['loss'],color='r',label='Training Loss')\n",
    "  plt.plot(history.history['val_loss'],color='g',label='Validation Loss')\n",
    "  plt.xlabel('epochs')\n",
    "  plt.ylabel('Loss')\n",
    "  plt.legend()\n",
    "  plt.title('Loss',color='orange')\n",
    "  plt.subplot(1,2,2)\n",
    "  plt.plot(history.history['accuracy'],color='r',label='Training Accuracy')\n",
    "  plt.plot(history.history['val_accuracy'],color='g',label='Validation Accuracy')\n",
    "  plt.xlabel('epochs')\n",
    "  plt.ylabel('Accuracy')\n",
    "  plt.title('Accuracy',color='orange')\n",
    "  plt.legend()\n",
    "  plt.show()"
   ]
  },
  {
   "cell_type": "code",
   "execution_count": 119,
   "metadata": {},
   "outputs": [
    {
     "data": {
      "image/png": "[encoded data removed]",
      "text/plain": [
       "<Figure size 1440x576 with 2 Axes>"
      ]
     },
     "metadata": {
      "needs_background": "light"
     },
     "output_type": "display_data"
    }
   ],
   "source": [
    "model_training(history)"
   ]
  },
  {
   "cell_type": "code",
   "execution_count": 121,
   "metadata": {},
   "outputs": [
    {
     "name": "stdout",
     "output_type": "stream",
     "text": [
      "Test loss: 0.5663489699363708\n",
      "Test accuracy, 0.8938053250312805\n"
     ]
    }
   ],
   "source": [
    "metrics = model_1.evaluate(x_val_seq,y_val_seq,batch_size=batch_size,verbose=0)\n",
    "print('Test loss:',metrics[0])\n",
    "print('Test accuracy,',metrics[1])"
   ]
  },
  {
   "cell_type": "code",
   "execution_count": 127,
   "metadata": {},
   "outputs": [
    {
     "data": {
      "text/plain": [
       "array([[-0.00280707, -0.00909205,  0.00539963, ...,  0.01141004,\n",
       "         0.00398173,  0.01346572],\n",
       "       [-0.00514027, -0.04962541, -0.01099043, ...,  0.02675252,\n",
       "        -0.03046135, -0.03544153],\n",
       "       [-0.01353901, -0.01130819, -0.00434166, ..., -0.08324616,\n",
       "         0.06148088, -0.05254243],\n",
       "       ...,\n",
       "       [-0.03311042, -0.03086486, -0.01243066, ...,  0.01714103,\n",
       "        -0.01411345,  0.03667352],\n",
       "       [ 0.04003402, -0.04165492, -0.00584479, ...,  0.02353313,\n",
       "         0.02402849, -0.04189087],\n",
       "       [ 0.02599695, -0.02424543,  0.04559637, ..., -0.03727194,\n",
       "        -0.01068642,  0.02681093]], dtype=float32)"
      ]
     },
     "execution_count": 127,
     "metadata": {},
     "output_type": "execute_result"
    }
   ],
   "source": [
    "model_1.layers[0].get_weights()[0]\n"
   ]
  },
  {
   "cell_type": "markdown",
   "metadata": {},
   "source": [
    "LSTM+Word2Vec"
   ]
  },
  {
   "cell_type": "code",
   "execution_count": 138,
   "metadata": {},
   "outputs": [
    {
     "name": "stdout",
     "output_type": "stream",
     "text": [
      "Shape of embedding matrix: (706, 300)\n"
     ]
    }
   ],
   "source": [
    "w2v = Word2Vec.load('w2v_model')\n",
    "vocab = w2v.wv.index_to_key\n",
    "embedding_matrix = w2v.wv[vocab]\n",
    "print('Shape of embedding matrix:',embedding_matrix.shape)"
   ]
  },
  {
   "cell_type": "code",
   "execution_count": 176,
   "metadata": {},
   "outputs": [
    {
     "name": "stdout",
     "output_type": "stream",
     "text": [
      "x_train shape: (1012, 100)\n",
      "x_val shape: (113, 100)\n",
      "y_train shape: (1012, 3)\n",
      "y_val shape: (113, 3)\n"
     ]
    }
   ],
   "source": [
    "top_words = embedding_matrix.shape[0]\n",
    "maxlen = 100\n",
    "batch_size = 32\n",
    "nb_classes = 3\n",
    "nb_epoch = 10\n",
    "\n",
    "tokenizer = Tokenizer(num_words=top_words)\n",
    "tokenizer.fit_on_texts(x_train)\n",
    "\n",
    "sequences_train = tokenizer.texts_to_sequences(x_train)\n",
    "sequences_val = tokenizer.texts_to_sequences(x_val)\n",
    "\n",
    "x_train_seq = sequence.pad_sequences(sequences_train,maxlen=maxlen)\n",
    "x_val_seq = sequence.pad_sequences(sequences_val,maxlen=maxlen)\n",
    "\n",
    "le = LabelEncoder()\n",
    "y_train_seq = utils.to_categorical(le.fit_transform(y_train),nb_classes)\n",
    "y_val_seq = utils.to_categorical(le.transform(y_val),nb_classes)\n",
    "\n",
    "print('x_train shape:',x_train_seq.shape)\n",
    "print('x_val shape:',x_val_seq.shape)\n",
    "print('y_train shape:',y_train_seq.shape)\n",
    "print('y_val shape:',y_val_seq.shape)"
   ]
  },
  {
   "cell_type": "code",
   "execution_count": 178,
   "metadata": {},
   "outputs": [
    {
     "name": "stdout",
     "output_type": "stream",
     "text": [
      "Model: \"sequential_18\"\n",
      "_________________________________________________________________\n",
      "Layer (type)                 Output Shape              Param #   \n",
      "=================================================================\n",
      "embedding_20 (Embedding)     (None, None, 300)         211800    \n",
      "_________________________________________________________________\n",
      "dropout_15 (Dropout)         (None, None, 300)         0         \n",
      "_________________________________________________________________\n",
      "lstm_15 (LSTM)               (None, 128)               219648    \n",
      "_________________________________________________________________\n",
      "dense_15 (Dense)             (None, 3)                 387       \n",
      "=================================================================\n",
      "Total params: 431,835\n",
      "Trainable params: 431,835\n",
      "Non-trainable params: 0\n",
      "_________________________________________________________________\n"
     ]
    }
   ],
   "source": [
    "\n",
    "embedding_layer = Embedding(input_dim=embedding_matrix.shape[0],\n",
    "                            output_dim=embedding_matrix.shape[1],\n",
    "                            embeddings_initializer=tf.keras.initializers.Constant(embedding_matrix))\n",
    "\n",
    "model_2 = Sequential()\n",
    "model_2.add(embedding_layer)\n",
    "model_2.add(Dropout(0.4))\n",
    "model_2.add(LSTM(128))\n",
    "model_2.add(Dense(nb_classes,activation='softmax'))\n",
    "model_2.summary()"
   ]
  },
  {
   "cell_type": "code",
   "execution_count": 179,
   "metadata": {},
   "outputs": [
    {
     "name": "stdout",
     "output_type": "stream",
     "text": [
      "Epoch 1/10\n",
      "32/32 [==============================] - 13s 295ms/step - loss: 1.0783 - accuracy: 0.4664 - val_loss: 1.0039 - val_accuracy: 0.5841\n",
      "Epoch 2/10\n",
      "32/32 [==============================] - 5s 150ms/step - loss: 0.7089 - accuracy: 0.7292 - val_loss: 0.5147 - val_accuracy: 0.8142\n",
      "Epoch 3/10\n",
      "32/32 [==============================] - 5s 146ms/step - loss: 0.2811 - accuracy: 0.8933 - val_loss: 0.4788 - val_accuracy: 0.8407\n",
      "Epoch 4/10\n",
      "32/32 [==============================] - 5s 152ms/step - loss: 0.1724 - accuracy: 0.9387 - val_loss: 0.5098 - val_accuracy: 0.8407\n",
      "Epoch 5/10\n",
      "32/32 [==============================] - 5s 153ms/step - loss: 0.1105 - accuracy: 0.9625 - val_loss: 0.5195 - val_accuracy: 0.8673\n",
      "Epoch 6/10\n",
      "32/32 [==============================] - 5s 155ms/step - loss: 0.0765 - accuracy: 0.9792 - val_loss: 0.5343 - val_accuracy: 0.8850\n",
      "Epoch 7/10\n",
      "32/32 [==============================] - 5s 152ms/step - loss: 0.0474 - accuracy: 0.9872 - val_loss: 0.5593 - val_accuracy: 0.8938\n",
      "Epoch 8/10\n",
      "32/32 [==============================] - 5s 143ms/step - loss: 0.0300 - accuracy: 0.9931 - val_loss: 0.6311 - val_accuracy: 0.8850\n",
      "Epoch 9/10\n",
      "32/32 [==============================] - 5s 149ms/step - loss: 0.0308 - accuracy: 0.9921 - val_loss: 0.7514 - val_accuracy: 0.8496\n",
      "Epoch 10/10\n",
      "32/32 [==============================] - 5s 144ms/step - loss: 0.0368 - accuracy: 0.9872 - val_loss: 0.6767 - val_accuracy: 0.8761\n"
     ]
    }
   ],
   "source": [
    "model_2.compile(optimizer='adam',loss='categorical_crossentropy',metrics=['accuracy'])\n",
    "history = model_2.fit(x_train_seq,y_train_seq,\n",
    "                      batch_size=batch_size,\n",
    "                      validation_data=(x_val_seq,y_val_seq),\n",
    "                      epochs=nb_epoch)"
   ]
  },
  {
   "cell_type": "code",
   "execution_count": 180,
   "metadata": {},
   "outputs": [
    {
     "data": {
      "image/png": "[encoded data removed]",
      "text/plain": [
       "<Figure size 1440x576 with 2 Axes>"
      ]
     },
     "metadata": {
      "needs_background": "light"
     },
     "output_type": "display_data"
    },
    {
     "name": "stdout",
     "output_type": "stream",
     "text": [
      "Test loss: 0.6767473220825195\n",
      "Test accuracy, 0.8761062026023865\n"
     ]
    }
   ],
   "source": [
    "model_training(history)\n",
    "metrics = model_2.evaluate(x_val_seq,y_val_seq,batch_size=batch_size,verbose=0)\n",
    "print('Test loss:',metrics[0])\n",
    "print('Test accuracy,',metrics[1])"
   ]
  },
  {
   "cell_type": "markdown",
   "metadata": {},
   "source": [
    "# Topic Modelling"
   ]
  },
  {
   "cell_type": "code",
   "execution_count": 43,
   "metadata": {},
   "outputs": [],
   "source": [
    "from gensim.models.ldamodel import LdaModel\n",
    "from gensim import corpora\n",
    "import pyLDAvis\n",
    "import pyLDAvis.gensim_models as gensimvis\n",
    "import spacy"
   ]
  },
  {
   "cell_type": "code",
   "execution_count": 60,
   "metadata": {},
   "outputs": [
    {
     "name": "stdout",
     "output_type": "stream",
     "text": [
      "Dictionary(3415 unique tokens: ['able', 'access', 'accomplish', 'ad', 'add']...)\n"
     ]
    }
   ],
   "source": [
    "document = train_data['preprocessed_reviews'].to_list()\n",
    "doc = [doc.split() for doc in document]\n",
    "id2word = corpora.Dictionary(doc)\n",
    "\n",
    "print(id2word)"
   ]
  },
  {
   "cell_type": "code",
   "execution_count": 69,
   "metadata": {},
   "outputs": [
    {
     "data": {
      "text/plain": [
       "[(16, 1), (93, 1), (104, 1), (105, 1), (106, 1), (107, 1), (108, 1), (109, 1)]"
      ]
     },
     "execution_count": 69,
     "metadata": {},
     "output_type": "execute_result"
    }
   ],
   "source": [
    "corpus = [id2word.doc2bow(text) for text in doc]\n",
    "corpus[5][:20]"
   ]
  },
  {
   "cell_type": "code",
   "execution_count": 72,
   "metadata": {},
   "outputs": [],
   "source": [
    "lda = LdaModel(corpus,\n",
    "               num_topics=9,\n",
    "               id2word=id2word,\n",
    "               passes=30)"
   ]
  },
  {
   "cell_type": "code",
   "execution_count": 83,
   "metadata": {},
   "outputs": [
    {
     "name": "stdout",
     "output_type": "stream",
     "text": [
      "Number of topics:9\n",
      "\n",
      "Topics\n",
      "(0, '0.076*\"buy\" + 0.049*\"one\" + 0.035*\"love\" + 0.033*\"gift\" + 0.031*\"get\" + 0.021*\"christmas\" + 0.019*\"best\" + 0.017*\"wife\" + 0.016*\"purchase\" + 0.013*\"happy\"')\n",
      "(1, '0.083*\"read\" + 0.080*\"book\" + 0.032*\"use\" + 0.030*\"kindle\" + 0.023*\"love\" + 0.022*\"easy\" + 0.021*\"reader\" + 0.019*\"size\" + 0.014*\"e\" + 0.012*\"great\"')\n",
      "(2, '0.038*\"echo\" + 0.025*\"alexa\" + 0.021*\"show\" + 0.020*\"music\" + 0.020*\"love\" + 0.018*\"great\" + 0.015*\"sound\" + 0.014*\"home\" + 0.013*\"use\" + 0.013*\"amazon\"')\n",
      "(3, '0.075*\"great\" + 0.068*\"easy\" + 0.067*\"use\" + 0.054*\"product\" + 0.036*\"recommend\" + 0.026*\"set\" + 0.022*\"love\" + 0.022*\"work\" + 0.021*\"would\" + 0.017*\"good\"')\n",
      "(4, '0.068*\"tablet\" + 0.034*\"good\" + 0.029*\"price\" + 0.026*\"great\" + 0.024*\"amazon\" + 0.017*\"apps\" + 0.015*\"use\" + 0.013*\"work\" + 0.011*\"nice\" + 0.010*\"fire\"')\n",
      "(5, '0.031*\"kid\" + 0.016*\"like\" + 0.013*\"little\" + 0.013*\"version\" + 0.010*\"thing\" + 0.010*\"device\" + 0.010*\"access\" + 0.010*\"pretty\" + 0.010*\"previous\" + 0.010*\"amazon\"')\n",
      "(6, '0.036*\"get\" + 0.023*\"need\" + 0.020*\"one\" + 0.019*\"time\" + 0.017*\"great\" + 0.017*\"tablet\" + 0.016*\"work\" + 0.013*\"price\" + 0.012*\"well\" + 0.010*\"issue\"')\n",
      "(7, '0.051*\"kindle\" + 0.024*\"light\" + 0.023*\"read\" + 0.022*\"battery\" + 0.018*\"screen\" + 0.016*\"charge\" + 0.014*\"life\" + 0.013*\"like\" + 0.013*\"fire\" + 0.013*\"small\"')\n",
      "(8, '0.067*\"love\" + 0.041*\"tablet\" + 0.036*\"old\" + 0.034*\"year\" + 0.029*\"buy\" + 0.027*\"kid\" + 0.025*\"game\" + 0.022*\"play\" + 0.020*\"great\" + 0.018*\"purchase\"')\n"
     ]
    }
   ],
   "source": [
    "topics = lda.show_topics()\n",
    "print('Number of topics:{}\\n'.format(len(topics)))\n",
    "print('Topics')\n",
    "for topic in topics:\n",
    "    print(topic)"
   ]
  },
  {
   "cell_type": "code",
   "execution_count": 85,
   "metadata": {},
   "outputs": [
    {
     "data": {
      "text/html": [
       "<div>\n",
       "<style scoped>\n",
       "    .dataframe tbody tr th:only-of-type {\n",
       "        vertical-align: middle;\n",
       "    }\n",
       "\n",
       "    .dataframe tbody tr th {\n",
       "        vertical-align: top;\n",
       "    }\n",
       "\n",
       "    .dataframe thead th {\n",
       "        text-align: right;\n",
       "    }\n",
       "</style>\n",
       "<table border=\"1\" class=\"dataframe\">\n",
       "  <thead>\n",
       "    <tr style=\"text-align: right;\">\n",
       "      <th></th>\n",
       "      <th>Topic-0</th>\n",
       "      <th>Topic-1</th>\n",
       "      <th>Topic-2</th>\n",
       "      <th>Topic-3</th>\n",
       "      <th>Topic-4</th>\n",
       "      <th>Topic-5</th>\n",
       "      <th>Topic-6</th>\n",
       "      <th>Topic-7</th>\n",
       "      <th>Topic-8</th>\n",
       "    </tr>\n",
       "  </thead>\n",
       "  <tbody>\n",
       "    <tr>\n",
       "      <th>0</th>\n",
       "      <td>buy</td>\n",
       "      <td>read</td>\n",
       "      <td>echo</td>\n",
       "      <td>great</td>\n",
       "      <td>tablet</td>\n",
       "      <td>kid</td>\n",
       "      <td>get</td>\n",
       "      <td>kindle</td>\n",
       "      <td>love</td>\n",
       "    </tr>\n",
       "    <tr>\n",
       "      <th>1</th>\n",
       "      <td>one</td>\n",
       "      <td>book</td>\n",
       "      <td>alexa</td>\n",
       "      <td>easy</td>\n",
       "      <td>good</td>\n",
       "      <td>like</td>\n",
       "      <td>need</td>\n",
       "      <td>light</td>\n",
       "      <td>tablet</td>\n",
       "    </tr>\n",
       "    <tr>\n",
       "      <th>2</th>\n",
       "      <td>love</td>\n",
       "      <td>use</td>\n",
       "      <td>show</td>\n",
       "      <td>use</td>\n",
       "      <td>price</td>\n",
       "      <td>little</td>\n",
       "      <td>one</td>\n",
       "      <td>read</td>\n",
       "      <td>old</td>\n",
       "    </tr>\n",
       "    <tr>\n",
       "      <th>3</th>\n",
       "      <td>gift</td>\n",
       "      <td>kindle</td>\n",
       "      <td>music</td>\n",
       "      <td>product</td>\n",
       "      <td>great</td>\n",
       "      <td>version</td>\n",
       "      <td>time</td>\n",
       "      <td>battery</td>\n",
       "      <td>year</td>\n",
       "    </tr>\n",
       "    <tr>\n",
       "      <th>4</th>\n",
       "      <td>get</td>\n",
       "      <td>love</td>\n",
       "      <td>love</td>\n",
       "      <td>recommend</td>\n",
       "      <td>amazon</td>\n",
       "      <td>thing</td>\n",
       "      <td>great</td>\n",
       "      <td>screen</td>\n",
       "      <td>buy</td>\n",
       "    </tr>\n",
       "    <tr>\n",
       "      <th>5</th>\n",
       "      <td>christmas</td>\n",
       "      <td>easy</td>\n",
       "      <td>great</td>\n",
       "      <td>set</td>\n",
       "      <td>apps</td>\n",
       "      <td>device</td>\n",
       "      <td>tablet</td>\n",
       "      <td>charge</td>\n",
       "      <td>kid</td>\n",
       "    </tr>\n",
       "    <tr>\n",
       "      <th>6</th>\n",
       "      <td>best</td>\n",
       "      <td>reader</td>\n",
       "      <td>sound</td>\n",
       "      <td>love</td>\n",
       "      <td>use</td>\n",
       "      <td>access</td>\n",
       "      <td>work</td>\n",
       "      <td>life</td>\n",
       "      <td>game</td>\n",
       "    </tr>\n",
       "    <tr>\n",
       "      <th>7</th>\n",
       "      <td>wife</td>\n",
       "      <td>size</td>\n",
       "      <td>home</td>\n",
       "      <td>work</td>\n",
       "      <td>work</td>\n",
       "      <td>pretty</td>\n",
       "      <td>price</td>\n",
       "      <td>like</td>\n",
       "      <td>play</td>\n",
       "    </tr>\n",
       "    <tr>\n",
       "      <th>8</th>\n",
       "      <td>purchase</td>\n",
       "      <td>e</td>\n",
       "      <td>use</td>\n",
       "      <td>would</td>\n",
       "      <td>nice</td>\n",
       "      <td>previous</td>\n",
       "      <td>well</td>\n",
       "      <td>fire</td>\n",
       "      <td>great</td>\n",
       "    </tr>\n",
       "    <tr>\n",
       "      <th>9</th>\n",
       "      <td>happy</td>\n",
       "      <td>great</td>\n",
       "      <td>amazon</td>\n",
       "      <td>good</td>\n",
       "      <td>fire</td>\n",
       "      <td>amazon</td>\n",
       "      <td>issue</td>\n",
       "      <td>small</td>\n",
       "      <td>purchase</td>\n",
       "    </tr>\n",
       "    <tr>\n",
       "      <th>10</th>\n",
       "      <td>want</td>\n",
       "      <td>perfect</td>\n",
       "      <td>device</td>\n",
       "      <td>item</td>\n",
       "      <td>need</td>\n",
       "      <td>kindle</td>\n",
       "      <td>little</td>\n",
       "      <td>use</td>\n",
       "      <td>use</td>\n",
       "    </tr>\n",
       "    <tr>\n",
       "      <th>11</th>\n",
       "      <td>work</td>\n",
       "      <td>download</td>\n",
       "      <td>like</td>\n",
       "      <td>tablet</td>\n",
       "      <td>buy</td>\n",
       "      <td>lot</td>\n",
       "      <td>would</td>\n",
       "      <td>last</td>\n",
       "      <td>daughter</td>\n",
       "    </tr>\n",
       "    <tr>\n",
       "      <th>12</th>\n",
       "      <td>replace</td>\n",
       "      <td>device</td>\n",
       "      <td>video</td>\n",
       "      <td>kid</td>\n",
       "      <td>fast</td>\n",
       "      <td>fire</td>\n",
       "      <td>money</td>\n",
       "      <td>much</td>\n",
       "      <td>son</td>\n",
       "    </tr>\n",
       "    <tr>\n",
       "      <th>13</th>\n",
       "      <td>give</td>\n",
       "      <td>fire</td>\n",
       "      <td>light</td>\n",
       "      <td>fun</td>\n",
       "      <td>screen</td>\n",
       "      <td>update</td>\n",
       "      <td>go</td>\n",
       "      <td>would</td>\n",
       "      <td>easy</td>\n",
       "    </tr>\n",
       "    <tr>\n",
       "      <th>14</th>\n",
       "      <td>old</td>\n",
       "      <td>good</td>\n",
       "      <td>good</td>\n",
       "      <td>learn</td>\n",
       "      <td>store</td>\n",
       "      <td>cool</td>\n",
       "      <td>computer</td>\n",
       "      <td>long</td>\n",
       "      <td>grandson</td>\n",
       "    </tr>\n",
       "    <tr>\n",
       "      <th>15</th>\n",
       "      <td>fire</td>\n",
       "      <td>like</td>\n",
       "      <td>screen</td>\n",
       "      <td>highly</td>\n",
       "      <td>hd</td>\n",
       "      <td>card</td>\n",
       "      <td>tell</td>\n",
       "      <td>buy</td>\n",
       "      <td>time</td>\n",
       "    </tr>\n",
       "    <tr>\n",
       "      <th>16</th>\n",
       "      <td>kindle</td>\n",
       "      <td>need</td>\n",
       "      <td>play</td>\n",
       "      <td>really</td>\n",
       "      <td>well</td>\n",
       "      <td>sd</td>\n",
       "      <td>want</td>\n",
       "      <td>go</td>\n",
       "      <td>get</td>\n",
       "    </tr>\n",
       "    <tr>\n",
       "      <th>17</th>\n",
       "      <td>great</td>\n",
       "      <td>also</td>\n",
       "      <td>speaker</td>\n",
       "      <td>price</td>\n",
       "      <td>google</td>\n",
       "      <td>get</td>\n",
       "      <td>take</td>\n",
       "      <td>easy</td>\n",
       "      <td>child</td>\n",
       "    </tr>\n",
       "    <tr>\n",
       "      <th>18</th>\n",
       "      <td>product</td>\n",
       "      <td>new</td>\n",
       "      <td>smart</td>\n",
       "      <td>child</td>\n",
       "      <td>game</td>\n",
       "      <td>annoy</td>\n",
       "      <td>another</td>\n",
       "      <td>cover</td>\n",
       "      <td>kindle</td>\n",
       "    </tr>\n",
       "    <tr>\n",
       "      <th>19</th>\n",
       "      <td>new</td>\n",
       "      <td>internet</td>\n",
       "      <td>ask</td>\n",
       "      <td>thing</td>\n",
       "      <td>quality</td>\n",
       "      <td>app</td>\n",
       "      <td>everything</td>\n",
       "      <td>model</td>\n",
       "      <td>apps</td>\n",
       "    </tr>\n",
       "  </tbody>\n",
       "</table>\n",
       "</div>"
      ],
      "text/plain": [
       "      Topic-0   Topic-1  Topic-2    Topic-3  Topic-4   Topic-5     Topic-6  \\\n",
       "0         buy      read     echo      great   tablet       kid         get   \n",
       "1         one      book    alexa       easy     good      like        need   \n",
       "2        love       use     show        use    price    little         one   \n",
       "3        gift    kindle    music    product    great   version        time   \n",
       "4         get      love     love  recommend   amazon     thing       great   \n",
       "5   christmas      easy    great        set     apps    device      tablet   \n",
       "6        best    reader    sound       love      use    access        work   \n",
       "7        wife      size     home       work     work    pretty       price   \n",
       "8    purchase         e      use      would     nice  previous        well   \n",
       "9       happy     great   amazon       good     fire    amazon       issue   \n",
       "10       want   perfect   device       item     need    kindle      little   \n",
       "11       work  download     like     tablet      buy       lot       would   \n",
       "12    replace    device    video        kid     fast      fire       money   \n",
       "13       give      fire    light        fun   screen    update          go   \n",
       "14        old      good     good      learn    store      cool    computer   \n",
       "15       fire      like   screen     highly       hd      card        tell   \n",
       "16     kindle      need     play     really     well        sd        want   \n",
       "17      great      also  speaker      price   google       get        take   \n",
       "18    product       new    smart      child     game     annoy     another   \n",
       "19        new  internet      ask      thing  quality       app  everything   \n",
       "\n",
       "    Topic-7   Topic-8  \n",
       "0    kindle      love  \n",
       "1     light    tablet  \n",
       "2      read       old  \n",
       "3   battery      year  \n",
       "4    screen       buy  \n",
       "5    charge       kid  \n",
       "6      life      game  \n",
       "7      like      play  \n",
       "8      fire     great  \n",
       "9     small  purchase  \n",
       "10      use       use  \n",
       "11     last  daughter  \n",
       "12     much       son  \n",
       "13    would      easy  \n",
       "14     long  grandson  \n",
       "15      buy      time  \n",
       "16       go       get  \n",
       "17     easy     child  \n",
       "18    cover    kindle  \n",
       "19    model      apps  "
      ]
     },
     "execution_count": 85,
     "metadata": {},
     "output_type": "execute_result"
    }
   ],
   "source": [
    "word_dict = {}\n",
    "for i in range(9):\n",
    "    words = lda.show_topic(i,topn=20)\n",
    "    word_dict['Topic-'+str(i)] = [i[0] for i in words]\n",
    "\n",
    "words_df = pd.DataFrame(word_dict)\n",
    "words_df"
   ]
  },
  {
   "cell_type": "code",
   "execution_count": 74,
   "metadata": {},
   "outputs": [
    {
     "data": {
      "text/html": [
       "\n",
       "<link rel=\"stylesheet\" type=\"text/css\" href=\"https://cdn.jsdelivr.net/gh/bmabey/pyLDAvis@3.3.1/pyLDAvis/js/ldavis.v1.0.0.css\">\n",
       "\n",
       "\n",
       "<div id=\"ldavis_el2160426489122925526744867588\"></div>\n",
       "<script type=\"text/javascript\">\n",
       "\n",
       "var ldavis_el2160426489122925526744867588_data = {\"mdsDat\": {\"x\": [0.060069230757121374, 0.06455710313825652, 0.0796148317827212, -0.24309959367935016, 0.005824376997106299, 0.18100914741014965, -0.1329042871925453, 0.014514178579291255, -0.029584987792750834], \"y\": [0.03372866518654365, -0.02237848595931083, 0.07514488974235721, 0.037994924130414, -0.08972741803539287, 0.1296881455141502, 0.16315277817741228, -0.18794092336913104, -0.13966257538704258], \"topics\": [1, 2, 3, 4, 5, 6, 7, 8, 9], \"cluster\": [1, 1, 1, 1, 1, 1, 1, 1, 1], \"Freq\": [24.890787106650556, 15.396721939990693, 13.176243847368822, 11.23440557433152, 9.348219129700908, 8.62060621987996, 7.097492814757633, 6.035642445865124, 4.199880921454782]}, \"tinfo\": {\"Term\": [\"read\", \"buy\", \"book\", \"tablet\", \"easy\", \"love\", \"echo\", \"use\", \"great\", \"kindle\", \"product\", \"one\", \"kid\", \"get\", \"old\", \"alexa\", \"year\", \"gift\", \"recommend\", \"price\", \"music\", \"light\", \"game\", \"show\", \"battery\", \"work\", \"play\", \"set\", \"need\", \"christmas\", \"music\", \"smart\", \"dot\", \"echo\", \"weather\", \"voice\", \"recipe\", \"news\", \"hue\", \"kitchen\", \"answer\", \"hub\", \"ask\", \"song\", \"lyric\", \"loud\", \"ring\", \"addition\", \"automation\", \"bedroom\", \"alexa\", \"alarm\", \"bulb\", \"philip\", \"doorbell\", \"face\", \"audio\", \"arlo\", \"question\", \"brightness\", \"home\", \"show\", \"listen\", \"sound\", \"speaker\", \"cook\", \"connect\", \"house\", \"tap\", \"see\", \"video\", \"plus\", \"room\", \"device\", \"light\", \"amazon\", \"screen\", \"love\", \"great\", \"like\", \"play\", \"also\", \"use\", \"good\", \"even\", \"make\", \"thing\", \"work\", \"get\", \"purchase\", \"feature\", \"android\", \"browse\", \"niece\", \"magazine\", \"task\", \"processor\", \"netflix\", \"exceed\", \"class\", \"browser\", \"didnt\", \"immediately\", \"write\", \"constant\", \"downside\", \"standard\", \"smartphone\", \"email\", \"image\", \"social\", \"general\", \"position\", \"credit\", \"despite\", \"playstore\", \"chrome\", \"resolution\", \"clean\", \"hundred\", \"fairly\", \"consider\", \"slow\", \"load\", \"medium\", \"perform\", \"hd\", \"price\", \"lack\", \"speed\", \"fast\", \"beat\", \"google\", \"decent\", \"tablet\", \"store\", \"available\", \"prime\", \"surf\", \"apps\", \"expectation\", \"web\", \"good\", \"laptop\", \"nice\", \"amazon\", \"service\", \"account\", \"memory\", \"app\", \"quality\", \"great\", \"need\", \"work\", \"fire\", \"picture\", \"use\", \"well\", \"movie\", \"screen\", \"little\", \"game\", \"buy\", \"look\", \"play\", \"would\", \"get\", \"one\", \"like\", \"device\", \"grandson\", \"granddaughter\", \"yr\", \"parental\", \"educational\", \"grand\", \"appropriate\", \"selection\", \"port\", \"boy\", \"protection\", \"pink\", \"cartoon\", \"tube\", \"dollar\", \"die\", \"tough\", \"upon\", \"eco\", \"prior\", \"xbox\", \"assistance\", \"absolutely\", \"young\", \"b\", \"girl\", \"pic\", \"year\", \"flight\", \"unbelievable\", \"grandchild\", \"warranty\", \"friendly\", \"old\", \"son\", \"durable\", \"daughter\", \"age\", \"game\", \"birthday\", \"navigate\", \"ago\", \"kid\", \"love\", \"us\", \"play\", \"child\", \"drop\", \"case\", \"tablet\", \"purchase\", \"buy\", \"user\", \"watch\", \"time\", \"control\", \"easy\", \"great\", \"use\", \"apps\", \"get\", \"learn\", \"kindle\", \"gift\", \"perfect\", \"cover\", \"voyage\", \"oasis\", \"anywhere\", \"purse\", \"dark\", \"lightweight\", \"battery\", \"junk\", \"bag\", \"sunlight\", \"remember\", \"eye\", \"page\", \"hdx\", \"glare\", \"pocket\", \"backlit\", \"slot\", \"strain\", \"life\", \"often\", \"drain\", \"tag\", \"th\", \"auto\", \"backup\", \"appear\", \"anymore\", \"paperwhite\", \"last\", \"model\", \"fit\", \"mini\", \"third\", \"charge\", \"protect\", \"kindle\", \"small\", \"hold\", \"weight\", \"light\", \"long\", \"upgrade\", \"inch\", \"read\", \"button\", \"screen\", \"much\", \"fire\", \"turn\", \"like\", \"go\", \"would\", \"hand\", \"size\", \"make\", \"use\", \"new\", \"time\", \"buy\", \"easy\", \"one\", \"good\", \"mother\", \"nd\", \"direction\", \"useless\", \"four\", \"employee\", \"okay\", \"superb\", \"beyond\", \"hate\", \"excite\", \"minor\", \"recharge\", \"upstairs\", \"cloudcam\", \"recipient\", \"knowledgeable\", \"automate\", \"lightbulb\", \"rep\", \"concept\", \"clearly\", \"double\", \"law\", \"schedule\", \"jealous\", \"underground\", \"needle\", \"fight\", \"initially\", \"present\", \"sense\", \"gift\", \"christmas\", \"wife\", \"portability\", \"mom\", \"dad\", \"replace\", \"sister\", \"buy\", \"one\", \"happy\", \"best\", \"brother\", \"early\", \"instal\", \"get\", \"give\", \"grandkids\", \"love\", \"want\", \"purchase\", \"sale\", \"charger\", \"family\", \"every\", \"work\", \"problem\", \"try\", \"new\", \"fire\", \"old\", \"review\", \"second\", \"product\", \"go\", \"make\", \"kindle\", \"much\", \"great\", \"amazon\", \"good\", \"need\", \"like\", \"highly\", \"recommend\", \"busy\", \"follow\", \"bumper\", \"visual\", \"onto\", \"damage\", \"skype\", \"baby\", \"manual\", \"siri\", \"seamlessly\", \"anybody\", \"surprisingly\", \"interactive\", \"pas\", \"red\", \"iphone\", \"activity\", \"nabi\", \"appstore\", \"electronics\", \"cute\", \"rock\", \"proprietary\", \"anyone\", \"hook\", \"tip\", \"tho\", \"product\", \"item\", \"easy\", \"handle\", \"set\", \"use\", \"great\", \"fun\", \"learn\", \"definitely\", \"would\", \"friend\", \"simple\", \"work\", \"understand\", \"awesome\", \"child\", \"entertain\", \"everyday\", \"good\", \"really\", \"love\", \"kid\", \"family\", \"thing\", \"enjoy\", \"keep\", \"perfect\", \"price\", \"tablet\", \"well\", \"lot\", \"like\", \"look\", \"e\", \"beginner\", \"entertainment\", \"book\", \"letter\", \"electronic\", \"sun\", \"paper\", \"impossible\", \"form\", \"enjoyable\", \"alot\", \"data\", \"couch\", \"teenage\", \"non\", \"straight\", \"reader\", \"factor\", \"coffee\", \"suit\", \"current\", \"effort\", \"greatly\", \"ebook\", \"wind\", \"hope\", \"suck\", \"glass\", \"shade\", \"read\", \"market\", \"mostly\", \"carry\", \"library\", \"size\", \"travel\", \"ease\", \"real\", \"exactly\", \"download\", \"school\", \"kindle\", \"night\", \"perfect\", \"use\", \"internet\", \"easy\", \"favorite\", \"love\", \"fire\", \"device\", \"need\", \"new\", \"great\", \"also\", \"many\", \"good\", \"like\", \"movie\", \"want\", \"make\", \"tablet\", \"purchase\", \"go\", \"computer\", \"three\", \"joke\", \"reset\", \"serf\", \"confuse\", \"piece\", \"im\", \"interest\", \"period\", \"grandma\", \"mind\", \"bundle\", \"glitch\", \"filter\", \"restriction\", \"resolve\", \"tire\", \"reduce\", \"afford\", \"doesnt\", \"factory\", \"grab\", \"operation\", \"push\", \"senior\", \"hardware\", \"alex\", \"spouse\", \"shes\", \"fail\", \"backlight\", \"meet\", \"else\", \"special\", \"variety\", \"spend\", \"never\", \"issue\", \"money\", \"nothing\", \"ebooks\", \"replacement\", \"blue\", \"need\", \"register\", \"someone\", \"pick\", \"get\", \"tell\", \"order\", \"time\", \"another\", \"always\", \"star\", \"one\", \"little\", \"worth\", \"work\", \"well\", \"price\", \"tablet\", \"great\", \"help\", \"go\", \"would\", \"everything\", \"take\", \"want\", \"amazon\", \"annoy\", \"edition\", \"trouble\", \"integration\", \"short\", \"separate\", \"concern\", \"interface\", \"neat\", \"complicate\", \"bottom\", \"guarantee\", \"dauther\", \"equipment\", \"smooth\", \"network\", \"micro\", \"al\", \"exit\", \"safety\", \"understatement\", \"w\", \"spectacular\", \"previously\", \"sd\", \"firends\", \"kinde\", \"reccomend\", \"foam\", \"reply\", \"improvement\", \"lock\", \"previous\", \"switch\", \"audible\", \"profile\", \"box\", \"cool\", \"version\", \"person\", \"original\", \"access\", \"update\", \"card\", \"kid\", \"pretty\", \"little\", \"support\", \"quick\", \"wrong\", \"like\", \"content\", \"limit\", \"thing\", \"app\", \"lot\", \"device\", \"ipad\", \"amazon\", \"fire\", \"kindle\", \"seem\", \"get\", \"set\", \"big\", \"good\", \"love\", \"would\"], \"Freq\": [506.0, 864.0, 360.0, 1111.0, 691.0, 1251.0, 576.0, 1057.0, 1228.0, 626.0, 424.0, 581.0, 406.0, 600.0, 375.0, 396.0, 312.0, 244.0, 198.0, 377.0, 305.0, 332.0, 297.0, 335.0, 152.0, 481.0, 385.0, 279.0, 300.0, 158.0, 304.6296757536922, 134.42336028226075, 116.1797393881477, 572.0869940254084, 72.5405151137777, 62.45864902990737, 58.36202608865998, 55.5166674868144, 51.96645371648755, 48.95887493230314, 49.98250221198293, 55.97162767221958, 124.3403012490428, 34.89120811105345, 28.238199362560703, 27.948494055203177, 26.05683218180682, 50.305132223703254, 21.78280860336448, 21.01630376596616, 381.03831866262243, 19.96999824013585, 57.637389587575534, 19.115209918780522, 18.45167719020114, 18.169016213859678, 17.8742181987609, 17.49291565925856, 80.25789280388027, 15.492869803029189, 209.90413974598266, 314.90048129476304, 84.46659019699509, 222.94603407162046, 143.0973996334016, 24.87797847254245, 78.60887403726268, 83.70174921000265, 70.77436406911131, 110.11629876460462, 166.8803029271793, 107.69782766877957, 60.169937336804644, 196.09571616585464, 158.7819767454071, 200.60689249355195, 155.54993512344896, 293.505723068658, 271.56773338173684, 167.4082981226436, 143.49817480370226, 110.08969111073456, 201.1204885811013, 158.595374352718, 82.20775804807836, 95.39575727539432, 89.8843173368192, 103.34852968413433, 102.71735483456983, 89.95133876595646, 85.05074470385267, 40.56260822005152, 27.75198204074901, 24.80127637890065, 19.856259881195452, 17.96869126352242, 13.40425152128839, 28.274507757225138, 10.722974429402472, 10.075284286603358, 10.075586360758837, 9.601589936196783, 8.746255637175377, 8.556461366451256, 8.55163249530866, 8.076099268480602, 7.700655615980047, 7.86097230389257, 40.891735273826896, 7.510852175147634, 7.320814087426589, 7.2257125125914445, 7.221980817935002, 7.128121523064267, 7.041184581117229, 6.8505250837049125, 6.8491581981513665, 26.010578476222413, 6.65308995510156, 6.653420079000049, 10.955848790043067, 13.922762888005447, 38.81138940314438, 42.99525886292486, 16.458542726395795, 16.918141002104168, 80.61426232145433, 270.63367322900024, 15.124301679531385, 19.212140686448617, 86.26040803773553, 37.392335642947714, 72.34442132033925, 30.707443212873635, 628.3321261876373, 81.38626892526855, 43.20695674643006, 61.63045517378769, 27.714919699544197, 159.2230284326089, 19.02660026713541, 34.895293578488825, 314.15197780748315, 24.317025615596332, 99.92050342267993, 222.0487737782492, 34.59971401735201, 35.99166093743945, 29.914300048866, 51.18921883618346, 68.51122543231, 237.19099169170934, 93.0097372005185, 121.44410691616854, 95.53385158232598, 49.39271478802483, 141.92425133903876, 73.30035656207994, 49.339031895251026, 81.60038771736266, 55.63969031490009, 71.63591933469701, 87.6636029047695, 53.88471714777485, 63.56104562421864, 60.91118208683006, 64.03607449509067, 57.17106819213932, 52.925161331513486, 50.6797017274458, 93.769972667319, 73.47208257241961, 46.89271577517103, 47.52037744707679, 33.41361859005552, 27.798070388538243, 16.29413356333827, 13.95455200948305, 12.172399644826571, 11.983302532778556, 11.501101527196878, 10.301972663442736, 9.836447383205204, 9.458513515356932, 12.381233053003573, 8.238875595972473, 7.863862888294108, 7.888868167068372, 6.933345042552933, 6.747567472663862, 6.55825247382694, 6.723701021661273, 50.09815911665782, 26.15676983067103, 6.368861768563364, 14.19111797429206, 5.900911112925595, 270.91564720218497, 5.058628645824791, 4.872576409326824, 11.739287794186101, 28.290542540418976, 60.24105872896448, 285.3643627559101, 123.25057961177399, 39.05149095494459, 127.94504280366132, 42.38378872353166, 201.1997925366384, 27.877920357177604, 35.254857974217025, 22.165028462969318, 213.91473490208608, 527.4368806700359, 53.24843647759078, 171.6396458352435, 76.72968948836903, 45.68396111624259, 56.469416255025486, 322.5159658505133, 141.80042678022085, 229.8897067891361, 39.921328253224594, 61.77912157185096, 90.83031058533672, 55.76582657668066, 120.51045012647957, 156.89843019289972, 130.0260462875334, 75.24856157132258, 87.33388497676079, 53.009019519543884, 76.47121666878392, 55.68266029725422, 47.76898258022196, 56.709560708483245, 44.29578208120845, 42.08742302739966, 24.649267493826233, 23.789485609253873, 23.39960024747775, 23.011700168833524, 146.6627929435797, 14.251949287795341, 12.132213997205762, 11.656718220278991, 11.460845872706244, 29.55240515871213, 45.43600843014933, 10.401252561737968, 9.730511037307043, 9.536649162818703, 9.536527936172266, 9.252833967930433, 8.67140342011053, 97.97911006042084, 18.401866439070606, 7.417744353475815, 7.416447070921741, 26.662110008141426, 7.133217542429242, 6.940162533607118, 15.770794792253914, 6.937530970756228, 40.02799956778426, 82.14598430506217, 55.67295637792102, 48.03603346050203, 20.389608740085322, 13.978630431242031, 108.85739734774651, 18.942342060045377, 348.2278178832219, 85.93692101754245, 46.40264766762537, 28.98003905786441, 164.49386607946218, 68.04872336686384, 50.734466189064584, 19.992948855457037, 153.48304815451283, 33.16967918987005, 118.83305936440273, 80.04861847948418, 88.9012683309935, 49.95668547176033, 91.00012666125748, 62.28109959377503, 71.68741200639616, 36.02828538018785, 48.84227567539432, 53.86355579190671, 84.1432704493327, 50.15189185996369, 54.11593392606714, 62.86012213957254, 60.35023305677544, 53.441290320555794, 54.34164219801155, 39.59875074643183, 20.835750514290076, 12.82516578784376, 11.411654946165212, 10.183207584915591, 9.337441998983806, 8.01716442651678, 7.826850286479609, 7.7520532779135145, 6.7852703373656365, 13.952769829566414, 6.114794642539589, 5.946973316909555, 5.944992529153151, 5.758700881712567, 5.758675990861131, 5.757088871570863, 5.375645088600778, 5.099606201194567, 4.910154070643979, 4.906721098212987, 4.901889652944719, 4.718094950916641, 18.65028004634523, 4.061970141988436, 4.060812717396647, 4.056833783790073, 3.8727207408725723, 3.8694908253875084, 3.865904250202259, 28.806570140499677, 8.001008953889807, 187.75350548606525, 120.29939241690654, 94.90756936396761, 11.862398134646002, 37.09217388446572, 12.543787812804462, 55.223917233331356, 17.9261278854192, 426.82010382868594, 275.9222252955735, 75.81063739909084, 109.16277482888843, 10.917250584175521, 15.519793032411151, 17.26256398702357, 172.22760895487295, 52.45373315420666, 16.428994263273168, 197.80528020508345, 66.7253718212547, 91.2661478426005, 26.993698687973747, 17.94853751198075, 35.81943914828685, 28.345848340682554, 61.182834228795905, 27.12473199020333, 27.873053167874012, 39.73889672037672, 47.16195909956532, 47.61565905918778, 21.807645249696083, 22.158014114692755, 43.79867319232673, 34.53939436205458, 35.50561529337792, 45.91512132923871, 34.66537089130816, 45.10616341737956, 37.35296450527757, 36.91553530222558, 31.903626120865177, 31.089079557836172, 51.65859170826953, 188.97125730348003, 14.18858096701173, 10.130977048307996, 9.030127799253565, 8.933051461233923, 7.82050137002845, 7.647754028938655, 7.462768250864591, 7.092837769377876, 5.99607665721252, 5.991405018515697, 5.989847201577617, 5.624855948126063, 5.62443070457259, 5.619890142368811, 4.783139791489094, 4.421690925565019, 9.461160463829998, 9.226285281193384, 3.9669494227845945, 3.7837748560671924, 3.7806867059718328, 3.7782684352810216, 3.772758088240451, 3.774673194328928, 34.99324369220029, 20.555956858398705, 3.1398017841084918, 3.1379809081256145, 279.4461723867564, 69.6046138410683, 353.0431515034186, 15.697382545162165, 136.68770737331084, 348.8415905610813, 388.34261887725086, 59.47397384659956, 55.405040569814936, 33.551312870911836, 109.18875311037635, 30.881203766338846, 26.890930882320593, 113.40510093082305, 15.020497494685948, 37.86960800099068, 40.490487915779454, 16.31481443939665, 14.128301485228588, 89.26855710982946, 50.71007146530765, 116.48883187584559, 59.93348816463251, 32.68797181109855, 39.92355852583305, 38.50257094955316, 29.553595808551243, 35.18946459824965, 48.17398173246231, 60.49461636269317, 38.34547728273647, 33.575244901577484, 36.356081628699236, 31.10467650215881, 61.20630723658362, 21.564272347898772, 16.337307525031097, 340.4249163186164, 12.923485391284137, 14.507581344147555, 12.540717354994692, 11.967771788625557, 9.596093754970992, 8.550380916892333, 8.268800228965693, 7.310249937138543, 6.654304854852771, 6.370746839413116, 6.181102431841967, 6.173923678660286, 5.800768258945049, 91.66308689807198, 5.416715158698453, 5.321379227719482, 5.135573103283504, 5.130978402857765, 4.942098369629548, 4.751473255354257, 9.072345648750868, 4.281079671828741, 8.855160888308562, 4.090112404301701, 3.8983389879068047, 3.2383877784125086, 352.63943729575107, 12.23065589007036, 21.005945875989543, 29.120822397403526, 19.9165697076826, 79.82485492733751, 28.381667931944953, 23.470042088983526, 16.376121031842146, 17.45531814090955, 46.88064101826494, 17.945068746263303, 126.88048346271496, 16.1542406158722, 48.22137649229571, 136.18574695369932, 29.349832332293634, 95.34930280547296, 21.363820273951156, 98.56867845054573, 43.7244761971897, 44.03658361920371, 34.87088682672348, 30.581494521750862, 53.07626855188573, 31.3769431434376, 25.3820322557556, 42.09462520395722, 36.35920175099118, 23.778055607555093, 28.38535403645362, 27.731162986898834, 28.760692175096075, 23.113673563182225, 21.700146974104953, 28.338664269711842, 16.381971876868345, 12.565474447289317, 9.958072721742575, 9.827604139086304, 6.705047743562217, 13.979438390373515, 6.515402248862694, 13.684037219427832, 5.841032348031689, 5.6541488964872, 11.781253806076462, 5.269065271183314, 5.180616030397317, 5.179543946581973, 5.176452454396504, 5.173862536729771, 4.985356368972471, 4.984892010775529, 4.792786855535556, 4.600186892380808, 4.407057442465977, 4.319735264152521, 4.319284439163504, 4.319132613487091, 4.319383823659207, 4.125602242287469, 4.124752610577399, 4.124149536999221, 4.1234716078647065, 10.301732466324907, 11.902946949218574, 10.169902950446636, 20.146096637601385, 11.579397551613456, 9.47349929546201, 21.675499690115146, 23.920379762533464, 37.20707861396817, 35.03962033244035, 21.081762333754952, 13.108625518249683, 14.896707382003427, 11.645764403279852, 84.42092243179468, 9.630015920072786, 18.11202503668876, 17.673214153008097, 130.59436029072862, 27.85943476891084, 19.368221379254575, 68.27205667814019, 26.614396556279555, 23.24599294519255, 19.45669810936917, 71.95626953772445, 35.83973403471065, 25.184589455842136, 57.86478971893615, 45.02121038625537, 45.99379467362956, 61.02865073378695, 62.295825891282284, 22.36263478932183, 31.804314129649132, 35.65286749967607, 25.443068652265215, 26.86923531977069, 27.280729423253835, 24.06870879634934, 18.692447879132356, 13.0056823361942, 9.446949144436118, 9.062646970917719, 9.062459807328615, 8.39077441695188, 8.194157889467716, 7.809142375477635, 7.614820073371871, 7.1384228198484525, 6.747616417326286, 6.075071722420958, 5.884303174249203, 5.68908036808265, 5.210161703189026, 16.943927961570882, 5.016835841197584, 4.34581317472441, 4.151993801193771, 3.9550821084896826, 3.955434364489932, 3.764082254372902, 3.763481918332377, 7.541398975615654, 19.76482343980433, 3.286574673456885, 3.286574673456885, 3.286574673456885, 3.285496717125295, 3.2847074518014283, 17.075471005085856, 14.772926852572597, 24.470294993583583, 15.360574614311751, 9.437132473044041, 12.748977468136186, 11.274169585521955, 20.299437986575295, 31.972532048155653, 15.016259529610288, 16.002495108373353, 25.33932025751684, 21.377213040223523, 20.17408075853671, 77.57706642941989, 25.01080695910559, 33.9171099452577, 12.37571323785701, 13.94298935052498, 12.257485883146781, 41.59678985359611, 13.430490712635162, 15.555449578713647, 25.7326698483048, 18.681620642072062, 23.444332471621145, 25.43763646688299, 17.59107726483251, 24.168942781052873, 21.43511133137895, 23.913411511097614, 15.287040512124378, 19.12578573586674, 17.315933840423938, 15.56514324007389, 17.20345205476038, 17.240815321941373, 15.998733002519398], \"Total\": [506.0, 864.0, 360.0, 1111.0, 691.0, 1251.0, 576.0, 1057.0, 1228.0, 626.0, 424.0, 581.0, 406.0, 600.0, 375.0, 396.0, 312.0, 244.0, 198.0, 377.0, 305.0, 332.0, 297.0, 335.0, 152.0, 481.0, 385.0, 279.0, 300.0, 158.0, 305.506012027189, 135.26786414061587, 117.02245768466115, 576.85485073205, 73.38301793890874, 63.301565492142096, 59.20451399777771, 56.35925356911318, 52.83752032167051, 49.801735327028304, 50.84705851869441, 57.036144144746885, 127.49781733957435, 35.83052201263825, 29.080628132115287, 28.798575109000968, 26.89928850091376, 52.17851589185208, 22.62526733579887, 21.858760084754238, 396.7534072626149, 20.8124496027565, 60.147636801155514, 19.95767236332924, 19.294162028174576, 19.011736780778538, 18.71789898980394, 18.335482642796546, 84.23268104765725, 16.336422033731907, 221.53995044032203, 335.75551949205953, 91.51678091813895, 253.32696810071636, 161.9371572301726, 26.49001590793376, 92.76690262772739, 99.73434021453123, 85.23134979390183, 149.16960586464643, 247.4867388772661, 156.80377687576225, 75.21846221551412, 350.3331223034898, 332.4821731128576, 543.7370414992176, 392.0076525699599, 1251.4727926604817, 1228.382817073863, 490.2572909140182, 385.4088521765242, 241.49643338158575, 1057.5531119363513, 750.7351502964128, 132.66438854315155, 254.99163400975405, 213.9604566362865, 481.66505514482327, 600.6529958636769, 425.4016623684295, 177.31395422205455, 41.42441956290338, 28.595085255009437, 25.644187181109135, 20.69887273856993, 18.811522027364163, 14.246925045031992, 30.39886137643914, 11.579607373717982, 10.917863011461076, 10.91834572902189, 10.444420582751732, 9.589020081393969, 9.399393618940843, 9.395069155566555, 8.919612682289921, 8.543376066189836, 8.732402586712114, 45.45135480510738, 8.35384232420492, 8.163410965825573, 8.068811940561343, 8.065573657339206, 7.97083603265259, 7.883743566987165, 7.693008634211681, 7.691730949743866, 29.288063724131643, 7.495951163942517, 7.496498690596537, 12.34574176837877, 15.76266008984855, 46.70875912891584, 51.971980123519295, 19.180585974691432, 19.780231967800837, 103.28063506761823, 377.58059182747934, 17.595628673144937, 22.84948039338548, 115.03301223263622, 46.94335526046934, 96.26278502037593, 38.58268889580153, 1111.3644843361392, 114.96600372292545, 59.40307488969644, 89.89862431502529, 36.040568252056346, 283.9882924293191, 23.28858444478654, 49.09499630201086, 750.7351502964128, 31.667982953195942, 192.32354113333326, 543.7370414992176, 49.79408640438054, 52.50919015881742, 42.24143155937767, 93.5493645318294, 160.95774960167333, 1228.382817073863, 300.4442391105146, 481.66505514482327, 339.2014472368702, 102.56185527533405, 1057.5531119363513, 287.1985446795144, 114.09428114679876, 392.0076525699599, 157.02347995753013, 297.85380875527045, 864.6578294734431, 177.23441867374106, 385.4088521765242, 367.679025794508, 600.6529958636769, 581.427654050649, 490.2572909140182, 350.3331223034898, 94.61412374727995, 74.3162561765414, 47.73683207985905, 48.389834333247535, 34.25788302304049, 28.642596935807134, 17.13822908869901, 14.798825530193536, 13.016591210072045, 12.827492576424614, 12.364113825259073, 11.146072893296102, 10.68060039111115, 10.302673113786485, 13.582990522628876, 9.083245716237968, 8.707987106473983, 8.8003360621346, 7.777570127873039, 7.591635684697259, 7.402354995392344, 7.59113279008188, 56.7161274552628, 29.62377257993215, 7.213091012514573, 16.209928292605476, 6.745482608339168, 312.06218875402243, 5.903244067522669, 5.716978754913087, 13.835923351411633, 33.73361211675838, 73.04803337572766, 375.44758959432403, 158.5010283696559, 47.88660669376278, 171.34848346258462, 54.022036693126964, 297.85380875527045, 34.9537850154576, 45.61068364165698, 27.363961527411902, 406.28554201939335, 1251.4727926604817, 81.75854508916068, 385.4088521765242, 137.77136732514595, 77.58897567766235, 103.49289662279017, 1111.3644843361392, 425.4016623684295, 864.6578294734431, 69.24680947158056, 140.49002855927577, 325.2363989296972, 136.90110750524673, 691.7368154798156, 1228.382817073863, 1057.5531119363513, 283.9882924293191, 600.6529958636769, 129.1859979491037, 626.8631408516236, 244.90981360123232, 184.70399797520733, 57.55179240456702, 45.136917275653026, 42.928536468513215, 25.49429580146141, 24.63067211454505, 24.242046593971978, 23.85298832153265, 152.86097806170784, 15.093255055225777, 12.973516757763596, 12.497848411060724, 12.3020880928976, 31.740806849021503, 48.88313725419039, 11.24253990743063, 10.571707428568844, 10.37785765913754, 10.377753430697048, 10.094124436118697, 9.512621623273594, 108.71518514001016, 20.45790900789222, 8.25888977033052, 8.257679554178628, 29.792240593455322, 7.974393483738479, 7.781302793853714, 17.682481812737525, 7.77894520742401, 45.112277068677336, 92.88137215739259, 65.03481182842329, 56.477971629485324, 23.4341980447163, 16.130640570412428, 149.35241305793312, 22.78458535043945, 626.8631408516236, 129.3566362331632, 66.21588121746984, 38.18413384143061, 332.4821731128576, 121.97997631985129, 83.60246086009153, 25.238744790695375, 506.90462574963686, 54.69295777827313, 392.0076525699599, 278.09949825410723, 339.2014472368702, 132.208431862729, 490.2572909140182, 232.15119578464592, 367.679025794508, 73.13113769031973, 173.04077712129236, 254.99163400975405, 1057.5531119363513, 210.89283050089145, 325.2363989296972, 864.6578294734431, 691.7368154798156, 581.427654050649, 750.7351502964128, 40.61796317514955, 21.679567802925263, 13.669726669232876, 12.255083436467682, 11.026757716040553, 10.180818139404177, 8.860937272997623, 8.670591137195458, 8.66877027131521, 7.629429976539742, 15.825874734849739, 6.960837019296037, 6.790396387266038, 6.788453292607716, 6.601999209503221, 6.601974632121393, 6.600578992180383, 6.21914687446092, 5.943031775517767, 5.753544101317497, 5.750269306411947, 5.74585952330106, 5.561585452234483, 22.505732700133116, 4.90534896774343, 4.904397368037833, 4.900609597749841, 4.716073679776011, 4.713135056746061, 4.709865651783419, 35.57676574222648, 9.803631879085936, 244.90981360123232, 158.6128489800127, 125.51905314790784, 14.738083494120177, 50.80929760457505, 15.859683117095239, 79.02130506831152, 24.216348042246842, 864.6578294734431, 581.427654050649, 138.67641301857424, 241.41146798057926, 14.437024066534835, 22.674626740957773, 26.86414234103958, 600.6529958636769, 129.1063842159313, 26.898972628037097, 1251.4727926604817, 255.3393954609128, 425.4016623684295, 62.35242918766811, 34.29596655267351, 137.79358460009328, 87.37290430133433, 481.66505514482327, 83.29962007199003, 88.65707988850536, 210.89283050089145, 339.2014472368702, 375.44758959432403, 52.56531813792033, 55.673009623553426, 424.45780148874786, 232.15119578464592, 254.99163400975405, 626.8631408516236, 278.09949825410723, 1228.382817073863, 543.7370414992176, 750.7351502964128, 300.4442391105146, 490.2572909140182, 52.50513399390166, 198.7013288527492, 15.034531427357498, 10.977077337823674, 9.876510814920355, 9.7790049465812, 8.675572425915933, 8.493859524283115, 8.308803391183323, 7.938709524990961, 6.841862075326618, 6.837462663789124, 6.836030704229507, 6.470643067965466, 6.470240633037491, 6.465974944778294, 5.630267992704807, 5.267720140957794, 11.382394063202463, 11.190666632239587, 4.812922280763663, 4.629540578900487, 4.626635213362708, 4.624460531795142, 4.619084743648772, 4.621564351962373, 43.07406746008508, 25.68693285303876, 3.9856186017828676, 3.984013941318871, 424.45780148874786, 112.15819902737746, 691.7368154798156, 22.63362808360593, 279.34218790721, 1057.5531119363513, 1228.382817073863, 130.54884278026566, 129.1859979491037, 70.01671396092371, 367.679025794508, 65.81464906619627, 56.478709522390176, 481.66505514482327, 27.45655630904172, 116.38938401509091, 137.77136732514595, 32.7264592019508, 25.675181593045696, 750.7351502964128, 265.73702459797914, 1251.4727926604817, 406.28554201939335, 137.79358460009328, 213.9604566362865, 199.41069633000535, 116.66074970903722, 184.70399797520733, 377.58059182747934, 1111.3644843361392, 287.1985446795144, 190.59955043132544, 490.2572909140182, 177.23441867374106, 62.092045148806164, 22.40697052828716, 17.180083256379806, 360.40982797187564, 13.766237689557904, 15.471880868931477, 13.383421891665025, 12.810391797922147, 10.438897811450099, 9.3932620775903, 9.111738133693887, 8.156339558223463, 7.4969040245581215, 7.213587955861406, 7.0238556519683994, 7.01717693102842, 6.643322698970486, 105.27779564174705, 6.259388830553402, 6.164434004017816, 5.978341382249906, 5.973964420521136, 5.7853897488360255, 5.594304315705558, 10.834552202158601, 5.12389479710037, 10.64159832806799, 4.933009375444246, 4.741229990452125, 4.081061959399566, 506.90462574963686, 16.161246397385682, 29.403880114091994, 42.43219351768746, 30.64446454399144, 173.04077712129236, 49.60739000628646, 41.21276674444618, 27.28814056643479, 30.65946809694916, 127.78332778591815, 32.638986766737354, 626.8631408516236, 30.076638694218552, 184.70399797520733, 1057.5531119363513, 86.7958245663728, 691.7368154798156, 55.96448786425394, 1251.4727926604817, 339.2014472368702, 350.3331223034898, 300.4442391105146, 210.89283050089145, 1228.382817073863, 241.49643338158575, 123.0849170310657, 750.7351502964128, 490.2572909140182, 114.09428114679876, 255.3393954609128, 254.99163400975405, 1111.3644843361392, 425.4016623684295, 232.15119578464592, 29.186494997797038, 17.223880752142875, 13.484024276576145, 10.799861915870395, 10.709546820200309, 7.548740529972881, 15.768442818954956, 7.357168800384326, 15.572518325677182, 6.683256625684354, 6.495957952027493, 13.636214354055625, 6.110794798788795, 6.0223228759469025, 6.021348006436858, 6.018542118546624, 6.015950856543295, 5.827243641487485, 5.826836958209391, 5.6346170585697495, 5.441974947139504, 5.249085621530797, 5.161446823599893, 5.161022716295725, 5.160870029866407, 5.161181290399517, 4.967446691061711, 4.966531248458093, 4.965982838376934, 4.965446045411802, 12.41108559152314, 15.130236942397769, 13.081591519285313, 28.039632722174975, 15.377040022225158, 12.571144799180988, 34.634455585852635, 40.08297543244208, 79.29556424820872, 73.61004911545884, 38.63233612224735, 20.911293229879966, 24.856329868546894, 18.252856458191886, 300.4442391105146, 14.339696604076481, 35.052935226477054, 34.23870684356112, 600.6529958636769, 73.43297569690311, 42.27128917204625, 325.2363989296972, 71.83661376996132, 58.83927247997079, 45.902144667239945, 581.427654050649, 157.02347995753013, 79.23166339837526, 481.66505514482327, 287.1985446795144, 377.58059182747934, 1111.3644843361392, 1228.382817073863, 79.78537819694834, 232.15119578464592, 367.679025794508, 124.36493294766585, 161.85751113192512, 255.3393954609128, 543.7370414992176, 19.53466259916294, 13.846805412180126, 10.288625352366871, 9.9038327373677, 9.90368650208577, 9.232001229527048, 9.035762658548153, 8.650285832262933, 8.455973469990244, 7.979494056337454, 7.588945356085668, 6.916506461394208, 6.72535810866223, 6.530238206826383, 6.051394754764183, 19.685787876351064, 5.858006880945467, 5.1869127625241225, 4.993075737980631, 4.796352970640479, 4.79718607915409, 4.605215985949197, 4.604553679679495, 9.308328639860353, 24.72864230931164, 4.127613235253932, 4.127613235253932, 4.127613235253932, 4.126622615807961, 4.125838004839609, 22.113898970549364, 20.765892015289978, 37.28813209884683, 23.292320259564956, 13.90101254809262, 20.294629273524315, 18.205352723942887, 38.374463705719506, 70.34740822602824, 27.140017402716484, 31.478970519206385, 61.785918632474306, 48.44875450554264, 44.81304660249944, 406.28554201939335, 82.33850800594158, 157.02347995753013, 24.658632684366175, 31.732287700534783, 25.147830929910185, 490.2572909140182, 32.27378226714754, 49.87579330284247, 213.9604566362865, 93.5493645318294, 190.59955043132544, 350.3331223034898, 104.838530849099, 543.7370414992176, 339.2014472368702, 626.8631408516236, 76.4600307033156, 600.6529958636769, 279.34218790721, 99.7026251284268, 750.7351502964128, 1251.4727926604817, 367.679025794508], \"Category\": [\"Default\", \"Default\", \"Default\", \"Default\", \"Default\", \"Default\", \"Default\", \"Default\", \"Default\", \"Default\", \"Default\", \"Default\", \"Default\", \"Default\", \"Default\", \"Default\", \"Default\", \"Default\", \"Default\", \"Default\", \"Default\", \"Default\", \"Default\", \"Default\", \"Default\", \"Default\", \"Default\", \"Default\", \"Default\", \"Default\", \"Topic1\", \"Topic1\", \"Topic1\", \"Topic1\", \"Topic1\", \"Topic1\", \"Topic1\", \"Topic1\", \"Topic1\", \"Topic1\", \"Topic1\", \"Topic1\", \"Topic1\", \"Topic1\", \"Topic1\", \"Topic1\", \"Topic1\", \"Topic1\", \"Topic1\", \"Topic1\", \"Topic1\", \"Topic1\", \"Topic1\", \"Topic1\", \"Topic1\", \"Topic1\", \"Topic1\", \"Topic1\", \"Topic1\", \"Topic1\", \"Topic1\", \"Topic1\", \"Topic1\", \"Topic1\", \"Topic1\", \"Topic1\", \"Topic1\", \"Topic1\", \"Topic1\", \"Topic1\", \"Topic1\", \"Topic1\", \"Topic1\", \"Topic1\", \"Topic1\", \"Topic1\", \"Topic1\", \"Topic1\", \"Topic1\", \"Topic1\", \"Topic1\", \"Topic1\", \"Topic1\", \"Topic1\", \"Topic1\", \"Topic1\", \"Topic1\", \"Topic1\", \"Topic1\", \"Topic1\", \"Topic1\", \"Topic2\", \"Topic2\", \"Topic2\", \"Topic2\", \"Topic2\", \"Topic2\", \"Topic2\", \"Topic2\", \"Topic2\", \"Topic2\", \"Topic2\", \"Topic2\", \"Topic2\", \"Topic2\", \"Topic2\", \"Topic2\", \"Topic2\", \"Topic2\", \"Topic2\", \"Topic2\", \"Topic2\", \"Topic2\", \"Topic2\", \"Topic2\", \"Topic2\", \"Topic2\", \"Topic2\", \"Topic2\", \"Topic2\", \"Topic2\", \"Topic2\", \"Topic2\", \"Topic2\", \"Topic2\", \"Topic2\", \"Topic2\", \"Topic2\", \"Topic2\", \"Topic2\", \"Topic2\", \"Topic2\", \"Topic2\", \"Topic2\", \"Topic2\", \"Topic2\", \"Topic2\", \"Topic2\", \"Topic2\", \"Topic2\", \"Topic2\", \"Topic2\", \"Topic2\", \"Topic2\", \"Topic2\", \"Topic2\", \"Topic2\", \"Topic2\", \"Topic2\", \"Topic2\", \"Topic2\", \"Topic2\", \"Topic2\", \"Topic2\", \"Topic2\", \"Topic2\", \"Topic2\", \"Topic2\", \"Topic2\", \"Topic2\", \"Topic2\", \"Topic2\", \"Topic2\", \"Topic2\", \"Topic2\", \"Topic2\", \"Topic2\", \"Topic2\", \"Topic2\", \"Topic2\", \"Topic3\", \"Topic3\", \"Topic3\", \"Topic3\", \"Topic3\", \"Topic3\", \"Topic3\", \"Topic3\", \"Topic3\", \"Topic3\", \"Topic3\", \"Topic3\", \"Topic3\", \"Topic3\", \"Topic3\", \"Topic3\", \"Topic3\", \"Topic3\", \"Topic3\", \"Topic3\", \"Topic3\", \"Topic3\", \"Topic3\", \"Topic3\", \"Topic3\", \"Topic3\", \"Topic3\", \"Topic3\", \"Topic3\", \"Topic3\", \"Topic3\", \"Topic3\", \"Topic3\", \"Topic3\", \"Topic3\", \"Topic3\", \"Topic3\", \"Topic3\", \"Topic3\", \"Topic3\", \"Topic3\", \"Topic3\", \"Topic3\", \"Topic3\", \"Topic3\", \"Topic3\", \"Topic3\", \"Topic3\", \"Topic3\", \"Topic3\", \"Topic3\", \"Topic3\", \"Topic3\", \"Topic3\", \"Topic3\", \"Topic3\", \"Topic3\", \"Topic3\", \"Topic3\", \"Topic3\", \"Topic3\", \"Topic3\", \"Topic3\", \"Topic3\", \"Topic3\", \"Topic4\", \"Topic4\", \"Topic4\", \"Topic4\", \"Topic4\", \"Topic4\", \"Topic4\", \"Topic4\", \"Topic4\", \"Topic4\", \"Topic4\", \"Topic4\", \"Topic4\", \"Topic4\", \"Topic4\", \"Topic4\", \"Topic4\", \"Topic4\", \"Topic4\", \"Topic4\", \"Topic4\", \"Topic4\", \"Topic4\", \"Topic4\", \"Topic4\", \"Topic4\", \"Topic4\", \"Topic4\", \"Topic4\", \"Topic4\", \"Topic4\", \"Topic4\", \"Topic4\", \"Topic4\", \"Topic4\", \"Topic4\", \"Topic4\", \"Topic4\", \"Topic4\", \"Topic4\", \"Topic4\", \"Topic4\", \"Topic4\", \"Topic4\", \"Topic4\", \"Topic4\", \"Topic4\", \"Topic4\", \"Topic4\", \"Topic4\", \"Topic4\", \"Topic4\", \"Topic4\", \"Topic4\", \"Topic4\", \"Topic4\", \"Topic4\", \"Topic4\", \"Topic4\", \"Topic4\", \"Topic4\", \"Topic4\", \"Topic4\", \"Topic4\", \"Topic5\", \"Topic5\", \"Topic5\", \"Topic5\", \"Topic5\", \"Topic5\", \"Topic5\", \"Topic5\", \"Topic5\", \"Topic5\", \"Topic5\", \"Topic5\", \"Topic5\", \"Topic5\", \"Topic5\", \"Topic5\", \"Topic5\", \"Topic5\", \"Topic5\", \"Topic5\", \"Topic5\", \"Topic5\", \"Topic5\", \"Topic5\", \"Topic5\", \"Topic5\", \"Topic5\", \"Topic5\", \"Topic5\", \"Topic5\", \"Topic5\", \"Topic5\", \"Topic5\", \"Topic5\", \"Topic5\", \"Topic5\", \"Topic5\", \"Topic5\", \"Topic5\", \"Topic5\", \"Topic5\", \"Topic5\", \"Topic5\", \"Topic5\", \"Topic5\", \"Topic5\", \"Topic5\", \"Topic5\", \"Topic5\", \"Topic5\", \"Topic5\", \"Topic5\", \"Topic5\", \"Topic5\", \"Topic5\", \"Topic5\", \"Topic5\", \"Topic5\", \"Topic5\", \"Topic5\", \"Topic5\", \"Topic5\", \"Topic5\", \"Topic5\", \"Topic5\", \"Topic5\", \"Topic5\", \"Topic5\", \"Topic5\", \"Topic5\", \"Topic5\", \"Topic5\", \"Topic5\", \"Topic5\", \"Topic5\", \"Topic6\", \"Topic6\", \"Topic6\", \"Topic6\", \"Topic6\", \"Topic6\", \"Topic6\", \"Topic6\", \"Topic6\", \"Topic6\", \"Topic6\", \"Topic6\", \"Topic6\", \"Topic6\", \"Topic6\", \"Topic6\", \"Topic6\", \"Topic6\", \"Topic6\", \"Topic6\", \"Topic6\", \"Topic6\", \"Topic6\", \"Topic6\", \"Topic6\", \"Topic6\", \"Topic6\", \"Topic6\", \"Topic6\", \"Topic6\", \"Topic6\", \"Topic6\", \"Topic6\", \"Topic6\", \"Topic6\", \"Topic6\", \"Topic6\", \"Topic6\", \"Topic6\", \"Topic6\", \"Topic6\", \"Topic6\", \"Topic6\", \"Topic6\", \"Topic6\", \"Topic6\", \"Topic6\", \"Topic6\", \"Topic6\", \"Topic6\", \"Topic6\", \"Topic6\", \"Topic6\", \"Topic6\", \"Topic6\", \"Topic6\", \"Topic6\", \"Topic6\", \"Topic6\", \"Topic6\", \"Topic6\", \"Topic6\", \"Topic6\", \"Topic6\", \"Topic7\", \"Topic7\", \"Topic7\", \"Topic7\", \"Topic7\", \"Topic7\", \"Topic7\", \"Topic7\", \"Topic7\", \"Topic7\", \"Topic7\", \"Topic7\", \"Topic7\", \"Topic7\", \"Topic7\", \"Topic7\", \"Topic7\", \"Topic7\", \"Topic7\", \"Topic7\", \"Topic7\", \"Topic7\", \"Topic7\", \"Topic7\", \"Topic7\", \"Topic7\", \"Topic7\", \"Topic7\", \"Topic7\", \"Topic7\", \"Topic7\", \"Topic7\", \"Topic7\", \"Topic7\", \"Topic7\", \"Topic7\", \"Topic7\", \"Topic7\", \"Topic7\", \"Topic7\", \"Topic7\", \"Topic7\", \"Topic7\", \"Topic7\", \"Topic7\", \"Topic7\", \"Topic7\", \"Topic7\", \"Topic7\", \"Topic7\", \"Topic7\", \"Topic7\", \"Topic7\", \"Topic7\", \"Topic7\", \"Topic7\", \"Topic7\", \"Topic7\", \"Topic7\", \"Topic7\", \"Topic7\", \"Topic7\", \"Topic7\", \"Topic7\", \"Topic7\", \"Topic8\", \"Topic8\", \"Topic8\", \"Topic8\", \"Topic8\", \"Topic8\", \"Topic8\", \"Topic8\", \"Topic8\", \"Topic8\", \"Topic8\", \"Topic8\", \"Topic8\", \"Topic8\", \"Topic8\", \"Topic8\", \"Topic8\", \"Topic8\", \"Topic8\", \"Topic8\", \"Topic8\", \"Topic8\", \"Topic8\", \"Topic8\", \"Topic8\", \"Topic8\", \"Topic8\", \"Topic8\", \"Topic8\", \"Topic8\", \"Topic8\", \"Topic8\", \"Topic8\", \"Topic8\", \"Topic8\", \"Topic8\", \"Topic8\", \"Topic8\", \"Topic8\", \"Topic8\", \"Topic8\", \"Topic8\", \"Topic8\", \"Topic8\", \"Topic8\", \"Topic8\", \"Topic8\", \"Topic8\", \"Topic8\", \"Topic8\", \"Topic8\", \"Topic8\", \"Topic8\", \"Topic8\", \"Topic8\", \"Topic8\", \"Topic8\", \"Topic8\", \"Topic8\", \"Topic8\", \"Topic8\", \"Topic8\", \"Topic8\", \"Topic8\", \"Topic8\", \"Topic8\", \"Topic8\", \"Topic8\", \"Topic8\", \"Topic8\", \"Topic9\", \"Topic9\", \"Topic9\", \"Topic9\", \"Topic9\", \"Topic9\", \"Topic9\", \"Topic9\", \"Topic9\", \"Topic9\", \"Topic9\", \"Topic9\", \"Topic9\", \"Topic9\", \"Topic9\", \"Topic9\", \"Topic9\", \"Topic9\", \"Topic9\", \"Topic9\", \"Topic9\", \"Topic9\", \"Topic9\", \"Topic9\", \"Topic9\", \"Topic9\", \"Topic9\", \"Topic9\", \"Topic9\", \"Topic9\", \"Topic9\", \"Topic9\", \"Topic9\", \"Topic9\", \"Topic9\", \"Topic9\", \"Topic9\", \"Topic9\", \"Topic9\", \"Topic9\", \"Topic9\", \"Topic9\", \"Topic9\", \"Topic9\", \"Topic9\", \"Topic9\", \"Topic9\", \"Topic9\", \"Topic9\", \"Topic9\", \"Topic9\", \"Topic9\", \"Topic9\", \"Topic9\", \"Topic9\", \"Topic9\", \"Topic9\", \"Topic9\", \"Topic9\", \"Topic9\", \"Topic9\", \"Topic9\", \"Topic9\", \"Topic9\", \"Topic9\", \"Topic9\", \"Topic9\", \"Topic9\"], \"logprob\": [30.0, 29.0, 28.0, 27.0, 26.0, 25.0, 24.0, 23.0, 22.0, 21.0, 20.0, 19.0, 18.0, 17.0, 16.0, 15.0, 14.0, 13.0, 12.0, 11.0, 10.0, 9.0, 8.0, 7.0, 6.0, 5.0, 4.0, 3.0, 2.0, 1.0, -3.8955, -4.7136, -4.8594, -3.2653, -5.3304, -5.4801, -5.5479, -5.5979, -5.664, -5.7236, -5.7029, -5.5897, -4.7916, -6.0623, -6.2739, -6.2842, -6.3543, -5.6965, -6.5335, -6.5693, -3.6717, -6.6203, -5.5604, -6.6641, -6.6994, -6.7149, -6.7312, -6.7528, -5.2293, -6.8742, -4.2679, -3.8623, -5.1782, -4.2076, -4.651, -6.4006, -5.2501, -5.1873, -5.3551, -4.913, -4.4973, -4.9352, -5.5174, -4.336, -4.547, -4.3132, -4.5676, -3.9327, -4.0104, -4.4941, -4.6483, -4.9133, -4.3107, -4.5482, -5.2053, -5.0565, -5.116, -4.9765, -4.9826, -5.1153, -5.1713, -5.4314, -5.8109, -5.9233, -6.1457, -6.2456, -6.5387, -5.7923, -6.7618, -6.8241, -6.8241, -6.8723, -6.9656, -6.9875, -6.9881, -7.0453, -7.0929, -7.0723, -5.4233, -7.1179, -7.1435, -7.1566, -7.1571, -7.1702, -7.1825, -7.2099, -7.2101, -5.8757, -7.2391, -7.2391, -6.7404, -6.5007, -5.4755, -5.3731, -6.3334, -6.3058, -4.7446, -3.5335, -6.4179, -6.1787, -4.6769, -5.5128, -4.8528, -5.7097, -2.6912, -4.735, -5.3682, -5.0131, -5.8123, -4.0639, -6.1884, -5.5819, -3.3844, -5.9431, -4.5299, -3.7313, -5.5904, -5.5509, -5.7359, -5.1987, -4.9072, -3.6654, -4.6015, -4.3348, -4.5747, -5.2344, -4.1789, -4.8397, -5.2355, -4.7324, -5.1153, -4.8626, -4.6607, -5.1474, -4.9822, -5.0248, -4.9748, -5.0882, -5.1654, -5.2087, -4.4376, -4.6816, -5.1306, -5.1173, -5.4695, -5.6535, -6.1877, -6.3427, -6.4793, -6.495, -6.536, -6.6462, -6.6924, -6.7316, -6.4623, -6.8696, -6.9162, -6.913, -7.0421, -7.0693, -7.0978, -7.0729, -5.0645, -5.7144, -7.1271, -6.3259, -7.2034, -3.3767, -7.3574, -7.3949, -6.5155, -5.636, -4.8801, -3.3247, -4.1643, -5.3136, -4.1269, -5.2317, -3.6742, -5.6507, -5.4159, -5.88, -3.6129, -2.7105, -5.0035, -3.8331, -4.6382, -5.1567, -4.9448, -3.2023, -4.0241, -3.5409, -5.2916, -4.8549, -4.4695, -4.9573, -4.1868, -3.9229, -4.1108, -4.6577, -4.5088, -5.008, -4.6416, -4.9588, -5.1121, -4.7811, -5.0282, -5.0793, -5.6143, -5.6498, -5.6663, -5.6831, -3.8309, -6.1622, -6.3232, -6.3632, -6.3801, -5.4329, -5.0028, -6.4771, -6.5438, -6.5639, -6.5639, -6.5941, -6.659, -4.2343, -5.9066, -6.8152, -6.8154, -5.5358, -6.8543, -6.8817, -6.0609, -6.8821, -5.1295, -4.4106, -4.7996, -4.9471, -5.804, -6.1815, -4.129, -5.8777, -2.9662, -4.3654, -4.9817, -5.4524, -3.7162, -4.5988, -4.8925, -5.8237, -3.7855, -5.3174, -4.0413, -4.4364, -4.3315, -4.9079, -4.3082, -4.6874, -4.5467, -5.2348, -4.9305, -4.8326, -4.3865, -4.904, -4.8279, -4.6781, -4.7189, -4.8405, -4.8238, -4.9565, -5.5986, -6.0839, -6.2006, -6.3145, -6.4012, -6.5537, -6.5777, -6.5873, -6.7205, -5.9996, -6.8245, -6.8524, -6.8527, -6.8845, -6.8846, -6.8848, -6.9534, -7.0061, -7.044, -7.0447, -7.0456, -7.0839, -5.7094, -7.2336, -7.2339, -7.2349, -7.2813, -7.2821, -7.2831, -5.2747, -6.5557, -3.4001, -3.8453, -4.0824, -6.1619, -5.0219, -6.106, -4.6239, -5.749, -2.5789, -3.0151, -4.307, -3.9424, -6.2449, -5.8931, -5.7867, -3.4864, -4.6753, -5.8362, -3.348, -4.4347, -4.1215, -5.3397, -5.7478, -5.0568, -5.2908, -4.5214, -5.3348, -5.3076, -4.9529, -4.7817, -4.7721, -5.553, -5.5371, -4.8557, -5.0932, -5.0656, -4.8085, -5.0895, -4.8262, -5.0148, -5.0266, -5.1725, -5.1984, -4.6096, -3.3126, -5.9018, -6.2386, -6.3537, -6.3645, -6.4975, -6.5198, -6.5443, -6.5951, -6.7631, -6.7639, -6.7642, -6.827, -6.8271, -6.8279, -6.9891, -7.0677, -6.307, -6.3322, -7.1762, -7.2235, -7.2243, -7.225, -7.2264, -7.2259, -4.9991, -5.5311, -7.4101, -7.4107, -2.9214, -4.3114, -2.6876, -5.8007, -3.6365, -2.6996, -2.5923, -4.4687, -4.5396, -5.0412, -3.8612, -5.1241, -5.2624, -3.8233, -5.8448, -4.9201, -4.8532, -5.7622, -5.9061, -4.0626, -4.6281, -3.7964, -4.461, -5.0672, -4.8673, -4.9035, -5.168, -4.9935, -4.6794, -4.4517, -4.9076, -5.0404, -4.9609, -5.1169, -4.2456, -5.2888, -5.5664, -2.5296, -5.8008, -5.6851, -5.8308, -5.8776, -6.0985, -6.2138, -6.2473, -6.3705, -6.4646, -6.5081, -6.5383, -6.5395, -6.6018, -3.8417, -6.6703, -6.6881, -6.7236, -6.7245, -6.762, -6.8014, -6.1546, -6.9056, -6.1788, -6.9512, -6.9993, -7.1847, -2.4944, -5.8559, -5.315, -4.9884, -5.3683, -3.98, -5.0141, -5.2041, -5.564, -5.5002, -4.5122, -5.4725, -3.5166, -5.5776, -4.484, -3.4458, -4.9805, -3.8023, -5.2981, -3.7691, -4.5819, -4.5748, -4.8082, -4.9394, -4.3881, -4.9137, -5.1258, -4.6199, -4.7664, -5.1911, -5.0139, -5.0373, -5.0008, -5.2194, -5.2825, -4.8535, -5.4016, -5.6668, -5.8994, -5.9126, -6.2949, -5.5602, -6.3236, -5.5815, -6.4328, -6.4654, -5.7312, -6.5359, -6.5528, -6.553, -6.5536, -6.5541, -6.5913, -6.5913, -6.6306, -6.6717, -6.7145, -6.7346, -6.7347, -6.7347, -6.7346, -6.7805, -6.7808, -6.7809, -6.7811, -5.8654, -5.721, -5.8783, -5.1947, -5.7485, -5.9493, -5.1216, -5.023, -4.5813, -4.6413, -5.1493, -5.6245, -5.4966, -5.7428, -3.7619, -5.9329, -5.3012, -5.3257, -3.3257, -4.8706, -5.2341, -3.9743, -4.9163, -5.0516, -5.2296, -3.9217, -4.6187, -4.9715, -4.1396, -4.3906, -4.3693, -4.0864, -4.0659, -5.0904, -4.7382, -4.6239, -4.9613, -4.9068, -4.8916, -5.0168, -4.907, -5.2697, -5.5894, -5.631, -5.631, -5.708, -5.7317, -5.7798, -5.805, -5.8696, -5.9259, -6.0309, -6.0628, -6.0966, -6.1845, -5.0052, -6.2223, -6.3659, -6.4115, -6.4601, -6.46, -6.5096, -6.5098, -5.8147, -4.8512, -6.6453, -6.6453, -6.6453, -6.6456, -6.6459, -4.9975, -5.1423, -4.6377, -5.1033, -5.5905, -5.2897, -5.4126, -4.8245, -4.3703, -5.126, -5.0624, -4.6028, -4.7728, -4.8307, -3.4839, -4.6158, -4.3112, -5.3194, -5.2002, -5.329, -4.1071, -5.2376, -5.0907, -4.5874, -4.9076, -4.6805, -4.5989, -4.9677, -4.6501, -4.7701, -4.6607, -5.1081, -4.8841, -4.9835, -5.0901, -4.99, -4.9879, -5.0626], \"loglift\": [30.0, 29.0, 28.0, 27.0, 26.0, 25.0, 24.0, 23.0, 22.0, 21.0, 20.0, 19.0, 18.0, 17.0, 16.0, 15.0, 14.0, 13.0, 12.0, 11.0, 10.0, 9.0, 8.0, 7.0, 6.0, 5.0, 4.0, 3.0, 2.0, 1.0, 1.3878, 1.3844, 1.3834, 1.3824, 1.3791, 1.3773, 1.3763, 1.3756, 1.374, 1.3736, 1.3735, 1.3718, 1.3656, 1.3641, 1.3613, 1.3607, 1.3589, 1.3541, 1.3527, 1.3514, 1.3503, 1.3494, 1.348, 1.3475, 1.346, 1.3453, 1.3446, 1.3436, 1.3423, 1.3377, 1.3367, 1.3265, 1.3105, 1.2629, 1.267, 1.3279, 1.2251, 1.2154, 1.2048, 1.0871, 0.9966, 1.015, 1.1674, 0.8104, 0.6516, 0.3936, 0.4664, -0.0595, -0.1186, 0.3162, 0.4027, 0.6051, -0.2691, -0.164, 0.9121, 0.4075, 0.5234, -0.1485, -0.3754, -0.1631, 0.656, 1.85, 1.8411, 1.8376, 1.8295, 1.8252, 1.81, 1.7986, 1.7942, 1.7907, 1.7907, 1.7869, 1.779, 1.7771, 1.777, 1.7717, 1.7672, 1.7659, 1.7653, 1.7646, 1.7621, 1.7607, 1.7605, 1.7593, 1.758, 1.755, 1.755, 1.7523, 1.7517, 1.7517, 1.7516, 1.7469, 1.6858, 1.6814, 1.718, 1.7147, 1.6232, 1.538, 1.7197, 1.6976, 1.5832, 1.6435, 1.5854, 1.6427, 1.3007, 1.5256, 1.5527, 1.4935, 1.6083, 1.2924, 1.6689, 1.5296, 0.9998, 1.6069, 1.2162, 0.9754, 1.507, 1.4933, 1.526, 1.2681, 1.0169, 0.2264, 0.6985, 0.4932, 0.6039, 1.1404, -0.1374, 0.5054, 1.0327, 0.3016, 0.8335, 0.446, -0.4178, 0.6804, 0.0687, 0.0732, -0.3676, -0.4484, -0.355, -0.0623, 2.0178, 2.0153, 2.0089, 2.0086, 2.0018, 1.9968, 1.9762, 1.968, 1.9597, 1.9587, 1.9544, 1.948, 1.9444, 1.9413, 1.9341, 1.9292, 1.9248, 1.9174, 1.9119, 1.9089, 1.9057, 1.9054, 1.9027, 1.9023, 1.9023, 1.8937, 1.893, 1.8854, 1.8723, 1.8669, 1.8624, 1.8508, 1.834, 1.7524, 1.7752, 1.8228, 1.7347, 1.7841, 1.6345, 1.8006, 1.7692, 1.816, 1.3853, 1.1627, 1.598, 1.2178, 1.4414, 1.4971, 1.421, 0.7896, 0.9281, 0.702, 1.476, 1.2052, 0.7512, 1.1287, 0.2793, -0.0311, -0.0692, 0.6986, 0.0985, 1.136, -0.0771, 0.5455, 0.6744, 2.1714, 2.1674, 2.1664, 2.1525, 2.1514, 2.1508, 2.1503, 2.1448, 2.1288, 2.1191, 2.1165, 2.1154, 2.1148, 2.1131, 2.1084, 2.1033, 2.1017, 2.1017, 2.0992, 2.0936, 2.0822, 2.0803, 2.0788, 2.0787, 2.0752, 2.0747, 2.0718, 2.0718, 2.0717, 2.0666, 2.0634, 2.0308, 2.0243, 2.047, 2.043, 1.8699, 2.0015, 1.5983, 1.7772, 1.8306, 1.9104, 1.4825, 1.6026, 1.6867, 1.9532, 0.9915, 1.6861, 0.9926, 0.9408, 0.8471, 1.213, 0.5021, 0.8705, 0.5513, 1.4782, 0.9213, 0.6314, -0.345, 0.7499, 0.3928, -0.4352, -0.2529, -0.2007, -0.4396, 2.3446, 2.3303, 2.3062, 2.2987, 2.2904, 2.2835, 2.2699, 2.2676, 2.2582, 2.2527, 2.244, 2.2404, 2.2374, 2.2373, 2.2333, 2.2333, 2.2333, 2.2242, 2.2169, 2.2115, 2.2113, 2.2111, 2.2055, 2.1821, 2.1813, 2.1812, 2.181, 2.173, 2.1728, 2.1725, 2.1589, 2.1668, 2.1042, 2.0935, 2.0904, 2.1529, 2.0553, 2.1354, 2.0117, 2.0692, 1.664, 1.6246, 1.7661, 1.5763, 2.0905, 1.9909, 1.9277, 1.1208, 1.4693, 1.8769, 0.5252, 1.028, 0.8307, 1.5328, 1.7225, 1.0227, 1.2443, 0.3066, 1.248, 1.2129, 0.701, 0.397, 0.305, 1.4902, 1.4487, 0.0988, 0.4647, 0.3984, -0.2439, 0.2877, -0.9345, -0.3081, -0.6424, 0.1274, -0.3881, 2.4348, 2.4008, 2.3931, 2.3708, 2.3614, 2.3605, 2.3473, 2.3461, 2.3436, 2.3383, 2.3191, 2.3189, 2.3189, 2.3109, 2.3109, 2.3108, 2.288, 2.2759, 2.2661, 2.258, 2.2577, 2.2493, 2.2491, 2.2489, 2.2486, 2.2486, 2.2432, 2.2282, 2.2125, 2.2123, 2.033, 1.9739, 1.7784, 2.0851, 1.7363, 1.3419, 1.2994, 1.6648, 1.6044, 1.7154, 1.2369, 1.6943, 1.7089, 1.0047, 1.8478, 1.3282, 1.2265, 1.7549, 1.8537, 0.3216, 0.7946, 0.0767, 0.5372, 1.0123, 0.7722, 0.8064, 1.078, 0.793, 0.392, -0.4598, 0.4375, 0.7146, -0.1506, 0.7109, 2.6311, 2.6071, 2.5951, 2.5884, 2.5823, 2.5811, 2.5804, 2.5774, 2.5612, 2.5514, 2.5484, 2.5359, 2.5262, 2.5212, 2.5176, 2.5174, 2.5098, 2.5069, 2.5008, 2.4984, 2.4935, 2.4933, 2.4879, 2.4821, 2.4679, 2.4657, 2.4617, 2.4581, 2.4497, 2.4141, 2.2826, 2.3668, 2.3091, 2.269, 2.2145, 1.8717, 2.087, 2.0824, 2.1348, 2.0821, 1.6427, 2.0472, 1.0479, 2.0239, 1.3025, 0.5957, 1.5612, 0.6638, 1.6824, 0.1041, 0.5967, 0.5716, 0.4918, 0.7145, -0.4963, 0.6046, 1.0666, -0.2357, 0.0439, 1.0772, 0.4487, 0.4268, -1.0089, -0.2672, 0.2754, 2.778, 2.7574, 2.7369, 2.7263, 2.7215, 2.689, 2.6871, 2.686, 2.6782, 2.6728, 2.6687, 2.6613, 2.6593, 2.6569, 2.6569, 2.6568, 2.6567, 2.6514, 2.6514, 2.6457, 2.6394, 2.6326, 2.6295, 2.6294, 2.6294, 2.6294, 2.6218, 2.6218, 2.6217, 2.6217, 2.6212, 2.5676, 2.5557, 2.4769, 2.5238, 2.5246, 2.3388, 2.2913, 2.0508, 2.0652, 2.2018, 2.3405, 2.2955, 2.3581, 1.538, 2.4093, 2.1472, 2.1462, 1.2816, 1.8383, 2.027, 1.2464, 1.8145, 1.8788, 1.9492, 0.7181, 1.3301, 1.6613, 0.6883, 0.9544, 0.7022, -0.0945, -0.1741, 1.5355, 0.8197, 0.4741, 1.2207, 1.0118, 0.5711, -0.3101, 3.126, 3.1074, 3.0848, 3.0814, 3.0813, 3.0746, 3.0723, 3.0678, 3.0653, 3.0587, 3.0526, 3.0404, 3.0365, 3.0322, 3.0204, 3.0201, 3.0151, 2.9932, 2.9857, 2.9773, 2.9772, 2.9684, 2.9684, 2.9596, 2.9461, 2.9423, 2.9423, 2.9423, 2.9422, 2.9421, 2.9116, 2.8296, 2.7489, 2.7538, 2.7828, 2.7052, 2.6909, 2.5333, 2.3815, 2.5782, 2.4935, 2.2788, 2.3519, 2.372, 1.5143, 1.9786, 1.6376, 2.4807, 2.3478, 2.4515, 0.7032, 2.2934, 2.005, 1.0521, 1.5592, 1.0746, 0.5475, 1.3851, 0.0567, 0.4086, -0.0962, 1.5604, -0.2769, 0.3893, 1.313, -0.6058, -1.1147, 0.0354]}, \"token.table\": {\"Topic\": [1, 3, 1, 2, 7, 9, 1, 2, 8, 9, 5, 6, 1, 5, 8, 3, 5, 6, 8, 3, 5, 9, 1, 8, 1, 6, 7, 1, 2, 3, 4, 5, 6, 7, 9, 1, 4, 5, 7, 8, 9, 1, 2, 3, 5, 7, 8, 9, 2, 9, 1, 2, 5, 8, 1, 6, 4, 2, 6, 8, 4, 1, 2, 9, 4, 8, 3, 2, 3, 4, 5, 6, 7, 6, 1, 1, 4, 3, 1, 9, 1, 4, 5, 1, 1, 2, 3, 8, 1, 3, 4, 5, 6, 8, 9, 3, 6, 8, 9, 4, 4, 4, 2, 4, 2, 7, 8, 1, 7, 1, 2, 3, 4, 5, 7, 5, 1, 2, 3, 4, 5, 6, 9, 3, 5, 3, 7, 8, 4, 7, 8, 9, 5, 8, 9, 3, 1, 2, 5, 2, 2, 1, 5, 6, 8, 6, 1, 4, 1, 2, 3, 4, 5, 7, 2, 4, 9, 3, 4, 7, 3, 2, 3, 4, 3, 4, 5, 3, 5, 2, 3, 6, 9, 1, 3, 5, 2, 2, 2, 5, 5, 7, 9, 8, 5, 9, 8, 1, 3, 5, 7, 9, 2, 7, 2, 2, 3, 9, 1, 3, 5, 1, 6, 1, 9, 7, 4, 2, 7, 6, 1, 5, 8, 6, 4, 7, 3, 5, 6, 9, 1, 2, 8, 2, 3, 4, 6, 9, 2, 1, 2, 4, 5, 6, 7, 8, 9, 2, 3, 5, 8, 3, 1, 1, 5, 2, 3, 6, 7, 8, 2, 4, 1, 3, 6, 9, 3, 6, 9, 7, 2, 5, 7, 1, 4, 7, 8, 1, 3, 4, 6, 7, 4, 7, 4, 7, 8, 1, 5, 6, 3, 9, 3, 7, 7, 6, 1, 5, 8, 2, 9, 5, 1, 2, 3, 5, 6, 7, 9, 7, 3, 6, 9, 7, 9, 1, 2, 3, 4, 1, 3, 4, 5, 6, 8, 1, 6, 1, 2, 3, 5, 6, 7, 8, 5, 7, 2, 3, 5, 9, 1, 2, 6, 4, 8, 1, 7, 8, 5, 8, 1, 2, 1, 5, 6, 2, 3, 4, 6, 1, 3, 5, 7, 1, 2, 3, 4, 5, 6, 7, 8, 9, 5, 8, 2, 3, 4, 5, 7, 9, 9, 2, 4, 7, 3, 9, 6, 7, 5, 1, 5, 6, 7, 3, 6, 7, 9, 1, 3, 4, 6, 2, 3, 7, 8, 2, 1, 2, 3, 4, 5, 7, 8, 9, 3, 5, 8, 1, 3, 1, 2, 3, 4, 5, 6, 8, 9, 4, 7, 8, 1, 2, 3, 4, 5, 7, 8, 9, 1, 2, 3, 4, 5, 6, 7, 8, 9, 1, 2, 8, 3, 3, 6, 3, 1, 3, 5, 9, 8, 3, 1, 2, 3, 4, 5, 6, 7, 8, 7, 9, 1, 4, 7, 9, 3, 4, 6, 2, 3, 4, 5, 6, 7, 8, 8, 5, 2, 4, 4, 1, 2, 3, 5, 8, 9, 6, 1, 2, 3, 4, 1, 6, 6, 8, 7, 9, 1, 5, 8, 1, 1, 2, 8, 2, 2, 7, 4, 8, 9, 1, 4, 5, 3, 5, 9, 9, 6, 5, 8, 9, 2, 3, 7, 8, 2, 4, 8, 9, 1, 6, 2, 3, 8, 9, 1, 2, 3, 5, 6, 9, 5, 8, 4, 2, 3, 4, 5, 6, 7, 8, 9, 2, 3, 6, 8, 9, 9, 2, 3, 4, 5, 7, 8, 9, 1, 5, 2, 4, 2, 4, 7, 3, 4, 8, 3, 5, 1, 3, 6, 9, 7, 1, 4, 7, 8, 1, 2, 4, 1, 4, 7, 5, 4, 1, 2, 3, 4, 5, 6, 7, 9, 2, 4, 6, 9, 1, 7, 1, 2, 3, 4, 6, 8, 9, 1, 2, 3, 1, 3, 9, 1, 2, 3, 4, 5, 7, 8, 9, 1, 2, 3, 4, 5, 6, 8, 9, 1, 2, 3, 4, 6, 7, 8, 9, 1, 1, 3, 5, 6, 7, 9, 1, 2, 1, 2, 3, 4, 5, 7, 8, 6, 1, 2, 3, 6, 7, 2, 7, 9, 2, 7, 7, 8, 2, 9, 9, 6, 8, 1, 4, 5, 2, 4, 5, 7, 1, 5, 6, 8, 9, 1, 4, 7, 5, 1, 2, 3, 7, 9, 1, 2, 3, 4, 5, 6, 7, 8, 1, 6, 3, 4, 5, 5, 9, 1, 2, 4, 5, 7, 8, 5, 2, 8, 5, 9, 1, 4, 8, 1, 2, 3, 4, 5, 6, 7, 9, 1, 1, 2, 6, 8, 9, 2, 4, 7, 7, 2, 5, 7, 8, 9, 4, 1, 4, 5, 3, 4, 5, 7, 1, 2, 3, 4, 5, 7, 8, 9, 6, 8, 1, 2, 5, 8, 1, 9, 4, 9, 7, 4, 8, 3, 6, 1, 2, 3, 4, 6, 7, 8, 2, 4, 8, 6, 8, 9, 1, 3, 1, 8, 1, 2, 6, 5, 8, 3, 1, 2, 3, 8, 2, 1, 5, 6, 8, 4, 3, 5, 8, 2, 3, 5, 1, 2, 9, 2, 9, 7, 9, 2, 6, 7, 8, 1, 2, 9, 3, 2, 3, 4, 5, 6, 7, 8, 9, 2, 1, 2, 3, 5, 6, 8, 9, 3, 9, 6, 4, 8, 9, 3, 1, 2, 3, 4, 5, 7, 8, 9, 4, 8, 1, 2, 3, 4, 6, 1, 8, 1, 9, 4, 7, 4, 7, 1, 7, 9, 1, 2, 3, 4, 5, 6, 8, 9, 9, 5, 1, 5, 6, 8, 6, 8, 2, 8, 9, 4, 5, 2, 3, 4, 5, 2, 6, 8, 9, 8, 2, 9, 8, 8, 1, 2, 5, 8, 1, 6, 1, 4, 5, 9, 9, 1, 2, 3, 5, 6, 5, 5, 7, 8, 9, 1, 2, 3, 4, 5, 7, 9, 4, 9, 6, 1, 4, 5, 8, 1, 2, 4, 5, 6, 7, 1, 2, 3, 5, 9, 3, 8, 2, 5, 9, 8, 2, 5, 6, 1, 3, 4, 5, 6, 8, 9, 7, 8, 9, 1, 3, 7, 9, 1, 2, 4, 6, 6, 5, 8, 2, 4, 7, 8, 6, 4, 1, 2, 5, 1, 2, 3, 4, 7, 1, 2, 9, 2, 3, 5, 8, 9, 3, 5, 9, 1, 1, 2, 6, 1, 4, 6, 1, 8, 9, 2, 3, 5, 8, 8, 2, 2, 5, 6, 8, 9, 2, 5, 7, 8, 7, 4, 7, 7, 7, 4, 5, 1, 5, 9, 2, 6, 8, 6, 1, 9, 2, 3, 4, 5, 6, 7, 8, 9, 4, 1, 2, 3, 4, 8, 9, 1, 5, 2, 7, 1, 5, 8, 1, 4, 1, 2, 3, 4, 6, 7, 8, 9, 4, 7, 6, 8, 1, 2, 3, 4, 5, 6, 8, 9, 6, 8, 3, 4, 7, 8, 9, 1, 4, 5, 9, 3, 1, 4, 8, 3, 5, 1, 2, 6, 9, 1, 3, 5, 8, 9, 1, 3, 4, 8, 3, 5, 1, 2, 3, 1, 2, 3, 4, 5, 6, 7, 5, 1, 2, 3, 6, 7, 3, 8, 1, 2, 4, 9, 1, 2, 3, 4, 6, 1, 4, 9, 1, 2, 4, 5, 6, 7, 8, 9, 3, 9, 1, 2, 3, 4, 7, 1, 2, 6, 7, 9, 4, 7, 1, 2, 3, 4, 5, 6, 8, 1, 3, 5, 9, 7, 1, 2, 3, 4, 5, 6, 7, 8, 1, 2, 4, 8, 1, 2, 3, 4, 5, 6, 7, 8, 9, 2, 2, 9, 3, 3, 4, 5, 9, 2, 3, 3], \"Freq\": [0.10579001545429471, 0.8815834621191225, 0.06473967027654784, 0.37225310409015006, 0.14566425812223263, 0.40462293922842396, 0.19044285333204258, 0.6855942719953534, 0.03808857066640852, 0.07617714133281704, 0.08936018137820893, 0.8042416324038804, 0.9582487954167308, 0.019164975908334617, 0.8873717500278828, 0.7774605063222934, 0.12957675105371555, 0.05553289330873524, 0.01851096443624508, 0.803977157253399, 0.14617766495516346, 0.7711716358332328, 0.9609632879231622, 0.8053910868358752, 0.9602942105241012, 0.03780685868205123, 0.8582281242744967, 0.45549326944381935, 0.062112718560520815, 0.18633815568156245, 0.008281695808069442, 0.08695780598472914, 0.05383102275245138, 0.12836628502507635, 0.016563391616138883, 0.15295906323559064, 0.2549317720593177, 0.13596361176496946, 0.033990902941242365, 0.3908953838242872, 0.016995451470621183, 0.3696639821443712, 0.4082855922191562, 0.045978107231886965, 0.0680475987031927, 0.018391242892754785, 0.04413898294261148, 0.04413898294261148, 0.9897543630693751, 0.9726300571382355, 0.3340914714723882, 0.12528430180214556, 0.1670457357361941, 0.37585290540643673, 0.9833410517073867, 0.9272648695002971, 0.8998649319858165, 0.1392949483017815, 0.8125538650937254, 0.046431649433927163, 0.9806115138338878, 0.24585950011637375, 0.5451667176493505, 0.20310132618309135, 0.9048503580800771, 0.05655314738000482, 0.9335853732139944, 0.5598822354255079, 0.2640953940686358, 0.014085087683660576, 0.01760635960457572, 0.07042543841830289, 0.07042543841830289, 0.8640166193229475, 0.9271640311403956, 0.9725656688674257, 0.0156865430462488, 0.9221285140928877, 0.2877488230559756, 0.6474348518759452, 0.9616463904311593, 0.8778097060641065, 0.8039687920111074, 0.9723642012039548, 0.06733658160671757, 0.723868252272214, 0.05050243620503818, 0.15150730861511455, 0.26634731562786323, 0.1632451289332065, 0.03436739556488558, 0.12887773336832092, 0.326490257866413, 0.008591848891221394, 0.07732664002099256, 0.8318209197125223, 0.8817554009205255, 0.7931138187514924, 0.13218563645858208, 0.9635996910873151, 0.8995922900634521, 0.9249612286367129, 0.03270945968945436, 0.9616581148699582, 0.7881839675647861, 0.10651134696821435, 0.08520907757457148, 0.9607132297795247, 0.9818373247836699, 0.09941532687225413, 0.18226143259913258, 0.06627688458150276, 0.11598454801762982, 0.4515112762114875, 0.08284610572687845, 0.9228529248804576, 0.09026843564456917, 0.21062634983732806, 0.05014913091364954, 0.3911632211264664, 0.09026843564456917, 0.020059652365459816, 0.16047721892367853, 0.8010577391723835, 0.1716552298226536, 0.27392972773617574, 0.05478594554723514, 0.6574313465668218, 0.027746191207583672, 0.9433705010578449, 0.024971572086825305, 0.9223943079767486, 0.10985780008369116, 0.2197156001673823, 0.6042179004603013, 0.9354906992543932, 0.9181937127375612, 0.20779905790654113, 0.7619298789906508, 0.9791892470435917, 0.9158896638910371, 0.9642939121905076, 0.03325151421346578, 0.911252988900066, 0.8182241696270077, 0.9311896461585082, 0.383961680864557, 0.6033683556443039, 0.061295923304454186, 0.10177436322248998, 0.26600117660423517, 0.07286119185246441, 0.4938369670000366, 0.003469580564403067, 0.37935381075054664, 0.1562045103090486, 0.44629860088299605, 0.21210310506923086, 0.07070103502307695, 0.6834433385564106, 0.9362769538988113, 0.06763749231518301, 0.5410999385214641, 0.37683745718459105, 0.22095391245670368, 0.729817468417597, 0.04686901173324017, 0.46652716363676106, 0.5248430590913562, 0.050808815618993745, 0.5588969718089312, 0.2903360892513928, 0.09435922900670267, 0.02521863787027779, 0.20805376242979176, 0.7565591361083337, 0.9100682337612315, 0.9159301586310851, 0.933837460637661, 0.8701918276497378, 0.908815619269285, 0.811104473945399, 0.877248601299537, 0.9593478080226285, 0.8695244924311032, 0.8853707542253465, 0.9273070086600457, 0.8515968277719282, 0.021559413361314637, 0.010779706680657319, 0.07545794676460124, 0.03233912004197196, 0.8881749603302214, 0.06344106859501582, 0.9579493084058378, 0.1549245129874242, 0.40280373376730294, 0.40280373376730294, 0.5551452532777158, 0.40905439715200115, 0.02921817122514294, 0.9437517926334087, 0.03775007170533635, 0.4430029336792071, 0.5211799219755379, 0.8317636156532472, 0.99041224640428, 0.8782014799105698, 0.8369651454274694, 0.8649657560051147, 0.12610592438913165, 0.8196885085293557, 0.06305296219456583, 0.9418568763856738, 0.9487647798564653, 0.9337187693839512, 0.7470156572932253, 0.17508179467809967, 0.07586877769384319, 0.8921458014662487, 0.12959179733437623, 0.8034691434731326, 0.05183671893375049, 0.2285168654005898, 0.07141152043768431, 0.1856699531379792, 0.4855983389762533, 0.028564608175073725, 0.8879030552581895, 0.5594675111256175, 0.1455757299357474, 0.02568983469454366, 0.03425311292605821, 0.019980982540200625, 0.1255947473955468, 0.017126556463029106, 0.07136065192928795, 0.9574489959274847, 0.8807424405241545, 0.9510065793239112, 0.9187840900715977, 0.8834578791767793, 0.9329246833169144, 0.9912627225159093, 0.899024215835998, 0.33650712299526325, 0.20346942320643827, 0.06260597637121178, 0.36781011118086915, 0.03130298818560589, 0.8968999310793134, 0.84757154952558, 0.2964338657537096, 0.5928677315074192, 0.012888428945813461, 0.10310743156650769, 0.8144239630384948, 0.1252959943136146, 0.04176533143787153, 0.9824124789868165, 0.04410215927363751, 0.7056345483782002, 0.2646129556418251, 0.14558595488638382, 0.0970573032575892, 0.558079493731138, 0.1698502807007811, 0.08962946399924425, 0.174922018450138, 0.08673819096701058, 0.5103096901892455, 0.13733546903110005, 0.09229730784819763, 0.8306757706337786, 0.09564210008504961, 0.2869263002551488, 0.6216736505528224, 0.9915839301240356, 0.005200615018133054, 0.003467076678755369, 0.90002402870192, 0.9388447091604792, 0.9632819394533372, 0.8642460088373407, 0.9695007431269043, 0.8645591916231363, 0.07132761045112805, 0.17831902612782013, 0.7132761045112805, 0.9020633196921298, 0.0880061775309395, 0.8840153980519602, 0.28082746327371244, 0.05014776129887722, 0.2056058213253966, 0.12035462711730532, 0.19557626906562114, 0.10531029872764217, 0.04011820903910178, 0.8779883577225688, 0.3361194662740752, 0.48890104185320027, 0.15278157557912508, 0.9313109698731185, 0.918802624034128, 0.6181010661601021, 0.06030254304000996, 0.12060508608001992, 0.18844544700003113, 0.27468469992971817, 0.05722597915202461, 0.1030067624736443, 0.32046548325133783, 0.17167793745607385, 0.06867117498242954, 0.42842929699003285, 0.5452736507145873, 0.21710299969656158, 0.12061277760920087, 0.08844937024674732, 0.0964902220873607, 0.21710299969656158, 0.056285962884293744, 0.2010212960153348, 0.3913962225976806, 0.5544779820133808, 0.9499458526518346, 0.06318766050876963, 0.884627247122775, 0.8011094183037037, 0.042939492624415966, 0.8158503598639033, 0.08587898524883193, 0.9451555577241046, 0.031505185257470154, 0.9467835688845937, 0.7988000322961152, 0.7620374839367691, 0.08057312896810631, 0.8057312896810631, 0.08099958825975986, 0.8909954708573584, 0.4934917702979473, 0.2612603489812662, 0.23948865323282736, 0.7476114754439229, 0.026079470073625217, 0.15647682044175132, 0.052158940147250435, 0.3752379553787229, 0.21442168878784168, 0.01786847406565347, 0.3752379553787229, 0.47937569478345987, 0.13535313735062396, 0.07331628273158798, 0.06767656867531198, 0.06767656867531198, 0.09023542490041597, 0.05075742650648399, 0.005639714056275998, 0.028198570281379995, 0.848691996270014, 0.8303788445137151, 0.28301766039624693, 0.12382022642335803, 0.26238095599235395, 0.1385607295689959, 0.12971642768161318, 0.06191011321167902, 0.7268122832771756, 0.08853009156918203, 0.8498888790641473, 0.05311805494150921, 0.8469919154296934, 0.7269867587377197, 0.9109892999972805, 0.9581335989199626, 0.9068848937755352, 0.16713604275145824, 0.3190778997982384, 0.4710197568450187, 0.04558255711403406, 0.8213773489477234, 0.04106886744738617, 0.06844811241231029, 0.06844811241231029, 0.39831835267604954, 0.12255949313109217, 0.015319936641386521, 0.45193813092090235, 0.24172932453302387, 0.6748276976546916, 0.05707497940363064, 0.023501462107377323, 0.8675378793762064, 0.17148004040485415, 0.10655070471757927, 0.14484236422545932, 0.02996738570181917, 0.2863550189284943, 0.009989128567273057, 0.21809597371879508, 0.03163224046303135, 0.2286555984693225, 0.7676295091470113, 0.004083135686952188, 0.061690587518278696, 0.8636682252559017, 0.23236651062758287, 0.05421885247976933, 0.03872775177126381, 0.08520105389678038, 0.40276861842114364, 0.061964402834022096, 0.061964402834022096, 0.03872775177126381, 0.9459209940842792, 0.843662933048004, 0.8302444261117168, 0.172301503185475, 0.0861507515927375, 0.0516904509556425, 0.2670673299374863, 0.15076381528729063, 0.09476582675201126, 0.13784120254838, 0.04307537579636875, 0.2117924010048311, 0.4182566912925595, 0.049285024133199684, 0.07192949468088602, 0.049285024133199684, 0.11855046345553438, 0.05594516252957802, 0.0013320276792756671, 0.022644470547686344, 0.23892930165205165, 0.7479525964759878, 0.7749765011063637, 0.9775649904494589, 0.8673074933430938, 0.07227562444525781, 0.9822884487962555, 0.11152842309200563, 0.18588070515334273, 0.5948182564906968, 0.0743522820613371, 0.9236512989015428, 0.993509174709261, 0.22142934288834534, 0.19293659656080092, 0.12781031924069933, 0.011397098531017774, 0.03663353099255714, 0.3158624450024926, 0.04314615872456729, 0.05047286492307872, 0.8937661803564929, 0.8674899725013108, 0.328177582873524, 0.492266374310286, 0.0957184616714445, 0.0683703297653175, 0.0441820461265034, 0.220910230632517, 0.7069127380240544, 0.007211031625587695, 0.08653237950705234, 0.1514316641373416, 0.5480384035446648, 0.06489928463028925, 0.021633094876763084, 0.12258753763499082, 0.8052426626333992, 0.9174997374017168, 0.7842709327549059, 0.21301185827911026, 0.8894787194298162, 0.2882733718855733, 0.012533624864590143, 0.10026899891672114, 0.2381388724272127, 0.27573974702098314, 0.087735374052131, 0.9903793409238737, 0.015102117220425489, 0.060408468881701954, 0.21142964108595685, 0.6946973921395725, 0.9479102960103323, 0.049652444076731694, 0.8175362983251504, 0.15572119968098103, 0.84573761596149, 0.09397084621794333, 0.8422374862992401, 0.11029300415823383, 0.040106546966630484, 0.9818335520347001, 0.9841491365118621, 0.9337692553432531, 0.9514529556035648, 0.9576431646094545, 0.9385734854662707, 0.9579555409605901, 0.09044085815276359, 0.1356612872291454, 0.7687472942984905, 0.19810810884078997, 0.7924324353631599, 0.8492811251389678, 0.11167302353877816, 0.6328138000530762, 0.22334604707755631, 0.9087390951224883, 0.9279343101762868, 0.06421568940144524, 0.8990196516202333, 0.9248249312366575, 0.437809078833526, 0.12673420703075752, 0.3341174548992698, 0.09217033238600547, 0.32430824549552717, 0.34338520111291115, 0.16215412274776358, 0.17169260055645558, 0.08785497975622254, 0.7906948178060028, 0.3531092850585588, 0.05044418357979412, 0.46660869811309563, 0.1261104589494853, 0.14265564300024514, 0.11590770993769917, 0.026747933062545963, 0.008915977687515321, 0.6241184381260725, 0.08024379918763788, 0.8155945980372982, 0.9641038708735514, 0.92756664806726, 0.025715589926194368, 0.17143726617462912, 0.18858099279209203, 0.06857490646985165, 0.25715589926194365, 0.06000304316112019, 0.09429049639604602, 0.12857794963097183, 0.1033755712577023, 0.5267231487892451, 0.1476793875110033, 0.029535877502200658, 0.19198320376430428, 0.7268122832771756, 0.0031904890711597815, 0.1212385847040717, 0.555145098381802, 0.07338124863667499, 0.20259605601864614, 0.006380978142319563, 0.03828586885391738, 0.9839014580161991, 0.9090111650975042, 0.8524844595574765, 0.11366459460766354, 0.7578632347842007, 0.09473290434802509, 0.09473290434802509, 0.053832107384538044, 0.8828465611064239, 0.053832107384538044, 0.133299370430284, 0.8442293460584653, 0.1083708778215707, 0.4102611803245177, 0.42574273429902776, 0.0464446619235303, 0.944339353508394, 0.09789696262087959, 0.13052928349450613, 0.6526464174725306, 0.09789696262087959, 0.01839669405358852, 0.07358677621435408, 0.9014380086258375, 0.47822112840326364, 0.4932595286675172, 0.024061440422805717, 0.8413214313605771, 0.9642397711333034, 0.3406374634197712, 0.10810650036675373, 0.06731159456797874, 0.18561682138442623, 0.06323210398810124, 0.07343083043779498, 0.07343083043779498, 0.08566930217742749, 0.36089651528358074, 0.10024903202321687, 0.22054787045107713, 0.320796902474294, 0.9178644523689852, 0.06556174659778466, 0.044579320251297946, 0.35663456201038357, 0.06368474321613993, 0.031842371608069964, 0.05731626889452593, 0.22926507557810372, 0.21652812693487575, 0.05772341159351722, 0.8273688995070801, 0.11544682318703443, 0.14446766831836996, 0.14446766831836996, 0.7223383415918498, 0.016396133696203345, 0.02459420054430502, 0.1557632701139318, 0.5574685456709138, 0.016396133696203345, 0.06558453478481338, 0.13936713641772844, 0.03279226739240669, 0.24825877687446615, 0.3046812261641176, 0.04513795943172112, 0.1805518377268845, 0.01128448985793028, 0.17490959279791934, 0.01128448985793028, 0.02256897971586056, 0.1206718481127115, 0.17313786903128173, 0.23085049204170896, 0.06295922510228426, 0.17838447112313874, 0.07869903137785533, 0.03147961255114213, 0.1206718481127115, 0.9722703256679052, 0.23492320546177525, 0.42110384108284205, 0.15821358735180782, 0.09269078854954398, 0.07910679367590391, 0.013583994873640065, 0.962840275416132, 0.9662361932750251, 0.372561242524396, 0.08627734037407066, 0.054903762056226775, 0.21177165364544615, 0.14118110243029744, 0.10980752411245355, 0.023530183738382903, 0.8769542463648058, 0.2762320584854329, 0.1787383907846919, 0.2437341692518526, 0.08936919539234595, 0.20311180770987716, 0.061876415680523544, 0.7425169881662825, 0.12375283136104709, 0.8341768088374266, 0.10427210110467833, 0.15288659617994754, 0.7644329808997377, 0.7102032031710334, 0.2840812812684133, 0.8535326266453639, 0.0733341361492007, 0.8800096337904083, 0.08534535707958392, 0.8534535707958392, 0.8619653043689265, 0.1383874227812646, 0.8610772973056463, 0.7282131764141606, 0.2558586836049754, 0.08151060992486067, 0.122265914887291, 0.244531829774582, 0.4754785578950205, 0.06792550827071722, 0.10202735109650482, 0.17004558516084137, 0.7141914576755337, 0.984785963479143, 0.04382340595640178, 0.4294693783727374, 0.2892344793122517, 0.21035234859072854, 0.026294043573841068, 0.2768793201116924, 0.06112920054413988, 0.06832087119639163, 0.28766682609007005, 0.12585423641440563, 0.10787505978377626, 0.035958353261258756, 0.035958353261258756, 0.9983436920804558, 0.8310959052854937, 0.767364073623179, 0.1534728147246358, 0.06577406345341535, 0.9686539967446414, 0.9460767619945276, 0.14644980423077827, 0.3095416316695995, 0.03994085569930316, 0.1065089485314751, 0.1164941624563009, 0.2795859898951221, 0.8481631695351246, 0.9210871306417288, 0.032895968951490315, 0.10159613689643789, 0.8635671636197221, 0.19958598167153566, 0.19958598167153566, 0.598757945014607, 0.2513124788268986, 0.018966979534105557, 0.09957664255405417, 0.23708724417631943, 0.18966979534105555, 0.028450469301158333, 0.14699409138931804, 0.028450469301158333, 0.9936256506897732, 0.31717386046729545, 0.5199571483070416, 0.062394857796845005, 0.041596571864563336, 0.05199571483070417, 0.9748797972593306, 0.43222915074279594, 0.5319743393757489, 0.855044708003487, 0.07765515371648411, 0.18119535867179626, 0.02588505123882804, 0.5435860760153888, 0.15531030743296823, 0.9783701811219614, 0.048880850902906135, 0.8798553162523105, 0.9028390285956318, 0.7590939665052749, 0.08789509085850551, 0.12784740488509894, 0.02397138841595605, 0.1238331192168028, 0.09803455271330222, 0.06879617734266823, 0.0911549349790354, 0.47469362366441076, 0.0051597133007001165, 0.1238331192168028, 0.01547913990210035, 0.9221293543815228, 0.7750401848397525, 0.18925375016218696, 0.18925375016218696, 0.14194031262164022, 0.449477656635194, 0.4765085945503838, 0.508275834187076, 0.9205628469793535, 0.06137085646529023, 0.9367394994075362, 0.8866765900356883, 0.08866765900356884, 0.9919438795643967, 0.8880571948757232, 0.05414067973418903, 0.11910949541521587, 0.2598752627241074, 0.021656271893675614, 0.18949237906966163, 0.2598752627241074, 0.09203915554812137, 0.8594439148981354, 0.10111104881154534, 0.8977659150393031, 0.22107576096835704, 0.22107576096835704, 0.5526894024208926, 0.9520148268848779, 0.8894841701292716, 0.4673073686195288, 0.5257207896969699, 0.2925064091270875, 0.47776046824090956, 0.2242549136641004, 0.06341780298038804, 0.8878492417254326, 0.8971769784508212, 0.37103454991351215, 0.16605742094031314, 0.44627931877709154, 0.015567883213154356, 0.9099170861280731, 0.6887589199179166, 0.14668014035288965, 0.11479315331965277, 0.05101917925317901, 0.9635900133198645, 0.9219003505859951, 0.8142171269953419, 0.13570285449922365, 0.8678861910374354, 0.1686493944804693, 0.815138739988935, 0.327914613148585, 0.35220458449292463, 0.30362464180424537, 0.32181821197664956, 0.6436364239532991, 0.10743067189503554, 0.8594453751602843, 0.7177275682745442, 0.12712517814456872, 0.03178129453614218, 0.12182829572187837, 0.28921465926875667, 0.6896657259485736, 0.011123640741106024, 0.922067429303827, 0.09603885339556363, 0.10804371007000908, 0.13205342341889997, 0.3241311302100272, 0.048019426697781815, 0.08403399672111818, 0.15606313676779088, 0.048019426697781815, 0.9124776019322988, 0.17905195695175535, 0.04476298923793884, 0.002355946801996781, 0.10366165928785837, 0.6573091577571019, 0.004711893603993562, 0.009423787207987123, 0.3449188406280455, 0.6405635611663703, 0.8655078011196686, 0.8338971154299959, 0.043889321864736625, 0.08777864372947325, 0.9705507543520658, 0.21156475858350854, 0.09637950113248722, 0.33380217465398015, 0.04936511033615199, 0.2139154781233253, 0.054066549415785516, 0.03761151263706818, 0.0023507195398167614, 0.97439484754569, 0.7750631147174118, 0.3789814417196961, 0.42868392587965626, 0.04348967363996513, 0.04970248415996015, 0.0994049683199203, 0.9497501326680735, 0.03561562997505276, 0.5357319384102741, 0.4411910081025787, 0.3018319270094165, 0.6963834655838173, 0.12348282865114395, 0.8738784796850187, 0.29316764843406856, 0.5863352968681371, 0.07329191210851714, 0.21826089190147827, 0.17686658481671516, 0.15052475303550225, 0.16557722833905247, 0.07149925769186358, 0.19191906012026538, 0.02257871295532534, 0.0037631188258875565, 0.7268122832771756, 0.8836008471098593, 0.9796550310703855, 0.9088190025462182, 0.9511763262542721, 0.045294110774012956, 0.7593417822065064, 0.858098490803923, 0.13947296482070903, 0.6973648241035452, 0.13947296482070903, 0.8941571477081733, 0.8690295775876743, 0.06327407520892817, 0.037964445125356905, 0.18982222562678452, 0.6960148272982098, 0.3218496070139128, 0.0402312008767391, 0.6034680131510864, 0.7271250098721762, 0.9259377645657675, 0.8877336598587611, 0.10243080690678012, 0.8311238105546875, 0.8307659731402554, 0.15219160243660437, 0.36145505578693543, 0.41852690670066206, 0.05707185091372664, 0.9665683164488454, 0.8659724213763318, 0.7976765043147179, 0.0930622588367171, 0.0797676504314718, 0.013294608405245299, 0.8339669795957202, 0.16037867538251055, 0.27264374815026793, 0.03207573507650211, 0.43302242353277853, 0.11226507276775739, 0.8154363790024278, 0.12255282397664474, 0.5514877078949013, 0.21446744195912829, 0.12255282397664474, 0.3979514149208079, 0.2091795898942708, 0.015305823650800302, 0.3035655024075393, 0.012754853042333586, 0.03571358851853404, 0.02806067669313389, 0.1617557466344923, 0.8087787331724615, 0.8777023187282866, 0.053886075502029236, 0.4849746795182631, 0.3951645536815477, 0.053886075502029236, 0.7374156374711605, 0.03351889261232548, 0.09385289931451132, 0.060334006702185854, 0.07374156374711605, 0.006703778522465095, 0.13078728726650068, 0.2746533032596515, 0.14386601599315077, 0.23541711707970125, 0.19618093089975105, 0.9460210184542199, 0.7750163722093102, 0.10200301401904917, 0.8160241121523933, 0.866551011108329, 0.9337463263280231, 0.7028947115479347, 0.08033082417690683, 0.20082706044226706, 0.24700887652143666, 0.09307580854430947, 0.046537904272154734, 0.014319355160662996, 0.4904379142527076, 0.046537904272154734, 0.06085725943281773, 0.7351027820321014, 0.8055671058385784, 0.9087525133297132, 0.9381826409779978, 0.0357402910848761, 0.020848503132844393, 0.002978357590406342, 0.28329259176251237, 0.17705786985157024, 0.053117360955471066, 0.4780562485992396, 0.877518502846928, 0.7432995251223654, 0.24776650837412179, 0.2196014178401662, 0.28317024932021434, 0.46231877440034996, 0.034673908080026246, 0.8424799180382428, 0.8916077919345127, 0.06422778202520905, 0.8349611663277178, 0.08563704270027875, 0.20099471319844334, 0.07730565892247822, 0.015461131784495642, 0.6648286667333126, 0.04638339535348693, 0.9906270114585539, 0.9161281698319094, 0.8262557976512054, 0.8574846996315693, 0.057056562797894034, 0.25675453259052317, 0.5135090651810463, 0.1426414069947351, 0.7760202016679637, 0.18927321991901552, 0.031545536653169254, 0.9768208229747447, 0.8802852758705929, 0.05921201407201298, 0.05921201407201298, 0.883058604003676, 0.07410281991639239, 0.037051409958196196, 0.19509606502057347, 0.7803842600822939, 0.868705259676422, 0.8315287557042288, 0.13129401405856245, 0.34647577959625037, 0.635205595926459, 0.8054800288652119, 0.9363979693765054, 0.28321116789294626, 0.08714189781321423, 0.06535642335991068, 0.4139240146127676, 0.13071284671982136, 0.704556106822801, 0.09568045895124458, 0.06958578832817787, 0.12177512957431129, 0.9031625094668092, 0.9461114250545388, 0.8108640579341646, 0.8363523727242029, 0.971350982224971, 0.960165270478067, 0.9226591213234898, 0.3649837407937907, 0.12166124693126358, 0.4866449877250543, 0.7769022897801402, 0.1387325517464536, 0.05549302069858144, 0.9273225433631618, 0.30052823943657825, 0.6439890845069535, 0.5650711434918029, 0.29063372507619795, 0.0008997948144773931, 0.0008997948144773931, 0.05398768886864359, 0.0260940496198444, 0.05488748368312098, 0.0071983585158191445, 0.84769576659799, 0.09267410511319402, 0.2471309469685174, 0.19152648390060098, 0.22241785227166566, 0.16681338920374925, 0.07413928409055522, 0.8330268166781977, 0.1642588089224615, 0.9568603738611005, 0.8542316780554183, 0.39491794694114535, 0.21788576382959743, 0.3813000867017955, 0.06713157386488597, 0.9062762471759606, 0.4206384741129614, 0.05141136905825084, 0.06543265152868288, 0.06543265152868288, 0.18695043293909397, 0.042063847411296144, 0.04673760823477349, 0.12151778141041107, 0.867913455692482, 0.061993818263748716, 0.7530094131665809, 0.9289427992590689, 0.19677994286806189, 0.024597492858507736, 0.2797964812655255, 0.1660330767949272, 0.04919498571701547, 0.06456841875358281, 0.20907868929731577, 0.006149373214626934, 0.7527062420518673, 0.858038604118444, 0.9186968127286699, 0.26205772967198204, 0.5644320331396536, 0.16126629518275817, 0.8747524272452561, 0.4060589413194456, 0.19175005562307154, 0.31582362102623546, 0.09023532029321013, 0.8735596966535494, 0.5899774991733266, 0.3781907045982863, 0.02269144227589718, 0.8745878224058597, 0.8162249859357571, 0.3642117346197163, 0.07284234692394326, 0.5463176019295745, 0.8338221478174009, 0.20640365479067121, 0.04128073095813425, 0.24768438574880547, 0.06192109643720137, 0.4334476750604096, 0.2153046670494897, 0.05980685195819158, 0.6100298899735541, 0.10765233352474485, 0.9090561932540028, 0.8838537648235273, 0.15900478642107715, 0.18346706125508902, 0.6482502831013146, 0.19006137633312278, 0.13427221611593748, 0.12292526827515404, 0.07942863488548416, 0.014183684800979313, 0.330007066369452, 0.12859874219554576, 0.8975867081628423, 0.057764394208539405, 0.12996988696921366, 0.577643942085394, 0.028882197104269702, 0.20217537972988792, 0.1590945002980397, 0.7159252513411787, 0.07107582391571353, 0.2700881308797114, 0.19901230696399788, 0.45488527306056653, 0.6747836298526638, 0.1454623393694365, 0.16162482152159613, 0.01212186161411971, 0.9203390374750199, 0.979438652393144, 0.9748118093951825, 0.8685803254840274, 0.18798509299105712, 0.14098881974329283, 0.058745341559705344, 0.2623958589666839, 0.10965797091144998, 0.10965797091144998, 0.10574161480746962, 0.01958178051990178, 0.8300326660271877, 0.14822011893342638, 0.22777417250291546, 0.19218445804933493, 0.4413124592243987, 0.03558971445358054, 0.10676914336074163, 0.9947805643639841, 0.7129036080315674, 0.08147469806075056, 0.06110602354556292, 0.14258072160631347, 0.759477748544197, 0.20951110304667506, 0.29248059071377197, 0.2541795609774447, 0.10445735382634713, 0.003481911794211571, 0.055710588707385135, 0.1323126481800397, 0.1566860307395207, 0.15137144141464307, 0.00796691796919174, 0.7568572070732152, 0.0796691796919174, 0.7806561528670757, 0.2138415459037832, 0.25121191314910457, 0.04152263027257926, 0.0020761315136289633, 0.12664402233136676, 0.23460286104007286, 0.00622839454088689, 0.12041562779047987, 0.3407728531994151, 0.16407581820712577, 0.17669703499228928, 0.315530419629088, 0.12782888525783848, 0.16590557448357762, 0.027197635161242233, 0.19582297316094407, 0.0353569257096149, 0.29645422325754034, 0.013598817580621116, 0.09791148658047204, 0.04351621625798757, 0.9575085760706925, 0.4771783313417901, 0.4771783313417901, 0.9456450014025545, 0.8684166482393386, 0.07049876849175443, 0.04806734215346893, 0.009613468430693786, 0.10127001859419726, 0.877673494483043, 0.9845647051185465], \"Term\": [\"absolutely\", \"absolutely\", \"access\", \"access\", \"access\", \"access\", \"account\", \"account\", \"account\", \"account\", \"activity\", \"activity\", \"addition\", \"addition\", \"afford\", \"age\", \"age\", \"age\", \"age\", \"ago\", \"ago\", \"al\", \"alarm\", \"alex\", \"alexa\", \"alexa\", \"alot\", \"also\", \"also\", \"also\", \"also\", \"also\", \"also\", \"also\", \"also\", \"always\", \"always\", \"always\", \"always\", \"always\", \"always\", \"amazon\", \"amazon\", \"amazon\", \"amazon\", \"amazon\", \"amazon\", \"amazon\", \"android\", \"annoy\", \"another\", \"another\", \"another\", \"another\", \"answer\", \"anybody\", \"anymore\", \"anyone\", \"anyone\", \"anyone\", \"anywhere\", \"app\", \"app\", \"app\", \"appear\", \"appear\", \"appropriate\", \"apps\", \"apps\", \"apps\", \"apps\", \"apps\", \"apps\", \"appstore\", \"arlo\", \"ask\", \"ask\", \"assistance\", \"audible\", \"audible\", \"audio\", \"auto\", \"automate\", \"automation\", \"available\", \"available\", \"available\", \"available\", \"awesome\", \"awesome\", \"awesome\", \"awesome\", \"awesome\", \"awesome\", \"awesome\", \"b\", \"baby\", \"backlight\", \"backlight\", \"backlit\", \"backup\", \"bag\", \"battery\", \"battery\", \"beat\", \"beat\", \"beat\", \"bedroom\", \"beginner\", \"best\", \"best\", \"best\", \"best\", \"best\", \"best\", \"beyond\", \"big\", \"big\", \"big\", \"big\", \"big\", \"big\", \"big\", \"birthday\", \"birthday\", \"blue\", \"blue\", \"blue\", \"book\", \"book\", \"book\", \"bottom\", \"box\", \"box\", \"box\", \"boy\", \"brightness\", \"brother\", \"brother\", \"browse\", \"browser\", \"bulb\", \"bulb\", \"bumper\", \"bundle\", \"busy\", \"button\", \"button\", \"buy\", \"buy\", \"buy\", \"buy\", \"buy\", \"buy\", \"card\", \"card\", \"card\", \"carry\", \"carry\", \"carry\", \"cartoon\", \"case\", \"case\", \"case\", \"charge\", \"charge\", \"charge\", \"charger\", \"charger\", \"child\", \"child\", \"child\", \"child\", \"christmas\", \"christmas\", \"christmas\", \"chrome\", \"class\", \"clean\", \"clearly\", \"cloudcam\", \"coffee\", \"complicate\", \"computer\", \"concept\", \"concern\", \"confuse\", \"connect\", \"connect\", \"connect\", \"connect\", \"connect\", \"consider\", \"consider\", \"constant\", \"content\", \"content\", \"content\", \"control\", \"control\", \"control\", \"cook\", \"cook\", \"cool\", \"cool\", \"couch\", \"cover\", \"credit\", \"current\", \"cute\", \"dad\", \"dad\", \"dad\", \"damage\", \"dark\", \"data\", \"daughter\", \"daughter\", \"daughter\", \"dauther\", \"decent\", \"decent\", \"decent\", \"definitely\", \"definitely\", \"definitely\", \"definitely\", \"definitely\", \"despite\", \"device\", \"device\", \"device\", \"device\", \"device\", \"device\", \"device\", \"device\", \"didnt\", \"die\", \"direction\", \"doesnt\", \"dollar\", \"doorbell\", \"dot\", \"double\", \"download\", \"download\", \"download\", \"download\", \"download\", \"downside\", \"drain\", \"drop\", \"drop\", \"drop\", \"drop\", \"durable\", \"durable\", \"durable\", \"e\", \"early\", \"early\", \"early\", \"ease\", \"ease\", \"ease\", \"ease\", \"easy\", \"easy\", \"easy\", \"easy\", \"easy\", \"ebook\", \"ebook\", \"ebooks\", \"ebooks\", \"ebooks\", \"echo\", \"echo\", \"echo\", \"eco\", \"edition\", \"educational\", \"effort\", \"electronic\", \"electronics\", \"else\", \"else\", \"else\", \"email\", \"email\", \"employee\", \"enjoy\", \"enjoy\", \"enjoy\", \"enjoy\", \"enjoy\", \"enjoy\", \"enjoy\", \"enjoyable\", \"entertain\", \"entertain\", \"entertain\", \"entertainment\", \"equipment\", \"even\", \"even\", \"even\", \"even\", \"every\", \"every\", \"every\", \"every\", \"every\", \"every\", \"everyday\", \"everyday\", \"everything\", \"everything\", \"everything\", \"everything\", \"everything\", \"everything\", \"everything\", \"exactly\", \"exactly\", \"exceed\", \"excite\", \"excite\", \"exit\", \"expectation\", \"expectation\", \"expectation\", \"eye\", \"eye\", \"face\", \"factor\", \"factory\", \"fail\", \"fail\", \"fairly\", \"fairly\", \"family\", \"family\", \"family\", \"fast\", \"fast\", \"fast\", \"fast\", \"favorite\", \"favorite\", \"favorite\", \"favorite\", \"feature\", \"feature\", \"feature\", \"feature\", \"feature\", \"feature\", \"feature\", \"feature\", \"feature\", \"fight\", \"filter\", \"fire\", \"fire\", \"fire\", \"fire\", \"fire\", \"fire\", \"firends\", \"fit\", \"fit\", \"fit\", \"flight\", \"foam\", \"follow\", \"form\", \"four\", \"friend\", \"friend\", \"friend\", \"friend\", \"friendly\", \"friendly\", \"friendly\", \"friendly\", \"fun\", \"fun\", \"fun\", \"fun\", \"game\", \"game\", \"game\", \"game\", \"general\", \"get\", \"get\", \"get\", \"get\", \"get\", \"get\", \"get\", \"get\", \"gift\", \"gift\", \"gift\", \"girl\", \"girl\", \"give\", \"give\", \"give\", \"give\", \"give\", \"give\", \"give\", \"give\", \"glare\", \"glass\", \"glitch\", \"go\", \"go\", \"go\", \"go\", \"go\", \"go\", \"go\", \"go\", \"good\", \"good\", \"good\", \"good\", \"good\", \"good\", \"good\", \"good\", \"good\", \"google\", \"google\", \"grab\", \"grand\", \"grandchild\", \"grandchild\", \"granddaughter\", \"grandkids\", \"grandkids\", \"grandkids\", \"grandkids\", \"grandma\", \"grandson\", \"great\", \"great\", \"great\", \"great\", \"great\", \"great\", \"great\", \"great\", \"greatly\", \"guarantee\", \"hand\", \"hand\", \"hand\", \"hand\", \"handle\", \"handle\", \"handle\", \"happy\", \"happy\", \"happy\", \"happy\", \"happy\", \"happy\", \"happy\", \"hardware\", \"hate\", \"hd\", \"hd\", \"hdx\", \"help\", \"help\", \"help\", \"help\", \"help\", \"help\", \"highly\", \"hold\", \"hold\", \"hold\", \"hold\", \"home\", \"home\", \"hook\", \"hook\", \"hope\", \"hope\", \"house\", \"house\", \"house\", \"hub\", \"hue\", \"hundred\", \"im\", \"image\", \"immediately\", \"impossible\", \"improvement\", \"improvement\", \"improvement\", \"inch\", \"inch\", \"initially\", \"instal\", \"instal\", \"instal\", \"integration\", \"interactive\", \"interest\", \"interest\", \"interface\", \"internet\", \"internet\", \"internet\", \"internet\", \"ipad\", \"ipad\", \"ipad\", \"ipad\", \"iphone\", \"iphone\", \"issue\", \"issue\", \"issue\", \"issue\", \"item\", \"item\", \"item\", \"item\", \"item\", \"item\", \"jealous\", \"joke\", \"junk\", \"keep\", \"keep\", \"keep\", \"keep\", \"keep\", \"keep\", \"keep\", \"keep\", \"kid\", \"kid\", \"kid\", \"kid\", \"kid\", \"kinde\", \"kindle\", \"kindle\", \"kindle\", \"kindle\", \"kindle\", \"kindle\", \"kindle\", \"kitchen\", \"knowledgeable\", \"lack\", \"lack\", \"laptop\", \"laptop\", \"laptop\", \"last\", \"last\", \"last\", \"law\", \"law\", \"learn\", \"learn\", \"learn\", \"learn\", \"letter\", \"library\", \"library\", \"library\", \"library\", \"life\", \"life\", \"life\", \"light\", \"light\", \"light\", \"lightbulb\", \"lightweight\", \"like\", \"like\", \"like\", \"like\", \"like\", \"like\", \"like\", \"like\", \"limit\", \"limit\", \"limit\", \"limit\", \"listen\", \"listen\", \"little\", \"little\", \"little\", \"little\", \"little\", \"little\", \"little\", \"load\", \"load\", \"load\", \"lock\", \"lock\", \"lock\", \"long\", \"long\", \"long\", \"long\", \"long\", \"long\", \"long\", \"long\", \"look\", \"look\", \"look\", \"look\", \"look\", \"look\", \"look\", \"look\", \"lot\", \"lot\", \"lot\", \"lot\", \"lot\", \"lot\", \"lot\", \"lot\", \"loud\", \"love\", \"love\", \"love\", \"love\", \"love\", \"love\", \"lyric\", \"magazine\", \"make\", \"make\", \"make\", \"make\", \"make\", \"make\", \"make\", \"manual\", \"many\", \"many\", \"many\", \"many\", \"many\", \"market\", \"market\", \"market\", \"medium\", \"medium\", \"meet\", \"meet\", \"memory\", \"memory\", \"micro\", \"mind\", \"mind\", \"mini\", \"mini\", \"minor\", \"model\", \"model\", \"mom\", \"mom\", \"money\", \"money\", \"money\", \"money\", \"money\", \"mostly\", \"mostly\", \"mostly\", \"mother\", \"movie\", \"movie\", \"movie\", \"movie\", \"movie\", \"much\", \"much\", \"much\", \"much\", \"much\", \"much\", \"much\", \"much\", \"music\", \"nabi\", \"navigate\", \"navigate\", \"navigate\", \"nd\", \"neat\", \"need\", \"need\", \"need\", \"need\", \"need\", \"need\", \"needle\", \"netflix\", \"netflix\", \"network\", \"network\", \"never\", \"never\", \"never\", \"new\", \"new\", \"new\", \"new\", \"new\", \"new\", \"new\", \"new\", \"news\", \"nice\", \"nice\", \"nice\", \"nice\", \"nice\", \"niece\", \"night\", \"night\", \"non\", \"nothing\", \"nothing\", \"nothing\", \"nothing\", \"nothing\", \"oasis\", \"often\", \"often\", \"okay\", \"old\", \"old\", \"old\", \"old\", \"one\", \"one\", \"one\", \"one\", \"one\", \"one\", \"one\", \"one\", \"onto\", \"operation\", \"order\", \"order\", \"order\", \"order\", \"original\", \"original\", \"page\", \"page\", \"paper\", \"paperwhite\", \"paperwhite\", \"parental\", \"pas\", \"perfect\", \"perfect\", \"perfect\", \"perfect\", \"perfect\", \"perfect\", \"perfect\", \"perform\", \"perform\", \"period\", \"person\", \"person\", \"person\", \"philip\", \"pic\", \"pick\", \"pick\", \"picture\", \"picture\", \"picture\", \"piece\", \"piece\", \"pink\", \"play\", \"play\", \"play\", \"play\", \"playstore\", \"plus\", \"plus\", \"plus\", \"plus\", \"pocket\", \"port\", \"portability\", \"portability\", \"position\", \"present\", \"present\", \"pretty\", \"pretty\", \"pretty\", \"previous\", \"previous\", \"previously\", \"previously\", \"price\", \"price\", \"price\", \"price\", \"prime\", \"prime\", \"prime\", \"prior\", \"problem\", \"problem\", \"problem\", \"problem\", \"problem\", \"problem\", \"problem\", \"problem\", \"processor\", \"product\", \"product\", \"product\", \"product\", \"product\", \"product\", \"product\", \"profile\", \"profile\", \"proprietary\", \"protect\", \"protect\", \"protect\", \"protection\", \"purchase\", \"purchase\", \"purchase\", \"purchase\", \"purchase\", \"purchase\", \"purchase\", \"purchase\", \"purse\", \"push\", \"quality\", \"quality\", \"quality\", \"quality\", \"quality\", \"question\", \"question\", \"quick\", \"quick\", \"read\", \"read\", \"reader\", \"reader\", \"real\", \"real\", \"real\", \"really\", \"really\", \"really\", \"really\", \"really\", \"really\", \"really\", \"really\", \"reccomend\", \"recharge\", \"recipe\", \"recipient\", \"recommend\", \"recommend\", \"red\", \"reduce\", \"register\", \"register\", \"register\", \"remember\", \"rep\", \"replace\", \"replace\", \"replace\", \"replace\", \"replacement\", \"replacement\", \"replacement\", \"reply\", \"reset\", \"resolution\", \"resolution\", \"resolve\", \"restriction\", \"review\", \"review\", \"review\", \"review\", \"ring\", \"rock\", \"room\", \"room\", \"room\", \"room\", \"safety\", \"sale\", \"sale\", \"sale\", \"sale\", \"sale\", \"schedule\", \"school\", \"school\", \"school\", \"school\", \"screen\", \"screen\", \"screen\", \"screen\", \"screen\", \"screen\", \"screen\", \"sd\", \"sd\", \"seamlessly\", \"second\", \"second\", \"second\", \"second\", \"see\", \"see\", \"see\", \"see\", \"see\", \"see\", \"seem\", \"seem\", \"seem\", \"seem\", \"seem\", \"selection\", \"senior\", \"sense\", \"sense\", \"separate\", \"serf\", \"service\", \"service\", \"service\", \"set\", \"set\", \"set\", \"set\", \"set\", \"set\", \"set\", \"shade\", \"shes\", \"short\", \"show\", \"show\", \"show\", \"show\", \"simple\", \"simple\", \"simple\", \"simple\", \"siri\", \"sister\", \"sister\", \"size\", \"size\", \"size\", \"size\", \"skype\", \"slot\", \"slow\", \"slow\", \"slow\", \"small\", \"small\", \"small\", \"small\", \"small\", \"smart\", \"smartphone\", \"smooth\", \"social\", \"someone\", \"someone\", \"someone\", \"someone\", \"son\", \"son\", \"son\", \"song\", \"sound\", \"sound\", \"sound\", \"speaker\", \"speaker\", \"speaker\", \"special\", \"special\", \"spectacular\", \"speed\", \"speed\", \"spend\", \"spend\", \"spouse\", \"standard\", \"star\", \"star\", \"star\", \"star\", \"star\", \"store\", \"store\", \"store\", \"store\", \"straight\", \"strain\", \"suck\", \"suit\", \"sun\", \"sunlight\", \"superb\", \"support\", \"support\", \"support\", \"surf\", \"surf\", \"surf\", \"surprisingly\", \"switch\", \"switch\", \"tablet\", \"tablet\", \"tablet\", \"tablet\", \"tablet\", \"tablet\", \"tablet\", \"tablet\", \"tag\", \"take\", \"take\", \"take\", \"take\", \"take\", \"take\", \"tap\", \"tap\", \"task\", \"teenage\", \"tell\", \"tell\", \"tell\", \"th\", \"th\", \"thing\", \"thing\", \"thing\", \"thing\", \"thing\", \"thing\", \"thing\", \"thing\", \"third\", \"third\", \"tho\", \"three\", \"time\", \"time\", \"time\", \"time\", \"time\", \"time\", \"time\", \"time\", \"tip\", \"tire\", \"tough\", \"travel\", \"travel\", \"travel\", \"trouble\", \"try\", \"try\", \"try\", \"try\", \"tube\", \"turn\", \"turn\", \"turn\", \"unbelievable\", \"underground\", \"understand\", \"understand\", \"understand\", \"understatement\", \"update\", \"update\", \"update\", \"update\", \"update\", \"upgrade\", \"upgrade\", \"upgrade\", \"upgrade\", \"upon\", \"upstairs\", \"us\", \"us\", \"us\", \"use\", \"use\", \"use\", \"use\", \"use\", \"use\", \"use\", \"useless\", \"user\", \"user\", \"user\", \"user\", \"user\", \"variety\", \"variety\", \"version\", \"version\", \"version\", \"version\", \"video\", \"video\", \"video\", \"video\", \"visual\", \"voice\", \"voyage\", \"w\", \"want\", \"want\", \"want\", \"want\", \"want\", \"want\", \"want\", \"want\", \"warranty\", \"warranty\", \"watch\", \"watch\", \"watch\", \"watch\", \"watch\", \"weather\", \"web\", \"web\", \"web\", \"web\", \"weight\", \"weight\", \"well\", \"well\", \"well\", \"well\", \"well\", \"well\", \"well\", \"wife\", \"wife\", \"wife\", \"wife\", \"wind\", \"work\", \"work\", \"work\", \"work\", \"work\", \"work\", \"work\", \"work\", \"worth\", \"worth\", \"worth\", \"worth\", \"would\", \"would\", \"would\", \"would\", \"would\", \"would\", \"would\", \"would\", \"would\", \"write\", \"wrong\", \"wrong\", \"xbox\", \"year\", \"year\", \"year\", \"year\", \"young\", \"young\", \"yr\"]}, \"R\": 30, \"lambda.step\": 0.01, \"plot.opts\": {\"xlab\": \"PC1\", \"ylab\": \"PC2\"}, \"topic.order\": [3, 5, 9, 8, 1, 4, 2, 7, 6]};\n",
       "\n",
       "function LDAvis_load_lib(url, callback){\n",
       "  var s = document.createElement('script');\n",
       "  s.src = url;\n",
       "  s.async = true;\n",
       "  s.onreadystatechange = s.onload = callback;\n",
       "  s.onerror = function(){console.warn(\"failed to load library \" + url);};\n",
       "  document.getElementsByTagName(\"head\")[0].appendChild(s);\n",
       "}\n",
       "\n",
       "if(typeof(LDAvis) !== \"undefined\"){\n",
       "   // already loaded: just create the visualization\n",
       "   !function(LDAvis){\n",
       "       new LDAvis(\"#\" + \"ldavis_el2160426489122925526744867588\", ldavis_el2160426489122925526744867588_data);\n",
       "   }(LDAvis);\n",
       "}else if(typeof define === \"function\" && define.amd){\n",
       "   // require.js is available: use it to load d3/LDAvis\n",
       "   require.config({paths: {d3: \"https://d3js.org/d3.v5\"}});\n",
       "   require([\"d3\"], function(d3){\n",
       "      window.d3 = d3;\n",
       "      LDAvis_load_lib(\"https://cdn.jsdelivr.net/gh/bmabey/pyLDAvis@3.3.1/pyLDAvis/js/ldavis.v3.0.0.js\", function(){\n",
       "        new LDAvis(\"#\" + \"ldavis_el2160426489122925526744867588\", ldavis_el2160426489122925526744867588_data);\n",
       "      });\n",
       "    });\n",
       "}else{\n",
       "    // require.js not available: dynamically load d3 & LDAvis\n",
       "    LDAvis_load_lib(\"https://d3js.org/d3.v5.js\", function(){\n",
       "         LDAvis_load_lib(\"https://cdn.jsdelivr.net/gh/bmabey/pyLDAvis@3.3.1/pyLDAvis/js/ldavis.v3.0.0.js\", function(){\n",
       "                 new LDAvis(\"#\" + \"ldavis_el2160426489122925526744867588\", ldavis_el2160426489122925526744867588_data);\n",
       "            })\n",
       "         });\n",
       "}\n",
       "</script>"
      ],
      "text/plain": [
       "PreparedData(topic_coordinates=              x         y  topics  cluster       Freq\n",
       "topic                                                \n",
       "2      0.060069  0.033729       1        1  24.890787\n",
       "4      0.064557 -0.022378       2        1  15.396722\n",
       "8      0.079615  0.075145       3        1  13.176244\n",
       "7     -0.243100  0.037995       4        1  11.234406\n",
       "0      0.005824 -0.089727       5        1   9.348219\n",
       "3      0.181009  0.129688       6        1   8.620606\n",
       "1     -0.132904  0.163153       7        1   7.097493\n",
       "6      0.014514 -0.187941       8        1   6.035642\n",
       "5     -0.029585 -0.139663       9        1   4.199881, topic_info=       Term         Freq        Total Category  logprob  loglift\n",
       "343    read   506.000000   506.000000  Default  30.0000  30.0000\n",
       "94      buy   864.000000   864.000000  Default  29.0000  29.0000\n",
       "114    book   360.000000   360.000000  Default  28.0000  28.0000\n",
       "33   tablet  1111.000000  1111.000000  Default  27.0000  27.0000\n",
       "197    easy   691.000000   691.000000  Default  26.0000  26.0000\n",
       "..      ...          ...          ...      ...      ...      ...\n",
       "201     set    17.315934   279.342188   Topic9  -4.9835   0.3893\n",
       "434     big    15.565143    99.702625   Topic9  -5.0901   1.3130\n",
       "92     good    17.203452   750.735150   Topic9  -4.9900  -0.6058\n",
       "179    love    17.240815  1251.472793   Topic9  -4.9879  -1.1147\n",
       "83    would    15.998733   367.679026   Topic9  -5.0626   0.0354\n",
       "\n",
       "[641 rows x 6 columns], token_table=      Topic      Freq        Term\n",
       "term                             \n",
       "405       1  0.105790  absolutely\n",
       "405       3  0.881583  absolutely\n",
       "1         1  0.064740      access\n",
       "1         2  0.372253      access\n",
       "1         7  0.145664      access\n",
       "...     ...       ...         ...\n",
       "153       5  0.048067        year\n",
       "153       9  0.009613        year\n",
       "780       2  0.101270       young\n",
       "780       3  0.877673       young\n",
       "515       3  0.984565          yr\n",
       "\n",
       "[1233 rows x 3 columns], R=30, lambda_step=0.01, plot_opts={'xlab': 'PC1', 'ylab': 'PC2'}, topic_order=[3, 5, 9, 8, 1, 4, 2, 7, 6])"
      ]
     },
     "execution_count": 74,
     "metadata": {},
     "output_type": "execute_result"
    }
   ],
   "source": [
    "pyLDAvis.enable_notebook()\n",
    "vis = gensimvis.prepare(lda,corpus,id2word)\n",
    "vis"
   ]
  },
  {
   "cell_type": "code",
   "execution_count": 86,
   "metadata": {},
   "outputs": [],
   "source": [
    "from sklearn.decomposition import NMF"
   ]
  },
  {
   "cell_type": "code",
   "execution_count": 87,
   "metadata": {},
   "outputs": [],
   "source": [
    "tfidf = TfidfVectorizer()\n",
    "tfidf_vectors = tfidf.fit_transform(train_data['preprocessed_reviews'])"
   ]
  },
  {
   "cell_type": "code",
   "execution_count": 88,
   "metadata": {},
   "outputs": [],
   "source": [
    "clf = NMF(n_components=9)\n",
    "W1 = clf.fit_transform(tfidf_vectors)\n",
    "H1 = clf.components_"
   ]
  },
  {
   "cell_type": "code",
   "execution_count": 109,
   "metadata": {},
   "outputs": [
    {
     "data": {
      "text/plain": [
       "array([[0.01449807, 0.00151497, 0.08581705, ..., 0.01411392, 0.        ,\n",
       "        0.01939184],\n",
       "       [0.07411518, 0.00711464, 0.        , ..., 0.03347694, 0.00409665,\n",
       "        0.        ],\n",
       "       [0.0593265 , 0.        , 0.        , ..., 0.        , 0.0008855 ,\n",
       "        0.00019458],\n",
       "       ...,\n",
       "       [0.03763963, 0.00053826, 0.00603376, ..., 0.0038671 , 0.        ,\n",
       "        0.00246975],\n",
       "       [0.01060079, 0.00773378, 0.09380115, ..., 0.01490207, 0.0046367 ,\n",
       "        0.0048319 ],\n",
       "       [0.        , 0.        , 0.10221353, ..., 0.        , 0.        ,\n",
       "        0.        ]])"
      ]
     },
     "execution_count": 109,
     "metadata": {},
     "output_type": "execute_result"
    }
   ],
   "source": [
    "W1"
   ]
  },
  {
   "cell_type": "code",
   "execution_count": 97,
   "metadata": {},
   "outputs": [
    {
     "data": {
      "text/plain": [
       "array([[0.00000000e+00, 6.68754107e-02, 2.35794727e-01, ...,\n",
       "        4.13068421e-04, 0.00000000e+00, 0.00000000e+00],\n",
       "       [4.94552665e-04, 6.11494567e-03, 1.27910064e-02, ...,\n",
       "        0.00000000e+00, 7.11181090e-04, 0.00000000e+00],\n",
       "       [4.84565186e-03, 5.91602513e-03, 1.26578591e-02, ...,\n",
       "        8.55385143e-04, 2.81642341e-04, 0.00000000e+00],\n",
       "       ...,\n",
       "       [2.05226531e-03, 0.00000000e+00, 1.18821083e-02, ...,\n",
       "        0.00000000e+00, 0.00000000e+00, 0.00000000e+00],\n",
       "       [1.21376081e-04, 1.91928177e-02, 4.47188430e-02, ...,\n",
       "        0.00000000e+00, 0.00000000e+00, 0.00000000e+00],\n",
       "       [7.84909693e-03, 4.41928516e-03, 1.27333999e-02, ...,\n",
       "        0.00000000e+00, 7.68100616e-03, 0.00000000e+00]])"
      ]
     },
     "execution_count": 97,
     "metadata": {},
     "output_type": "execute_result"
    }
   ],
   "source": [
    "H1"
   ]
  },
  {
   "cell_type": "code",
   "execution_count": 106,
   "metadata": {},
   "outputs": [],
   "source": [
    "vocab = np.array(tfidf.get_feature_names())\n",
    "a = np.argsort(H1)\n",
    "topic_words = [vocab[i] for i in a[:,-20:]]\n",
    "topics = [' '.join(t) for t in topic_words]"
   ]
  },
  {
   "cell_type": "code",
   "execution_count": 107,
   "metadata": {},
   "outputs": [
    {
     "data": {
      "text/plain": [
       "['thing see speaker ask like screen good light dot smart plus device video sound amazon home music show alexa echo',\n",
       " 'last happy replace enjoy boy durable drop get tablet operate game buy granddaughter son yr purchase perfect grandson year old',\n",
       " 'like hd look quality basic purchase size would little perfect fast apps fire child nice amazon need price good tablet',\n",
       " 'even problem mom box learn day light lot really simple item navigate purchase super fun setup product set use easy',\n",
       " 'make life good upgrade game device hd battery reader go much new screen size light like fire book read kindle',\n",
       " 'feature life addition deal battery camera item friend value quality anyone highly sound well would recommend price work product great',\n",
       " 'mom second recommend enjoy family replace give want another much happy purchase would wife best get christmas gift one buy',\n",
       " 'grand much grandkids age alexa keep everything niece gift awesome nephew wife birthday purchase grandson granddaughter absolutely son daughter love',\n",
       " 'entertain really control parental also take watch friendly free fun enjoy get time video learn lot apps play game kid']"
      ]
     },
     "execution_count": 107,
     "metadata": {},
     "output_type": "execute_result"
    }
   ],
   "source": [
    "topics"
   ]
  },
  {
   "cell_type": "code",
   "execution_count": 116,
   "metadata": {},
   "outputs": [
    {
     "data": {
      "text/html": [
       "<div>\n",
       "<style scoped>\n",
       "    .dataframe tbody tr th:only-of-type {\n",
       "        vertical-align: middle;\n",
       "    }\n",
       "\n",
       "    .dataframe tbody tr th {\n",
       "        vertical-align: top;\n",
       "    }\n",
       "\n",
       "    .dataframe thead th {\n",
       "        text-align: right;\n",
       "    }\n",
       "</style>\n",
       "<table border=\"1\" class=\"dataframe\">\n",
       "  <thead>\n",
       "    <tr style=\"text-align: right;\">\n",
       "      <th></th>\n",
       "      <th>Topic0</th>\n",
       "      <th>Topic1</th>\n",
       "      <th>Topic2</th>\n",
       "      <th>Topic3</th>\n",
       "      <th>Topic4</th>\n",
       "      <th>Topic5</th>\n",
       "      <th>Topic6</th>\n",
       "      <th>Topic7</th>\n",
       "      <th>Topic8</th>\n",
       "      <th>significant_topic</th>\n",
       "    </tr>\n",
       "  </thead>\n",
       "  <tbody>\n",
       "    <tr>\n",
       "      <th>doc0</th>\n",
       "      <td>0.01</td>\n",
       "      <td>0.00</td>\n",
       "      <td>0.09</td>\n",
       "      <td>0.00</td>\n",
       "      <td>0.01</td>\n",
       "      <td>0.04</td>\n",
       "      <td>0.01</td>\n",
       "      <td>0.00</td>\n",
       "      <td>0.02</td>\n",
       "      <td>2</td>\n",
       "    </tr>\n",
       "    <tr>\n",
       "      <th>doc1</th>\n",
       "      <td>0.07</td>\n",
       "      <td>0.01</td>\n",
       "      <td>0.00</td>\n",
       "      <td>0.01</td>\n",
       "      <td>0.01</td>\n",
       "      <td>0.00</td>\n",
       "      <td>0.03</td>\n",
       "      <td>0.00</td>\n",
       "      <td>0.00</td>\n",
       "      <td>0</td>\n",
       "    </tr>\n",
       "    <tr>\n",
       "      <th>doc2</th>\n",
       "      <td>0.06</td>\n",
       "      <td>0.00</td>\n",
       "      <td>0.00</td>\n",
       "      <td>0.00</td>\n",
       "      <td>0.01</td>\n",
       "      <td>0.00</td>\n",
       "      <td>0.00</td>\n",
       "      <td>0.00</td>\n",
       "      <td>0.00</td>\n",
       "      <td>0</td>\n",
       "    </tr>\n",
       "    <tr>\n",
       "      <th>doc3</th>\n",
       "      <td>0.01</td>\n",
       "      <td>0.00</td>\n",
       "      <td>0.14</td>\n",
       "      <td>0.00</td>\n",
       "      <td>0.01</td>\n",
       "      <td>0.06</td>\n",
       "      <td>0.00</td>\n",
       "      <td>0.00</td>\n",
       "      <td>0.00</td>\n",
       "      <td>2</td>\n",
       "    </tr>\n",
       "    <tr>\n",
       "      <th>doc4</th>\n",
       "      <td>0.00</td>\n",
       "      <td>0.01</td>\n",
       "      <td>0.05</td>\n",
       "      <td>0.00</td>\n",
       "      <td>0.00</td>\n",
       "      <td>0.00</td>\n",
       "      <td>0.14</td>\n",
       "      <td>0.00</td>\n",
       "      <td>0.01</td>\n",
       "      <td>6</td>\n",
       "    </tr>\n",
       "    <tr>\n",
       "      <th>...</th>\n",
       "      <td>...</td>\n",
       "      <td>...</td>\n",
       "      <td>...</td>\n",
       "      <td>...</td>\n",
       "      <td>...</td>\n",
       "      <td>...</td>\n",
       "      <td>...</td>\n",
       "      <td>...</td>\n",
       "      <td>...</td>\n",
       "      <td>...</td>\n",
       "    </tr>\n",
       "    <tr>\n",
       "      <th>doc3995</th>\n",
       "      <td>0.02</td>\n",
       "      <td>0.00</td>\n",
       "      <td>0.00</td>\n",
       "      <td>0.00</td>\n",
       "      <td>0.00</td>\n",
       "      <td>0.00</td>\n",
       "      <td>0.02</td>\n",
       "      <td>0.00</td>\n",
       "      <td>0.03</td>\n",
       "      <td>8</td>\n",
       "    </tr>\n",
       "    <tr>\n",
       "      <th>doc3996</th>\n",
       "      <td>0.00</td>\n",
       "      <td>0.00</td>\n",
       "      <td>0.00</td>\n",
       "      <td>0.00</td>\n",
       "      <td>0.15</td>\n",
       "      <td>0.06</td>\n",
       "      <td>0.00</td>\n",
       "      <td>0.04</td>\n",
       "      <td>0.00</td>\n",
       "      <td>4</td>\n",
       "    </tr>\n",
       "    <tr>\n",
       "      <th>doc3997</th>\n",
       "      <td>0.04</td>\n",
       "      <td>0.00</td>\n",
       "      <td>0.01</td>\n",
       "      <td>0.02</td>\n",
       "      <td>0.01</td>\n",
       "      <td>0.02</td>\n",
       "      <td>0.00</td>\n",
       "      <td>0.00</td>\n",
       "      <td>0.00</td>\n",
       "      <td>0</td>\n",
       "    </tr>\n",
       "    <tr>\n",
       "      <th>doc3998</th>\n",
       "      <td>0.01</td>\n",
       "      <td>0.01</td>\n",
       "      <td>0.09</td>\n",
       "      <td>0.00</td>\n",
       "      <td>0.04</td>\n",
       "      <td>0.00</td>\n",
       "      <td>0.01</td>\n",
       "      <td>0.00</td>\n",
       "      <td>0.00</td>\n",
       "      <td>2</td>\n",
       "    </tr>\n",
       "    <tr>\n",
       "      <th>doc3999</th>\n",
       "      <td>0.00</td>\n",
       "      <td>0.00</td>\n",
       "      <td>0.10</td>\n",
       "      <td>0.00</td>\n",
       "      <td>0.00</td>\n",
       "      <td>0.00</td>\n",
       "      <td>0.00</td>\n",
       "      <td>0.00</td>\n",
       "      <td>0.00</td>\n",
       "      <td>2</td>\n",
       "    </tr>\n",
       "  </tbody>\n",
       "</table>\n",
       "<p>4000 rows × 10 columns</p>\n",
       "</div>"
      ],
      "text/plain": [
       "         Topic0  Topic1  Topic2  Topic3  Topic4  Topic5  Topic6  Topic7  \\\n",
       "doc0       0.01    0.00    0.09    0.00    0.01    0.04    0.01    0.00   \n",
       "doc1       0.07    0.01    0.00    0.01    0.01    0.00    0.03    0.00   \n",
       "doc2       0.06    0.00    0.00    0.00    0.01    0.00    0.00    0.00   \n",
       "doc3       0.01    0.00    0.14    0.00    0.01    0.06    0.00    0.00   \n",
       "doc4       0.00    0.01    0.05    0.00    0.00    0.00    0.14    0.00   \n",
       "...         ...     ...     ...     ...     ...     ...     ...     ...   \n",
       "doc3995    0.02    0.00    0.00    0.00    0.00    0.00    0.02    0.00   \n",
       "doc3996    0.00    0.00    0.00    0.00    0.15    0.06    0.00    0.04   \n",
       "doc3997    0.04    0.00    0.01    0.02    0.01    0.02    0.00    0.00   \n",
       "doc3998    0.01    0.01    0.09    0.00    0.04    0.00    0.01    0.00   \n",
       "doc3999    0.00    0.00    0.10    0.00    0.00    0.00    0.00    0.00   \n",
       "\n",
       "         Topic8  significant_topic  \n",
       "doc0       0.02                  2  \n",
       "doc1       0.00                  0  \n",
       "doc2       0.00                  0  \n",
       "doc3       0.00                  2  \n",
       "doc4       0.01                  6  \n",
       "...         ...                ...  \n",
       "doc3995    0.03                  8  \n",
       "doc3996    0.00                  4  \n",
       "doc3997    0.00                  0  \n",
       "doc3998    0.00                  2  \n",
       "doc3999    0.00                  2  \n",
       "\n",
       "[4000 rows x 10 columns]"
      ]
     },
     "execution_count": 116,
     "metadata": {},
     "output_type": "execute_result"
    }
   ],
   "source": [
    "colnames = ['Topic'+str(i) for i in range(9)]\n",
    "docnames = ['doc'+str(i) for i in range(tfidf_vectors.shape[0])]\n",
    "df_doc_topic = pd.DataFrame(np.round(W1,2),columns=colnames,index=docnames)\n",
    "df_doc_topic['significant_topic'] = np.argmax(df_doc_topic.values,axis=1)\n",
    "df_doc_topic"
   ]
  },
  {
   "cell_type": "code",
   "execution_count": 127,
   "metadata": {},
   "outputs": [
    {
     "data": {
      "image/png": "[encoded data removed]",
      "text/plain": [
       "<Figure size 720x720 with 1 Axes>"
      ]
     },
     "metadata": {},
     "output_type": "display_data"
    }
   ],
   "source": [
    "from wordcloud import WordCloud,STOPWORDS\n",
    "text = train_data['preprocessed_reviews'].values\n",
    "wc = WordCloud(width=200,height=100,stopwords=STOPWORDS,background_color='white').generate(str(text))\n",
    "fig = plt.figure(figsize=(10,10),facecolor='k',edgecolor='w')\n",
    "plt.imshow(wc,interpolation='bilinear')\n",
    "plt.axis('off')\n",
    "plt.tight_layout()\n",
    "plt.show()"
   ]
  },
  {
   "cell_type": "markdown",
   "metadata": {},
   "source": [
    "<h1>The End</h1>"
   ]
  }
 ],
 "metadata": {
  "interpreter": {
   "hash": "9981d290a0d0ca1aef6051708771ebc654a420c1d8091c9d1e733973909ae3dc"
  },
  "kernelspec": {
   "display_name": "Python 3.7.10 64-bit ('myenv': conda)",
   "language": "python",
   "name": "python3"
  },
  "language_info": {
   "codemirror_mode": {
    "name": "ipython",
    "version": 3
   },
   "file_extension": ".py",
   "mimetype": "text/x-python",
   "name": "python",
   "nbconvert_exporter": "python",
   "pygments_lexer": "ipython3",
   "version": "3.7.10"
  },
  "orig_nbformat": 4
 },
 "nbformat": 4,
 "nbformat_minor": 2
}
